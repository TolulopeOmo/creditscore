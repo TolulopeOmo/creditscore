{
  "nbformat": 4,
  "nbformat_minor": 0,
  "metadata": {
    "colab": {
      "name": "creditscore.ipynb",
      "provenance": [],
      "collapsed_sections": [
        "DOoqo0bXCTba",
        "uOpwv7iICTbe",
        "r5O-LZITCTbk",
        "tmgFQ3U2CTbl",
        "6ZAHrlotCTbm",
        "IHAzD_3xCTbn",
        "RGzgNtSNCTbo",
        "CKmiNdj1CTb2",
        "J6QoMBktCTb4",
        "9BLSXQVjCTb4",
        "yKIvGuoRCTb7",
        "QuM78ooigX6p",
        "bG5x9kOavnXc"
      ]
    },
    "kernelspec": {
      "display_name": "Python 3",
      "name": "python3"
    }
  },
  "cells": [
    {
      "cell_type": "code",
      "metadata": {
        "colab": {
          "base_uri": "https://localhost:8080/"
        },
        "id": "Vu9aNyeKDJyU",
        "outputId": "ea6e6218-1eb2-4b87-c249-89ac885f2073"
      },
      "source": [
        "from google.colab import drive\n",
        "drive.mount('/content/drive')"
      ],
      "execution_count": 4,
      "outputs": [
        {
          "output_type": "stream",
          "name": "stdout",
          "text": [
            "Drive already mounted at /content/drive; to attempt to forcibly remount, call drive.mount(\"/content/drive\", force_remount=True).\n"
          ]
        }
      ]
    },
    {
      "cell_type": "markdown",
      "metadata": {
        "id": "G4JXU75fCTa6"
      },
      "source": [
        "**Prepare Problem**"
      ]
    },
    {
      "cell_type": "markdown",
      "metadata": {
        "id": "xlSX7gCF1Y1T"
      },
      "source": [
        "This Business problem span accross the world and its a major issue globally. Its has made Financial institution go bankcrupt as a case of 2008 in the USA.Bank and other Financial institution  provide funds for potential borrowers and in reture earn a profit depending on the risk they take (the borrowers credit score). They provides loan to their loyal customers. The purpose of this work is to combine Machine learning Intution across customer available data such as credit score gotten from a reliable organisation. This dataset is gotten from Kaggle and its for learning purposes. I dont have any intention for Plagiarism any data."
      ]
    },
    {
      "cell_type": "markdown",
      "metadata": {
        "id": "U0C3vlzt-z8T"
      },
      "source": [
        "**2. Approach to solve described problem**"
      ]
    },
    {
      "cell_type": "markdown",
      "metadata": {
        "id": "s04gvjAh8wCq"
      },
      "source": [
        " There are over 100,000 data available for analysis. Two algorithm will be used for evaluation Logistic Regression and Random Forest classifier. we will select one that best suit the given data which will be evaluated based on their AUC score\n",
        "\n",
        "AUC(Area under curve) score represents degree or measure of separability. It tells how much model is capable of distinguishing between classes. Higher the AUC, better the model is at predicting 0s as 0s and 1s as 1s or probabiity. For this problem we will  predit probability. The reason for predicting probability is give the company a range of score for each customer which will be use for **Risk Management**"
      ]
    },
    {
      "cell_type": "markdown",
      "metadata": {
        "id": "pgx90sz7_Sj5"
      },
      "source": [
        "**3. What result we need**"
      ]
    },
    {
      "cell_type": "markdown",
      "metadata": {
        "id": "j0HlhVtM_ZNo"
      },
      "source": [
        "1. Check in the data is imbalance and use SMOTE technique to see if this solove the problem\n",
        "\n",
        "2. Convert Loan Status column to binary in order to use as our Dependent variable \n",
        "\n",
        "3. Metric for each classifier: AUC score, precision and recall "
      ]
    },
    {
      "cell_type": "markdown",
      "metadata": {
        "id": "ESB4vmUt_Zym"
      },
      "source": [
        "**4. Implement solution in python**"
      ]
    },
    {
      "cell_type": "markdown",
      "metadata": {
        "id": "2Zpnz3CCCTbK"
      },
      "source": [
        "#### Load the Data"
      ]
    },
    {
      "cell_type": "markdown",
      "metadata": {
        "id": "orSBmGv1CTbL"
      },
      "source": [
        "#### Import Libraries\n",
        "* Importing all neccessary python modules, functions and objects we are going to use to solve this business problem."
      ]
    },
    {
      "cell_type": "code",
      "metadata": {
        "id": "NMYZy3bYCTbM"
      },
      "source": [
        "# Load libraries\n",
        "import numpy as np\n",
        "import matplotlib as plt\n",
        "from matplotlib import pyplot\n",
        "import pandas as pd\n",
        "import matplotlib.pyplot as plt\n",
        "import seaborn as sns\n",
        "from IPython.display import display, HTML\n",
        "pd.options.display.max_columns = None\n",
        "from pandas import set_option\n",
        "from pandas.plotting import scatter_matrix\n",
        "from sklearn.preprocessing import LabelEncoder, OneHotEncoder # To deal with Categorical Data in Target Vector.\n",
        "from sklearn.preprocessing import StandardScaler\n",
        "from sklearn.model_selection import train_test_split\n",
        "from sklearn.model_selection import KFold\n",
        "from imblearn.over_sampling import SMOTE, RandomOverSampler, BorderlineSMOTE\n",
        "from collections import Counter\n",
        "from sklearn.model_selection import cross_val_score\n",
        "from sklearn.model_selection import StratifiedKFold\n",
        "from sklearn.metrics import classification_report\n",
        "from sklearn.metrics import confusion_matrix\n",
        "from sklearn.metrics import accuracy_score\n",
        "from sklearn.linear_model import LogisticRegression\n",
        "from sklearn.ensemble import RandomForestClassifier\n"
      ],
      "execution_count": 5,
      "outputs": []
    },
    {
      "cell_type": "markdown",
      "metadata": {
        "id": "xFDZId8pCTbN"
      },
      "source": [
        "* The dataset  was gotten from Kaggle  [click here](https://www.kaggle.com/zaurbegiev/my-dataset/download) to download."
      ]
    },
    {
      "cell_type": "markdown",
      "metadata": {
        "id": "v4sR-u_wCTbO"
      },
      "source": [
        "#### 1b. Load dataset"
      ]
    },
    {
      "cell_type": "code",
      "metadata": {
        "id": "XMPskfinCTbP"
      },
      "source": [
        "train = 'credit_train.csv'\n",
        "test = 'credit_test.csv'\n",
        "train = pd.read_csv(train,  sep=',', low_memory=False)\n",
        "test = pd.read_csv(test,  sep=',', low_memory=False) "
      ],
      "execution_count": 6,
      "outputs": []
    },
    {
      "cell_type": "markdown",
      "metadata": {
        "id": "Cp9NZLHoCTbP"
      },
      "source": [
        "### Summarize the Dataset"
      ]
    },
    {
      "cell_type": "markdown",
      "metadata": {
        "id": "_td6-HmGCTbQ"
      },
      "source": [
        "In this step we are going to take a look at the data in a few different ways:\n",
        "* Dimensions of the dataset.\n",
        "* Peek at the data itself.\n",
        "* Statistical summary of all attributes.\n",
        "* Breakdown of the data by the class variable."
      ]
    },
    {
      "cell_type": "markdown",
      "metadata": {
        "id": "J0HbWxZTCTbR"
      },
      "source": [
        "#### Dimensions of Dataset"
      ]
    },
    {
      "cell_type": "code",
      "metadata": {
        "colab": {
          "base_uri": "https://localhost:8080/"
        },
        "id": "0RRgm9IqCTbR",
        "outputId": "d42f50e0-1ac0-4fba-e588-b2ed035870f4"
      },
      "source": [
        "nRow, nCol = train.shape\n",
        "print(f'There are {nRow} rows and {nCol} columns')"
      ],
      "execution_count": 7,
      "outputs": [
        {
          "output_type": "stream",
          "name": "stdout",
          "text": [
            "There are 27878 rows and 19 columns\n"
          ]
        }
      ]
    },
    {
      "cell_type": "code",
      "metadata": {
        "colab": {
          "base_uri": "https://localhost:8080/"
        },
        "id": "SbMj7YAcCTbU",
        "outputId": "3dc5d362-e511-4f9c-8e44-b01b4411da69"
      },
      "source": [
        "nRow, nCol = test.shape\n",
        "print(f'There are {nRow} rows and {nCol} columns')"
      ],
      "execution_count": 8,
      "outputs": [
        {
          "output_type": "stream",
          "name": "stdout",
          "text": [
            "There are 10353 rows and 18 columns\n"
          ]
        }
      ]
    },
    {
      "cell_type": "markdown",
      "metadata": {
        "id": "cZ4pCjxoCTbV"
      },
      "source": [
        "#### Peek at the data"
      ]
    },
    {
      "cell_type": "code",
      "metadata": {
        "colab": {
          "base_uri": "https://localhost:8080/",
          "height": 582
        },
        "id": "LvyHpwddCTbV",
        "outputId": "5311390f-8bc1-4f86-e731-1c6e751bc063"
      },
      "source": [
        "train.head()"
      ],
      "execution_count": 9,
      "outputs": [
        {
          "output_type": "execute_result",
          "data": {
            "text/plain": [
              "                                Loan ID                           Customer ID  \\\n",
              "0  14dd8831-6af5-400b-83ec-68e61888a048  981165ec-3274-42f5-a3b4-d104041a9ca9   \n",
              "1  4771cc26-131a-45db-b5aa-537ea4ba5342  2de017a3-2e01-49cb-a581-08169e83be29   \n",
              "2  4eed4e6a-aa2f-4c91-8651-ce984ee8fb26  5efb2b2b-bf11-4dfd-a572-3761a2694725   \n",
              "3  77598f7b-32e7-4e3b-a6e5-06ba0d98fe8a  e777faab-98ae-45af-9a86-7ce5b33b1011   \n",
              "4  d4062e70-befa-4995-8643-a0de73938182  81536ad9-5ccf-4eb8-befb-47a4d608658e   \n",
              "\n",
              "  Loan Status  Current Loan Amount        Term  Credit Score  Annual Income  \\\n",
              "0  Fully Paid               445412  Short Term         709.0      1167493.0   \n",
              "1  Fully Paid               262328  Short Term           NaN            NaN   \n",
              "2  Fully Paid             99999999  Short Term         741.0      2231892.0   \n",
              "3  Fully Paid               347666   Long Term         721.0       806949.0   \n",
              "4  Fully Paid               176220  Short Term           NaN            NaN   \n",
              "\n",
              "  Years in current job Home Ownership             Purpose  Monthly Debt  \\\n",
              "0              8 years  Home Mortgage   Home Improvements       5214.74   \n",
              "1            10+ years  Home Mortgage  Debt Consolidation      33295.98   \n",
              "2              8 years       Own Home  Debt Consolidation      29200.53   \n",
              "3              3 years       Own Home  Debt Consolidation       8741.90   \n",
              "4              5 years           Rent  Debt Consolidation      20639.70   \n",
              "\n",
              "   Years of Credit History  Months since last delinquent  \\\n",
              "0                     17.2                           NaN   \n",
              "1                     21.1                           8.0   \n",
              "2                     14.9                          29.0   \n",
              "3                     12.0                           NaN   \n",
              "4                      6.1                           NaN   \n",
              "\n",
              "   Number of Open Accounts  Number of Credit Problems  Current Credit Balance  \\\n",
              "0                        6                        1.0                228190.0   \n",
              "1                       35                        0.0                229976.0   \n",
              "2                       18                        1.0                297996.0   \n",
              "3                        9                        0.0                256329.0   \n",
              "4                       15                        0.0                253460.0   \n",
              "\n",
              "   Maximum Open Credit  Bankruptcies  Tax Liens  \n",
              "0             416746.0           1.0        0.0  \n",
              "1             850784.0           0.0        0.0  \n",
              "2             750090.0           0.0        0.0  \n",
              "3             386958.0           0.0        0.0  \n",
              "4             427174.0           0.0        0.0  "
            ],
            "text/html": [
              "\n",
              "  <div id=\"df-5bd00690-10fa-4bc8-bf5c-ad870d33ab4c\">\n",
              "    <div class=\"colab-df-container\">\n",
              "      <div>\n",
              "<style scoped>\n",
              "    .dataframe tbody tr th:only-of-type {\n",
              "        vertical-align: middle;\n",
              "    }\n",
              "\n",
              "    .dataframe tbody tr th {\n",
              "        vertical-align: top;\n",
              "    }\n",
              "\n",
              "    .dataframe thead th {\n",
              "        text-align: right;\n",
              "    }\n",
              "</style>\n",
              "<table border=\"1\" class=\"dataframe\">\n",
              "  <thead>\n",
              "    <tr style=\"text-align: right;\">\n",
              "      <th></th>\n",
              "      <th>Loan ID</th>\n",
              "      <th>Customer ID</th>\n",
              "      <th>Loan Status</th>\n",
              "      <th>Current Loan Amount</th>\n",
              "      <th>Term</th>\n",
              "      <th>Credit Score</th>\n",
              "      <th>Annual Income</th>\n",
              "      <th>Years in current job</th>\n",
              "      <th>Home Ownership</th>\n",
              "      <th>Purpose</th>\n",
              "      <th>Monthly Debt</th>\n",
              "      <th>Years of Credit History</th>\n",
              "      <th>Months since last delinquent</th>\n",
              "      <th>Number of Open Accounts</th>\n",
              "      <th>Number of Credit Problems</th>\n",
              "      <th>Current Credit Balance</th>\n",
              "      <th>Maximum Open Credit</th>\n",
              "      <th>Bankruptcies</th>\n",
              "      <th>Tax Liens</th>\n",
              "    </tr>\n",
              "  </thead>\n",
              "  <tbody>\n",
              "    <tr>\n",
              "      <th>0</th>\n",
              "      <td>14dd8831-6af5-400b-83ec-68e61888a048</td>\n",
              "      <td>981165ec-3274-42f5-a3b4-d104041a9ca9</td>\n",
              "      <td>Fully Paid</td>\n",
              "      <td>445412</td>\n",
              "      <td>Short Term</td>\n",
              "      <td>709.0</td>\n",
              "      <td>1167493.0</td>\n",
              "      <td>8 years</td>\n",
              "      <td>Home Mortgage</td>\n",
              "      <td>Home Improvements</td>\n",
              "      <td>5214.74</td>\n",
              "      <td>17.2</td>\n",
              "      <td>NaN</td>\n",
              "      <td>6</td>\n",
              "      <td>1.0</td>\n",
              "      <td>228190.0</td>\n",
              "      <td>416746.0</td>\n",
              "      <td>1.0</td>\n",
              "      <td>0.0</td>\n",
              "    </tr>\n",
              "    <tr>\n",
              "      <th>1</th>\n",
              "      <td>4771cc26-131a-45db-b5aa-537ea4ba5342</td>\n",
              "      <td>2de017a3-2e01-49cb-a581-08169e83be29</td>\n",
              "      <td>Fully Paid</td>\n",
              "      <td>262328</td>\n",
              "      <td>Short Term</td>\n",
              "      <td>NaN</td>\n",
              "      <td>NaN</td>\n",
              "      <td>10+ years</td>\n",
              "      <td>Home Mortgage</td>\n",
              "      <td>Debt Consolidation</td>\n",
              "      <td>33295.98</td>\n",
              "      <td>21.1</td>\n",
              "      <td>8.0</td>\n",
              "      <td>35</td>\n",
              "      <td>0.0</td>\n",
              "      <td>229976.0</td>\n",
              "      <td>850784.0</td>\n",
              "      <td>0.0</td>\n",
              "      <td>0.0</td>\n",
              "    </tr>\n",
              "    <tr>\n",
              "      <th>2</th>\n",
              "      <td>4eed4e6a-aa2f-4c91-8651-ce984ee8fb26</td>\n",
              "      <td>5efb2b2b-bf11-4dfd-a572-3761a2694725</td>\n",
              "      <td>Fully Paid</td>\n",
              "      <td>99999999</td>\n",
              "      <td>Short Term</td>\n",
              "      <td>741.0</td>\n",
              "      <td>2231892.0</td>\n",
              "      <td>8 years</td>\n",
              "      <td>Own Home</td>\n",
              "      <td>Debt Consolidation</td>\n",
              "      <td>29200.53</td>\n",
              "      <td>14.9</td>\n",
              "      <td>29.0</td>\n",
              "      <td>18</td>\n",
              "      <td>1.0</td>\n",
              "      <td>297996.0</td>\n",
              "      <td>750090.0</td>\n",
              "      <td>0.0</td>\n",
              "      <td>0.0</td>\n",
              "    </tr>\n",
              "    <tr>\n",
              "      <th>3</th>\n",
              "      <td>77598f7b-32e7-4e3b-a6e5-06ba0d98fe8a</td>\n",
              "      <td>e777faab-98ae-45af-9a86-7ce5b33b1011</td>\n",
              "      <td>Fully Paid</td>\n",
              "      <td>347666</td>\n",
              "      <td>Long Term</td>\n",
              "      <td>721.0</td>\n",
              "      <td>806949.0</td>\n",
              "      <td>3 years</td>\n",
              "      <td>Own Home</td>\n",
              "      <td>Debt Consolidation</td>\n",
              "      <td>8741.90</td>\n",
              "      <td>12.0</td>\n",
              "      <td>NaN</td>\n",
              "      <td>9</td>\n",
              "      <td>0.0</td>\n",
              "      <td>256329.0</td>\n",
              "      <td>386958.0</td>\n",
              "      <td>0.0</td>\n",
              "      <td>0.0</td>\n",
              "    </tr>\n",
              "    <tr>\n",
              "      <th>4</th>\n",
              "      <td>d4062e70-befa-4995-8643-a0de73938182</td>\n",
              "      <td>81536ad9-5ccf-4eb8-befb-47a4d608658e</td>\n",
              "      <td>Fully Paid</td>\n",
              "      <td>176220</td>\n",
              "      <td>Short Term</td>\n",
              "      <td>NaN</td>\n",
              "      <td>NaN</td>\n",
              "      <td>5 years</td>\n",
              "      <td>Rent</td>\n",
              "      <td>Debt Consolidation</td>\n",
              "      <td>20639.70</td>\n",
              "      <td>6.1</td>\n",
              "      <td>NaN</td>\n",
              "      <td>15</td>\n",
              "      <td>0.0</td>\n",
              "      <td>253460.0</td>\n",
              "      <td>427174.0</td>\n",
              "      <td>0.0</td>\n",
              "      <td>0.0</td>\n",
              "    </tr>\n",
              "  </tbody>\n",
              "</table>\n",
              "</div>\n",
              "      <button class=\"colab-df-convert\" onclick=\"convertToInteractive('df-5bd00690-10fa-4bc8-bf5c-ad870d33ab4c')\"\n",
              "              title=\"Convert this dataframe to an interactive table.\"\n",
              "              style=\"display:none;\">\n",
              "        \n",
              "  <svg xmlns=\"http://www.w3.org/2000/svg\" height=\"24px\"viewBox=\"0 0 24 24\"\n",
              "       width=\"24px\">\n",
              "    <path d=\"M0 0h24v24H0V0z\" fill=\"none\"/>\n",
              "    <path d=\"M18.56 5.44l.94 2.06.94-2.06 2.06-.94-2.06-.94-.94-2.06-.94 2.06-2.06.94zm-11 1L8.5 8.5l.94-2.06 2.06-.94-2.06-.94L8.5 2.5l-.94 2.06-2.06.94zm10 10l.94 2.06.94-2.06 2.06-.94-2.06-.94-.94-2.06-.94 2.06-2.06.94z\"/><path d=\"M17.41 7.96l-1.37-1.37c-.4-.4-.92-.59-1.43-.59-.52 0-1.04.2-1.43.59L10.3 9.45l-7.72 7.72c-.78.78-.78 2.05 0 2.83L4 21.41c.39.39.9.59 1.41.59.51 0 1.02-.2 1.41-.59l7.78-7.78 2.81-2.81c.8-.78.8-2.07 0-2.86zM5.41 20L4 18.59l7.72-7.72 1.47 1.35L5.41 20z\"/>\n",
              "  </svg>\n",
              "      </button>\n",
              "      \n",
              "  <style>\n",
              "    .colab-df-container {\n",
              "      display:flex;\n",
              "      flex-wrap:wrap;\n",
              "      gap: 12px;\n",
              "    }\n",
              "\n",
              "    .colab-df-convert {\n",
              "      background-color: #E8F0FE;\n",
              "      border: none;\n",
              "      border-radius: 50%;\n",
              "      cursor: pointer;\n",
              "      display: none;\n",
              "      fill: #1967D2;\n",
              "      height: 32px;\n",
              "      padding: 0 0 0 0;\n",
              "      width: 32px;\n",
              "    }\n",
              "\n",
              "    .colab-df-convert:hover {\n",
              "      background-color: #E2EBFA;\n",
              "      box-shadow: 0px 1px 2px rgba(60, 64, 67, 0.3), 0px 1px 3px 1px rgba(60, 64, 67, 0.15);\n",
              "      fill: #174EA6;\n",
              "    }\n",
              "\n",
              "    [theme=dark] .colab-df-convert {\n",
              "      background-color: #3B4455;\n",
              "      fill: #D2E3FC;\n",
              "    }\n",
              "\n",
              "    [theme=dark] .colab-df-convert:hover {\n",
              "      background-color: #434B5C;\n",
              "      box-shadow: 0px 1px 3px 1px rgba(0, 0, 0, 0.15);\n",
              "      filter: drop-shadow(0px 1px 2px rgba(0, 0, 0, 0.3));\n",
              "      fill: #FFFFFF;\n",
              "    }\n",
              "  </style>\n",
              "\n",
              "      <script>\n",
              "        const buttonEl =\n",
              "          document.querySelector('#df-5bd00690-10fa-4bc8-bf5c-ad870d33ab4c button.colab-df-convert');\n",
              "        buttonEl.style.display =\n",
              "          google.colab.kernel.accessAllowed ? 'block' : 'none';\n",
              "\n",
              "        async function convertToInteractive(key) {\n",
              "          const element = document.querySelector('#df-5bd00690-10fa-4bc8-bf5c-ad870d33ab4c');\n",
              "          const dataTable =\n",
              "            await google.colab.kernel.invokeFunction('convertToInteractive',\n",
              "                                                     [key], {});\n",
              "          if (!dataTable) return;\n",
              "\n",
              "          const docLinkHtml = 'Like what you see? Visit the ' +\n",
              "            '<a target=\"_blank\" href=https://colab.research.google.com/notebooks/data_table.ipynb>data table notebook</a>'\n",
              "            + ' to learn more about interactive tables.';\n",
              "          element.innerHTML = '';\n",
              "          dataTable['output_type'] = 'display_data';\n",
              "          await google.colab.output.renderOutput(dataTable, element);\n",
              "          const docLink = document.createElement('div');\n",
              "          docLink.innerHTML = docLinkHtml;\n",
              "          element.appendChild(docLink);\n",
              "        }\n",
              "      </script>\n",
              "    </div>\n",
              "  </div>\n",
              "  "
            ]
          },
          "metadata": {},
          "execution_count": 9
        }
      ]
    },
    {
      "cell_type": "code",
      "metadata": {
        "colab": {
          "base_uri": "https://localhost:8080/",
          "height": 582
        },
        "id": "vfsU_uAICTbZ",
        "outputId": "350ae3c2-93c9-4da5-8647-6e5cb9514243"
      },
      "source": [
        "test.head()"
      ],
      "execution_count": 10,
      "outputs": [
        {
          "output_type": "execute_result",
          "data": {
            "text/plain": [
              "                                Loan ID                           Customer ID  \\\n",
              "0  f738779f-c726-40dc-92cf-689d73af533d  ded0b3c3-6bf4-4091-8726-47039f2c1b90   \n",
              "1  6dcc0947-164d-476c-a1de-3ae7283dde0a  1630e6e3-34e3-461a-8fda-09297d3140c8   \n",
              "2  f7744d01-894b-49c3-8777-fc6431a2cff1  2c60938b-ad2b-4702-804d-eeca43949c52   \n",
              "3  83721ffb-b99a-4a0f-aea5-ef472a138b41  12116614-2f3c-4d16-ad34-d92883718806   \n",
              "4  08f3789f-5714-4b10-929d-e1527ab5e5a3  39888105-fd5f-4023-860a-30a3e6f5ccb7   \n",
              "\n",
              "   Current Loan Amount        Term  Credit Score  Annual Income  \\\n",
              "0             611314.0  Short Term         747.0      2074116.0   \n",
              "1             266662.0  Short Term         734.0      1919190.0   \n",
              "2             153494.0  Short Term         709.0       871112.0   \n",
              "3             176242.0  Short Term         727.0       780083.0   \n",
              "4             321992.0  Short Term         744.0      1761148.0   \n",
              "\n",
              "  Years in current job Home Ownership             Purpose  Monthly Debt  \\\n",
              "0            10+ years  Home Mortgage  Debt Consolidation      42000.83   \n",
              "1            10+ years  Home Mortgage  Debt Consolidation      36624.40   \n",
              "2              2 years           Rent  Debt Consolidation       8391.73   \n",
              "3            10+ years           Rent  Debt Consolidation      16771.87   \n",
              "4            10+ years  Home Mortgage  Debt Consolidation      39478.77   \n",
              "\n",
              "   Years of Credit History  Months since last delinquent  \\\n",
              "0                     21.8                           NaN   \n",
              "1                     19.4                           NaN   \n",
              "2                     12.5                          10.0   \n",
              "3                     16.5                          27.0   \n",
              "4                     26.0                          44.0   \n",
              "\n",
              "   Number of Open Accounts  Number of Credit Problems  Current Credit Balance  \\\n",
              "0                      9.0                        0.0                621908.0   \n",
              "1                     11.0                        0.0                679573.0   \n",
              "2                     10.0                        0.0                 38532.0   \n",
              "3                     16.0                        1.0                156940.0   \n",
              "4                     14.0                        0.0                359765.0   \n",
              "\n",
              "   Maximum Open Credit  Bankruptcies  Tax Liens  \n",
              "0            1058970.0           0.0        0.0  \n",
              "1             904442.0           0.0        0.0  \n",
              "2             388036.0           0.0        0.0  \n",
              "3             531322.0           1.0        0.0  \n",
              "4             468072.0           0.0        0.0  "
            ],
            "text/html": [
              "\n",
              "  <div id=\"df-533397f7-62b0-4c67-850f-58436616edd9\">\n",
              "    <div class=\"colab-df-container\">\n",
              "      <div>\n",
              "<style scoped>\n",
              "    .dataframe tbody tr th:only-of-type {\n",
              "        vertical-align: middle;\n",
              "    }\n",
              "\n",
              "    .dataframe tbody tr th {\n",
              "        vertical-align: top;\n",
              "    }\n",
              "\n",
              "    .dataframe thead th {\n",
              "        text-align: right;\n",
              "    }\n",
              "</style>\n",
              "<table border=\"1\" class=\"dataframe\">\n",
              "  <thead>\n",
              "    <tr style=\"text-align: right;\">\n",
              "      <th></th>\n",
              "      <th>Loan ID</th>\n",
              "      <th>Customer ID</th>\n",
              "      <th>Current Loan Amount</th>\n",
              "      <th>Term</th>\n",
              "      <th>Credit Score</th>\n",
              "      <th>Annual Income</th>\n",
              "      <th>Years in current job</th>\n",
              "      <th>Home Ownership</th>\n",
              "      <th>Purpose</th>\n",
              "      <th>Monthly Debt</th>\n",
              "      <th>Years of Credit History</th>\n",
              "      <th>Months since last delinquent</th>\n",
              "      <th>Number of Open Accounts</th>\n",
              "      <th>Number of Credit Problems</th>\n",
              "      <th>Current Credit Balance</th>\n",
              "      <th>Maximum Open Credit</th>\n",
              "      <th>Bankruptcies</th>\n",
              "      <th>Tax Liens</th>\n",
              "    </tr>\n",
              "  </thead>\n",
              "  <tbody>\n",
              "    <tr>\n",
              "      <th>0</th>\n",
              "      <td>f738779f-c726-40dc-92cf-689d73af533d</td>\n",
              "      <td>ded0b3c3-6bf4-4091-8726-47039f2c1b90</td>\n",
              "      <td>611314.0</td>\n",
              "      <td>Short Term</td>\n",
              "      <td>747.0</td>\n",
              "      <td>2074116.0</td>\n",
              "      <td>10+ years</td>\n",
              "      <td>Home Mortgage</td>\n",
              "      <td>Debt Consolidation</td>\n",
              "      <td>42000.83</td>\n",
              "      <td>21.8</td>\n",
              "      <td>NaN</td>\n",
              "      <td>9.0</td>\n",
              "      <td>0.0</td>\n",
              "      <td>621908.0</td>\n",
              "      <td>1058970.0</td>\n",
              "      <td>0.0</td>\n",
              "      <td>0.0</td>\n",
              "    </tr>\n",
              "    <tr>\n",
              "      <th>1</th>\n",
              "      <td>6dcc0947-164d-476c-a1de-3ae7283dde0a</td>\n",
              "      <td>1630e6e3-34e3-461a-8fda-09297d3140c8</td>\n",
              "      <td>266662.0</td>\n",
              "      <td>Short Term</td>\n",
              "      <td>734.0</td>\n",
              "      <td>1919190.0</td>\n",
              "      <td>10+ years</td>\n",
              "      <td>Home Mortgage</td>\n",
              "      <td>Debt Consolidation</td>\n",
              "      <td>36624.40</td>\n",
              "      <td>19.4</td>\n",
              "      <td>NaN</td>\n",
              "      <td>11.0</td>\n",
              "      <td>0.0</td>\n",
              "      <td>679573.0</td>\n",
              "      <td>904442.0</td>\n",
              "      <td>0.0</td>\n",
              "      <td>0.0</td>\n",
              "    </tr>\n",
              "    <tr>\n",
              "      <th>2</th>\n",
              "      <td>f7744d01-894b-49c3-8777-fc6431a2cff1</td>\n",
              "      <td>2c60938b-ad2b-4702-804d-eeca43949c52</td>\n",
              "      <td>153494.0</td>\n",
              "      <td>Short Term</td>\n",
              "      <td>709.0</td>\n",
              "      <td>871112.0</td>\n",
              "      <td>2 years</td>\n",
              "      <td>Rent</td>\n",
              "      <td>Debt Consolidation</td>\n",
              "      <td>8391.73</td>\n",
              "      <td>12.5</td>\n",
              "      <td>10.0</td>\n",
              "      <td>10.0</td>\n",
              "      <td>0.0</td>\n",
              "      <td>38532.0</td>\n",
              "      <td>388036.0</td>\n",
              "      <td>0.0</td>\n",
              "      <td>0.0</td>\n",
              "    </tr>\n",
              "    <tr>\n",
              "      <th>3</th>\n",
              "      <td>83721ffb-b99a-4a0f-aea5-ef472a138b41</td>\n",
              "      <td>12116614-2f3c-4d16-ad34-d92883718806</td>\n",
              "      <td>176242.0</td>\n",
              "      <td>Short Term</td>\n",
              "      <td>727.0</td>\n",
              "      <td>780083.0</td>\n",
              "      <td>10+ years</td>\n",
              "      <td>Rent</td>\n",
              "      <td>Debt Consolidation</td>\n",
              "      <td>16771.87</td>\n",
              "      <td>16.5</td>\n",
              "      <td>27.0</td>\n",
              "      <td>16.0</td>\n",
              "      <td>1.0</td>\n",
              "      <td>156940.0</td>\n",
              "      <td>531322.0</td>\n",
              "      <td>1.0</td>\n",
              "      <td>0.0</td>\n",
              "    </tr>\n",
              "    <tr>\n",
              "      <th>4</th>\n",
              "      <td>08f3789f-5714-4b10-929d-e1527ab5e5a3</td>\n",
              "      <td>39888105-fd5f-4023-860a-30a3e6f5ccb7</td>\n",
              "      <td>321992.0</td>\n",
              "      <td>Short Term</td>\n",
              "      <td>744.0</td>\n",
              "      <td>1761148.0</td>\n",
              "      <td>10+ years</td>\n",
              "      <td>Home Mortgage</td>\n",
              "      <td>Debt Consolidation</td>\n",
              "      <td>39478.77</td>\n",
              "      <td>26.0</td>\n",
              "      <td>44.0</td>\n",
              "      <td>14.0</td>\n",
              "      <td>0.0</td>\n",
              "      <td>359765.0</td>\n",
              "      <td>468072.0</td>\n",
              "      <td>0.0</td>\n",
              "      <td>0.0</td>\n",
              "    </tr>\n",
              "  </tbody>\n",
              "</table>\n",
              "</div>\n",
              "      <button class=\"colab-df-convert\" onclick=\"convertToInteractive('df-533397f7-62b0-4c67-850f-58436616edd9')\"\n",
              "              title=\"Convert this dataframe to an interactive table.\"\n",
              "              style=\"display:none;\">\n",
              "        \n",
              "  <svg xmlns=\"http://www.w3.org/2000/svg\" height=\"24px\"viewBox=\"0 0 24 24\"\n",
              "       width=\"24px\">\n",
              "    <path d=\"M0 0h24v24H0V0z\" fill=\"none\"/>\n",
              "    <path d=\"M18.56 5.44l.94 2.06.94-2.06 2.06-.94-2.06-.94-.94-2.06-.94 2.06-2.06.94zm-11 1L8.5 8.5l.94-2.06 2.06-.94-2.06-.94L8.5 2.5l-.94 2.06-2.06.94zm10 10l.94 2.06.94-2.06 2.06-.94-2.06-.94-.94-2.06-.94 2.06-2.06.94z\"/><path d=\"M17.41 7.96l-1.37-1.37c-.4-.4-.92-.59-1.43-.59-.52 0-1.04.2-1.43.59L10.3 9.45l-7.72 7.72c-.78.78-.78 2.05 0 2.83L4 21.41c.39.39.9.59 1.41.59.51 0 1.02-.2 1.41-.59l7.78-7.78 2.81-2.81c.8-.78.8-2.07 0-2.86zM5.41 20L4 18.59l7.72-7.72 1.47 1.35L5.41 20z\"/>\n",
              "  </svg>\n",
              "      </button>\n",
              "      \n",
              "  <style>\n",
              "    .colab-df-container {\n",
              "      display:flex;\n",
              "      flex-wrap:wrap;\n",
              "      gap: 12px;\n",
              "    }\n",
              "\n",
              "    .colab-df-convert {\n",
              "      background-color: #E8F0FE;\n",
              "      border: none;\n",
              "      border-radius: 50%;\n",
              "      cursor: pointer;\n",
              "      display: none;\n",
              "      fill: #1967D2;\n",
              "      height: 32px;\n",
              "      padding: 0 0 0 0;\n",
              "      width: 32px;\n",
              "    }\n",
              "\n",
              "    .colab-df-convert:hover {\n",
              "      background-color: #E2EBFA;\n",
              "      box-shadow: 0px 1px 2px rgba(60, 64, 67, 0.3), 0px 1px 3px 1px rgba(60, 64, 67, 0.15);\n",
              "      fill: #174EA6;\n",
              "    }\n",
              "\n",
              "    [theme=dark] .colab-df-convert {\n",
              "      background-color: #3B4455;\n",
              "      fill: #D2E3FC;\n",
              "    }\n",
              "\n",
              "    [theme=dark] .colab-df-convert:hover {\n",
              "      background-color: #434B5C;\n",
              "      box-shadow: 0px 1px 3px 1px rgba(0, 0, 0, 0.15);\n",
              "      filter: drop-shadow(0px 1px 2px rgba(0, 0, 0, 0.3));\n",
              "      fill: #FFFFFF;\n",
              "    }\n",
              "  </style>\n",
              "\n",
              "      <script>\n",
              "        const buttonEl =\n",
              "          document.querySelector('#df-533397f7-62b0-4c67-850f-58436616edd9 button.colab-df-convert');\n",
              "        buttonEl.style.display =\n",
              "          google.colab.kernel.accessAllowed ? 'block' : 'none';\n",
              "\n",
              "        async function convertToInteractive(key) {\n",
              "          const element = document.querySelector('#df-533397f7-62b0-4c67-850f-58436616edd9');\n",
              "          const dataTable =\n",
              "            await google.colab.kernel.invokeFunction('convertToInteractive',\n",
              "                                                     [key], {});\n",
              "          if (!dataTable) return;\n",
              "\n",
              "          const docLinkHtml = 'Like what you see? Visit the ' +\n",
              "            '<a target=\"_blank\" href=https://colab.research.google.com/notebooks/data_table.ipynb>data table notebook</a>'\n",
              "            + ' to learn more about interactive tables.';\n",
              "          element.innerHTML = '';\n",
              "          dataTable['output_type'] = 'display_data';\n",
              "          await google.colab.output.renderOutput(dataTable, element);\n",
              "          const docLink = document.createElement('div');\n",
              "          docLink.innerHTML = docLinkHtml;\n",
              "          element.appendChild(docLink);\n",
              "        }\n",
              "      </script>\n",
              "    </div>\n",
              "  </div>\n",
              "  "
            ]
          },
          "metadata": {},
          "execution_count": 10
        }
      ]
    },
    {
      "cell_type": "markdown",
      "metadata": {
        "id": "DOoqo0bXCTba"
      },
      "source": [
        "####  Statistical Summary\n",
        "* Now we can take a look at a summary of each attribute. This includes the count, mean, the\n",
        "min and max values as well as some percentiles."
      ]
    },
    {
      "cell_type": "code",
      "metadata": {
        "colab": {
          "base_uri": "https://localhost:8080/",
          "height": 398
        },
        "id": "Pw8EIezKCTbb",
        "outputId": "fa5e1fb2-586b-4d4b-ad23-424e2a9f1a1b"
      },
      "source": [
        "train.describe()"
      ],
      "execution_count": 11,
      "outputs": [
        {
          "output_type": "execute_result",
          "data": {
            "text/plain": [
              "       Current Loan Amount  Credit Score  Annual Income   Monthly Debt  \\\n",
              "count         2.787800e+04  22444.000000   2.244400e+04   27878.000000   \n",
              "mean          1.172065e+07   1082.956781   1.380263e+06   18501.657930   \n",
              "std           3.173408e+07   1486.933997   9.366729e+05   12405.546897   \n",
              "min           1.124200e+04    585.000000   9.703300e+04       0.000000   \n",
              "25%           1.802680e+05    705.000000   8.520028e+05   10197.775000   \n",
              "50%           3.146000e+05    724.000000   1.170752e+06   16279.390000   \n",
              "75%           5.265150e+05    741.000000   1.646331e+06   24000.895000   \n",
              "max           1.000000e+08   7510.000000   3.083900e+07  435843.280000   \n",
              "\n",
              "       Years of Credit History  Months since last delinquent  \\\n",
              "count             27878.000000                  12907.000000   \n",
              "mean                 18.156826                     35.158674   \n",
              "std                   6.957043                     22.083564   \n",
              "min                   3.600000                      0.000000   \n",
              "25%                  13.500000                     16.000000   \n",
              "50%                  16.900000                     32.000000   \n",
              "75%                  21.600000                     52.000000   \n",
              "max                  65.000000                    152.000000   \n",
              "\n",
              "       Number of Open Accounts  Number of Credit Problems  \\\n",
              "count             27878.000000               27877.000000   \n",
              "mean                 11.132649                   0.167665   \n",
              "std                   4.991924                   0.475106   \n",
              "min                   0.000000                   0.000000   \n",
              "25%                   8.000000                   0.000000   \n",
              "50%                  10.000000                   0.000000   \n",
              "75%                  14.000000                   0.000000   \n",
              "max                  56.000000                  11.000000   \n",
              "\n",
              "       Current Credit Balance  Maximum Open Credit  Bankruptcies     Tax Liens  \n",
              "count            2.787700e+04         2.787700e+04  27820.000000  27873.000000  \n",
              "mean             2.974476e+05         7.564184e+05      0.117901      0.027805  \n",
              "std              4.098920e+05         5.718487e+06      0.350280      0.241195  \n",
              "min              0.000000e+00         0.000000e+00      0.000000      0.000000  \n",
              "25%              1.129170e+05         2.753960e+05      0.000000      0.000000  \n",
              "50%              2.103490e+05         4.689740e+05      0.000000      0.000000  \n",
              "75%              3.704430e+05         7.892060e+05      0.000000      0.000000  \n",
              "max              3.287897e+07         6.324777e+08      5.000000     11.000000  "
            ],
            "text/html": [
              "\n",
              "  <div id=\"df-f18244cc-9145-42f6-a9dd-b39727743019\">\n",
              "    <div class=\"colab-df-container\">\n",
              "      <div>\n",
              "<style scoped>\n",
              "    .dataframe tbody tr th:only-of-type {\n",
              "        vertical-align: middle;\n",
              "    }\n",
              "\n",
              "    .dataframe tbody tr th {\n",
              "        vertical-align: top;\n",
              "    }\n",
              "\n",
              "    .dataframe thead th {\n",
              "        text-align: right;\n",
              "    }\n",
              "</style>\n",
              "<table border=\"1\" class=\"dataframe\">\n",
              "  <thead>\n",
              "    <tr style=\"text-align: right;\">\n",
              "      <th></th>\n",
              "      <th>Current Loan Amount</th>\n",
              "      <th>Credit Score</th>\n",
              "      <th>Annual Income</th>\n",
              "      <th>Monthly Debt</th>\n",
              "      <th>Years of Credit History</th>\n",
              "      <th>Months since last delinquent</th>\n",
              "      <th>Number of Open Accounts</th>\n",
              "      <th>Number of Credit Problems</th>\n",
              "      <th>Current Credit Balance</th>\n",
              "      <th>Maximum Open Credit</th>\n",
              "      <th>Bankruptcies</th>\n",
              "      <th>Tax Liens</th>\n",
              "    </tr>\n",
              "  </thead>\n",
              "  <tbody>\n",
              "    <tr>\n",
              "      <th>count</th>\n",
              "      <td>2.787800e+04</td>\n",
              "      <td>22444.000000</td>\n",
              "      <td>2.244400e+04</td>\n",
              "      <td>27878.000000</td>\n",
              "      <td>27878.000000</td>\n",
              "      <td>12907.000000</td>\n",
              "      <td>27878.000000</td>\n",
              "      <td>27877.000000</td>\n",
              "      <td>2.787700e+04</td>\n",
              "      <td>2.787700e+04</td>\n",
              "      <td>27820.000000</td>\n",
              "      <td>27873.000000</td>\n",
              "    </tr>\n",
              "    <tr>\n",
              "      <th>mean</th>\n",
              "      <td>1.172065e+07</td>\n",
              "      <td>1082.956781</td>\n",
              "      <td>1.380263e+06</td>\n",
              "      <td>18501.657930</td>\n",
              "      <td>18.156826</td>\n",
              "      <td>35.158674</td>\n",
              "      <td>11.132649</td>\n",
              "      <td>0.167665</td>\n",
              "      <td>2.974476e+05</td>\n",
              "      <td>7.564184e+05</td>\n",
              "      <td>0.117901</td>\n",
              "      <td>0.027805</td>\n",
              "    </tr>\n",
              "    <tr>\n",
              "      <th>std</th>\n",
              "      <td>3.173408e+07</td>\n",
              "      <td>1486.933997</td>\n",
              "      <td>9.366729e+05</td>\n",
              "      <td>12405.546897</td>\n",
              "      <td>6.957043</td>\n",
              "      <td>22.083564</td>\n",
              "      <td>4.991924</td>\n",
              "      <td>0.475106</td>\n",
              "      <td>4.098920e+05</td>\n",
              "      <td>5.718487e+06</td>\n",
              "      <td>0.350280</td>\n",
              "      <td>0.241195</td>\n",
              "    </tr>\n",
              "    <tr>\n",
              "      <th>min</th>\n",
              "      <td>1.124200e+04</td>\n",
              "      <td>585.000000</td>\n",
              "      <td>9.703300e+04</td>\n",
              "      <td>0.000000</td>\n",
              "      <td>3.600000</td>\n",
              "      <td>0.000000</td>\n",
              "      <td>0.000000</td>\n",
              "      <td>0.000000</td>\n",
              "      <td>0.000000e+00</td>\n",
              "      <td>0.000000e+00</td>\n",
              "      <td>0.000000</td>\n",
              "      <td>0.000000</td>\n",
              "    </tr>\n",
              "    <tr>\n",
              "      <th>25%</th>\n",
              "      <td>1.802680e+05</td>\n",
              "      <td>705.000000</td>\n",
              "      <td>8.520028e+05</td>\n",
              "      <td>10197.775000</td>\n",
              "      <td>13.500000</td>\n",
              "      <td>16.000000</td>\n",
              "      <td>8.000000</td>\n",
              "      <td>0.000000</td>\n",
              "      <td>1.129170e+05</td>\n",
              "      <td>2.753960e+05</td>\n",
              "      <td>0.000000</td>\n",
              "      <td>0.000000</td>\n",
              "    </tr>\n",
              "    <tr>\n",
              "      <th>50%</th>\n",
              "      <td>3.146000e+05</td>\n",
              "      <td>724.000000</td>\n",
              "      <td>1.170752e+06</td>\n",
              "      <td>16279.390000</td>\n",
              "      <td>16.900000</td>\n",
              "      <td>32.000000</td>\n",
              "      <td>10.000000</td>\n",
              "      <td>0.000000</td>\n",
              "      <td>2.103490e+05</td>\n",
              "      <td>4.689740e+05</td>\n",
              "      <td>0.000000</td>\n",
              "      <td>0.000000</td>\n",
              "    </tr>\n",
              "    <tr>\n",
              "      <th>75%</th>\n",
              "      <td>5.265150e+05</td>\n",
              "      <td>741.000000</td>\n",
              "      <td>1.646331e+06</td>\n",
              "      <td>24000.895000</td>\n",
              "      <td>21.600000</td>\n",
              "      <td>52.000000</td>\n",
              "      <td>14.000000</td>\n",
              "      <td>0.000000</td>\n",
              "      <td>3.704430e+05</td>\n",
              "      <td>7.892060e+05</td>\n",
              "      <td>0.000000</td>\n",
              "      <td>0.000000</td>\n",
              "    </tr>\n",
              "    <tr>\n",
              "      <th>max</th>\n",
              "      <td>1.000000e+08</td>\n",
              "      <td>7510.000000</td>\n",
              "      <td>3.083900e+07</td>\n",
              "      <td>435843.280000</td>\n",
              "      <td>65.000000</td>\n",
              "      <td>152.000000</td>\n",
              "      <td>56.000000</td>\n",
              "      <td>11.000000</td>\n",
              "      <td>3.287897e+07</td>\n",
              "      <td>6.324777e+08</td>\n",
              "      <td>5.000000</td>\n",
              "      <td>11.000000</td>\n",
              "    </tr>\n",
              "  </tbody>\n",
              "</table>\n",
              "</div>\n",
              "      <button class=\"colab-df-convert\" onclick=\"convertToInteractive('df-f18244cc-9145-42f6-a9dd-b39727743019')\"\n",
              "              title=\"Convert this dataframe to an interactive table.\"\n",
              "              style=\"display:none;\">\n",
              "        \n",
              "  <svg xmlns=\"http://www.w3.org/2000/svg\" height=\"24px\"viewBox=\"0 0 24 24\"\n",
              "       width=\"24px\">\n",
              "    <path d=\"M0 0h24v24H0V0z\" fill=\"none\"/>\n",
              "    <path d=\"M18.56 5.44l.94 2.06.94-2.06 2.06-.94-2.06-.94-.94-2.06-.94 2.06-2.06.94zm-11 1L8.5 8.5l.94-2.06 2.06-.94-2.06-.94L8.5 2.5l-.94 2.06-2.06.94zm10 10l.94 2.06.94-2.06 2.06-.94-2.06-.94-.94-2.06-.94 2.06-2.06.94z\"/><path d=\"M17.41 7.96l-1.37-1.37c-.4-.4-.92-.59-1.43-.59-.52 0-1.04.2-1.43.59L10.3 9.45l-7.72 7.72c-.78.78-.78 2.05 0 2.83L4 21.41c.39.39.9.59 1.41.59.51 0 1.02-.2 1.41-.59l7.78-7.78 2.81-2.81c.8-.78.8-2.07 0-2.86zM5.41 20L4 18.59l7.72-7.72 1.47 1.35L5.41 20z\"/>\n",
              "  </svg>\n",
              "      </button>\n",
              "      \n",
              "  <style>\n",
              "    .colab-df-container {\n",
              "      display:flex;\n",
              "      flex-wrap:wrap;\n",
              "      gap: 12px;\n",
              "    }\n",
              "\n",
              "    .colab-df-convert {\n",
              "      background-color: #E8F0FE;\n",
              "      border: none;\n",
              "      border-radius: 50%;\n",
              "      cursor: pointer;\n",
              "      display: none;\n",
              "      fill: #1967D2;\n",
              "      height: 32px;\n",
              "      padding: 0 0 0 0;\n",
              "      width: 32px;\n",
              "    }\n",
              "\n",
              "    .colab-df-convert:hover {\n",
              "      background-color: #E2EBFA;\n",
              "      box-shadow: 0px 1px 2px rgba(60, 64, 67, 0.3), 0px 1px 3px 1px rgba(60, 64, 67, 0.15);\n",
              "      fill: #174EA6;\n",
              "    }\n",
              "\n",
              "    [theme=dark] .colab-df-convert {\n",
              "      background-color: #3B4455;\n",
              "      fill: #D2E3FC;\n",
              "    }\n",
              "\n",
              "    [theme=dark] .colab-df-convert:hover {\n",
              "      background-color: #434B5C;\n",
              "      box-shadow: 0px 1px 3px 1px rgba(0, 0, 0, 0.15);\n",
              "      filter: drop-shadow(0px 1px 2px rgba(0, 0, 0, 0.3));\n",
              "      fill: #FFFFFF;\n",
              "    }\n",
              "  </style>\n",
              "\n",
              "      <script>\n",
              "        const buttonEl =\n",
              "          document.querySelector('#df-f18244cc-9145-42f6-a9dd-b39727743019 button.colab-df-convert');\n",
              "        buttonEl.style.display =\n",
              "          google.colab.kernel.accessAllowed ? 'block' : 'none';\n",
              "\n",
              "        async function convertToInteractive(key) {\n",
              "          const element = document.querySelector('#df-f18244cc-9145-42f6-a9dd-b39727743019');\n",
              "          const dataTable =\n",
              "            await google.colab.kernel.invokeFunction('convertToInteractive',\n",
              "                                                     [key], {});\n",
              "          if (!dataTable) return;\n",
              "\n",
              "          const docLinkHtml = 'Like what you see? Visit the ' +\n",
              "            '<a target=\"_blank\" href=https://colab.research.google.com/notebooks/data_table.ipynb>data table notebook</a>'\n",
              "            + ' to learn more about interactive tables.';\n",
              "          element.innerHTML = '';\n",
              "          dataTable['output_type'] = 'display_data';\n",
              "          await google.colab.output.renderOutput(dataTable, element);\n",
              "          const docLink = document.createElement('div');\n",
              "          docLink.innerHTML = docLinkHtml;\n",
              "          element.appendChild(docLink);\n",
              "        }\n",
              "      </script>\n",
              "    </div>\n",
              "  </div>\n",
              "  "
            ]
          },
          "metadata": {},
          "execution_count": 11
        }
      ]
    },
    {
      "cell_type": "code",
      "metadata": {
        "colab": {
          "base_uri": "https://localhost:8080/",
          "height": 398
        },
        "id": "ZeQyG0y9CTbc",
        "outputId": "0997a772-e29e-438f-9764-1c8191d3d58c"
      },
      "source": [
        "test.describe()"
      ],
      "execution_count": 12,
      "outputs": [
        {
          "output_type": "execute_result",
          "data": {
            "text/plain": [
              "       Current Loan Amount  Credit Score  Annual Income   Monthly Debt  \\\n",
              "count         1.000000e+04   8019.000000   8.019000e+03   10000.000000   \n",
              "mean          1.160380e+07   1077.991520   1.369106e+06   18429.671699   \n",
              "std           3.160010e+07   1477.467761   8.687557e+05   12399.956192   \n",
              "min           1.947000e+04    585.000000   8.109200e+04       0.000000   \n",
              "25%           1.789480e+05    706.000000   8.483405e+05   10202.857500   \n",
              "50%           3.092760e+05    725.000000   1.168272e+06   16052.055000   \n",
              "75%           5.157075e+05    741.000000   1.664390e+06   23881.337500   \n",
              "max           1.000000e+08   7510.000000   1.781535e+07  229057.920000   \n",
              "\n",
              "       Years of Credit History  Months since last delinquent  \\\n",
              "count             10000.000000                   4694.000000   \n",
              "mean                 18.235930                     34.964636   \n",
              "std                   7.018356                     21.640291   \n",
              "min                   3.800000                      0.000000   \n",
              "25%                  13.600000                     17.000000   \n",
              "50%                  17.000000                     32.000000   \n",
              "75%                  21.700000                     50.000000   \n",
              "max                  62.500000                    131.000000   \n",
              "\n",
              "       Number of Open Accounts  Number of Credit Problems  \\\n",
              "count              10000.00000               10000.000000   \n",
              "mean                  11.08410                   0.165500   \n",
              "std                    5.02338                   0.500934   \n",
              "min                    1.00000                   0.000000   \n",
              "25%                    7.00000                   0.000000   \n",
              "50%                   10.00000                   0.000000   \n",
              "75%                   14.00000                   0.000000   \n",
              "max                   55.00000                  10.000000   \n",
              "\n",
              "       Current Credit Balance  Maximum Open Credit  Bankruptcies    Tax Liens  \n",
              "count            1.000000e+04         1.000000e+04   9978.000000  9999.000000  \n",
              "mean             2.907301e+05         6.871308e+05      0.116356     0.030803  \n",
              "std              3.881687e+05         1.861394e+06      0.349961     0.288215  \n",
              "min              0.000000e+00         0.000000e+00      0.000000     0.000000  \n",
              "25%              1.086515e+05         2.706000e+05      0.000000     0.000000  \n",
              "50%              2.075180e+05         4.626050e+05      0.000000     0.000000  \n",
              "75%              3.624630e+05         7.861150e+05      0.000000     0.000000  \n",
              "max              1.623744e+07         1.459073e+08      5.000000     9.000000  "
            ],
            "text/html": [
              "\n",
              "  <div id=\"df-2a100128-8db0-443b-925a-7f5475e70c8a\">\n",
              "    <div class=\"colab-df-container\">\n",
              "      <div>\n",
              "<style scoped>\n",
              "    .dataframe tbody tr th:only-of-type {\n",
              "        vertical-align: middle;\n",
              "    }\n",
              "\n",
              "    .dataframe tbody tr th {\n",
              "        vertical-align: top;\n",
              "    }\n",
              "\n",
              "    .dataframe thead th {\n",
              "        text-align: right;\n",
              "    }\n",
              "</style>\n",
              "<table border=\"1\" class=\"dataframe\">\n",
              "  <thead>\n",
              "    <tr style=\"text-align: right;\">\n",
              "      <th></th>\n",
              "      <th>Current Loan Amount</th>\n",
              "      <th>Credit Score</th>\n",
              "      <th>Annual Income</th>\n",
              "      <th>Monthly Debt</th>\n",
              "      <th>Years of Credit History</th>\n",
              "      <th>Months since last delinquent</th>\n",
              "      <th>Number of Open Accounts</th>\n",
              "      <th>Number of Credit Problems</th>\n",
              "      <th>Current Credit Balance</th>\n",
              "      <th>Maximum Open Credit</th>\n",
              "      <th>Bankruptcies</th>\n",
              "      <th>Tax Liens</th>\n",
              "    </tr>\n",
              "  </thead>\n",
              "  <tbody>\n",
              "    <tr>\n",
              "      <th>count</th>\n",
              "      <td>1.000000e+04</td>\n",
              "      <td>8019.000000</td>\n",
              "      <td>8.019000e+03</td>\n",
              "      <td>10000.000000</td>\n",
              "      <td>10000.000000</td>\n",
              "      <td>4694.000000</td>\n",
              "      <td>10000.00000</td>\n",
              "      <td>10000.000000</td>\n",
              "      <td>1.000000e+04</td>\n",
              "      <td>1.000000e+04</td>\n",
              "      <td>9978.000000</td>\n",
              "      <td>9999.000000</td>\n",
              "    </tr>\n",
              "    <tr>\n",
              "      <th>mean</th>\n",
              "      <td>1.160380e+07</td>\n",
              "      <td>1077.991520</td>\n",
              "      <td>1.369106e+06</td>\n",
              "      <td>18429.671699</td>\n",
              "      <td>18.235930</td>\n",
              "      <td>34.964636</td>\n",
              "      <td>11.08410</td>\n",
              "      <td>0.165500</td>\n",
              "      <td>2.907301e+05</td>\n",
              "      <td>6.871308e+05</td>\n",
              "      <td>0.116356</td>\n",
              "      <td>0.030803</td>\n",
              "    </tr>\n",
              "    <tr>\n",
              "      <th>std</th>\n",
              "      <td>3.160010e+07</td>\n",
              "      <td>1477.467761</td>\n",
              "      <td>8.687557e+05</td>\n",
              "      <td>12399.956192</td>\n",
              "      <td>7.018356</td>\n",
              "      <td>21.640291</td>\n",
              "      <td>5.02338</td>\n",
              "      <td>0.500934</td>\n",
              "      <td>3.881687e+05</td>\n",
              "      <td>1.861394e+06</td>\n",
              "      <td>0.349961</td>\n",
              "      <td>0.288215</td>\n",
              "    </tr>\n",
              "    <tr>\n",
              "      <th>min</th>\n",
              "      <td>1.947000e+04</td>\n",
              "      <td>585.000000</td>\n",
              "      <td>8.109200e+04</td>\n",
              "      <td>0.000000</td>\n",
              "      <td>3.800000</td>\n",
              "      <td>0.000000</td>\n",
              "      <td>1.00000</td>\n",
              "      <td>0.000000</td>\n",
              "      <td>0.000000e+00</td>\n",
              "      <td>0.000000e+00</td>\n",
              "      <td>0.000000</td>\n",
              "      <td>0.000000</td>\n",
              "    </tr>\n",
              "    <tr>\n",
              "      <th>25%</th>\n",
              "      <td>1.789480e+05</td>\n",
              "      <td>706.000000</td>\n",
              "      <td>8.483405e+05</td>\n",
              "      <td>10202.857500</td>\n",
              "      <td>13.600000</td>\n",
              "      <td>17.000000</td>\n",
              "      <td>7.00000</td>\n",
              "      <td>0.000000</td>\n",
              "      <td>1.086515e+05</td>\n",
              "      <td>2.706000e+05</td>\n",
              "      <td>0.000000</td>\n",
              "      <td>0.000000</td>\n",
              "    </tr>\n",
              "    <tr>\n",
              "      <th>50%</th>\n",
              "      <td>3.092760e+05</td>\n",
              "      <td>725.000000</td>\n",
              "      <td>1.168272e+06</td>\n",
              "      <td>16052.055000</td>\n",
              "      <td>17.000000</td>\n",
              "      <td>32.000000</td>\n",
              "      <td>10.00000</td>\n",
              "      <td>0.000000</td>\n",
              "      <td>2.075180e+05</td>\n",
              "      <td>4.626050e+05</td>\n",
              "      <td>0.000000</td>\n",
              "      <td>0.000000</td>\n",
              "    </tr>\n",
              "    <tr>\n",
              "      <th>75%</th>\n",
              "      <td>5.157075e+05</td>\n",
              "      <td>741.000000</td>\n",
              "      <td>1.664390e+06</td>\n",
              "      <td>23881.337500</td>\n",
              "      <td>21.700000</td>\n",
              "      <td>50.000000</td>\n",
              "      <td>14.00000</td>\n",
              "      <td>0.000000</td>\n",
              "      <td>3.624630e+05</td>\n",
              "      <td>7.861150e+05</td>\n",
              "      <td>0.000000</td>\n",
              "      <td>0.000000</td>\n",
              "    </tr>\n",
              "    <tr>\n",
              "      <th>max</th>\n",
              "      <td>1.000000e+08</td>\n",
              "      <td>7510.000000</td>\n",
              "      <td>1.781535e+07</td>\n",
              "      <td>229057.920000</td>\n",
              "      <td>62.500000</td>\n",
              "      <td>131.000000</td>\n",
              "      <td>55.00000</td>\n",
              "      <td>10.000000</td>\n",
              "      <td>1.623744e+07</td>\n",
              "      <td>1.459073e+08</td>\n",
              "      <td>5.000000</td>\n",
              "      <td>9.000000</td>\n",
              "    </tr>\n",
              "  </tbody>\n",
              "</table>\n",
              "</div>\n",
              "      <button class=\"colab-df-convert\" onclick=\"convertToInteractive('df-2a100128-8db0-443b-925a-7f5475e70c8a')\"\n",
              "              title=\"Convert this dataframe to an interactive table.\"\n",
              "              style=\"display:none;\">\n",
              "        \n",
              "  <svg xmlns=\"http://www.w3.org/2000/svg\" height=\"24px\"viewBox=\"0 0 24 24\"\n",
              "       width=\"24px\">\n",
              "    <path d=\"M0 0h24v24H0V0z\" fill=\"none\"/>\n",
              "    <path d=\"M18.56 5.44l.94 2.06.94-2.06 2.06-.94-2.06-.94-.94-2.06-.94 2.06-2.06.94zm-11 1L8.5 8.5l.94-2.06 2.06-.94-2.06-.94L8.5 2.5l-.94 2.06-2.06.94zm10 10l.94 2.06.94-2.06 2.06-.94-2.06-.94-.94-2.06-.94 2.06-2.06.94z\"/><path d=\"M17.41 7.96l-1.37-1.37c-.4-.4-.92-.59-1.43-.59-.52 0-1.04.2-1.43.59L10.3 9.45l-7.72 7.72c-.78.78-.78 2.05 0 2.83L4 21.41c.39.39.9.59 1.41.59.51 0 1.02-.2 1.41-.59l7.78-7.78 2.81-2.81c.8-.78.8-2.07 0-2.86zM5.41 20L4 18.59l7.72-7.72 1.47 1.35L5.41 20z\"/>\n",
              "  </svg>\n",
              "      </button>\n",
              "      \n",
              "  <style>\n",
              "    .colab-df-container {\n",
              "      display:flex;\n",
              "      flex-wrap:wrap;\n",
              "      gap: 12px;\n",
              "    }\n",
              "\n",
              "    .colab-df-convert {\n",
              "      background-color: #E8F0FE;\n",
              "      border: none;\n",
              "      border-radius: 50%;\n",
              "      cursor: pointer;\n",
              "      display: none;\n",
              "      fill: #1967D2;\n",
              "      height: 32px;\n",
              "      padding: 0 0 0 0;\n",
              "      width: 32px;\n",
              "    }\n",
              "\n",
              "    .colab-df-convert:hover {\n",
              "      background-color: #E2EBFA;\n",
              "      box-shadow: 0px 1px 2px rgba(60, 64, 67, 0.3), 0px 1px 3px 1px rgba(60, 64, 67, 0.15);\n",
              "      fill: #174EA6;\n",
              "    }\n",
              "\n",
              "    [theme=dark] .colab-df-convert {\n",
              "      background-color: #3B4455;\n",
              "      fill: #D2E3FC;\n",
              "    }\n",
              "\n",
              "    [theme=dark] .colab-df-convert:hover {\n",
              "      background-color: #434B5C;\n",
              "      box-shadow: 0px 1px 3px 1px rgba(0, 0, 0, 0.15);\n",
              "      filter: drop-shadow(0px 1px 2px rgba(0, 0, 0, 0.3));\n",
              "      fill: #FFFFFF;\n",
              "    }\n",
              "  </style>\n",
              "\n",
              "      <script>\n",
              "        const buttonEl =\n",
              "          document.querySelector('#df-2a100128-8db0-443b-925a-7f5475e70c8a button.colab-df-convert');\n",
              "        buttonEl.style.display =\n",
              "          google.colab.kernel.accessAllowed ? 'block' : 'none';\n",
              "\n",
              "        async function convertToInteractive(key) {\n",
              "          const element = document.querySelector('#df-2a100128-8db0-443b-925a-7f5475e70c8a');\n",
              "          const dataTable =\n",
              "            await google.colab.kernel.invokeFunction('convertToInteractive',\n",
              "                                                     [key], {});\n",
              "          if (!dataTable) return;\n",
              "\n",
              "          const docLinkHtml = 'Like what you see? Visit the ' +\n",
              "            '<a target=\"_blank\" href=https://colab.research.google.com/notebooks/data_table.ipynb>data table notebook</a>'\n",
              "            + ' to learn more about interactive tables.';\n",
              "          element.innerHTML = '';\n",
              "          dataTable['output_type'] = 'display_data';\n",
              "          await google.colab.output.renderOutput(dataTable, element);\n",
              "          const docLink = document.createElement('div');\n",
              "          docLink.innerHTML = docLinkHtml;\n",
              "          element.appendChild(docLink);\n",
              "        }\n",
              "      </script>\n",
              "    </div>\n",
              "  </div>\n",
              "  "
            ]
          },
          "metadata": {},
          "execution_count": 12
        }
      ]
    },
    {
      "cell_type": "code",
      "metadata": {
        "colab": {
          "base_uri": "https://localhost:8080/",
          "height": 253
        },
        "id": "rT7tSLrRCTbc",
        "outputId": "4aeb594b-1c39-44cf-f40f-c8c48bc25a64"
      },
      "source": [
        "train.describe(include='object')"
      ],
      "execution_count": 13,
      "outputs": [
        {
          "output_type": "execute_result",
          "data": {
            "text/plain": [
              "                                     Loan ID  \\\n",
              "count                                  27878   \n",
              "unique                                 26534   \n",
              "top     37232a46-cd32-44d1-8382-820133067e88   \n",
              "freq                                       2   \n",
              "\n",
              "                                 Customer ID Loan Status        Term  \\\n",
              "count                                  27878       27878       27878   \n",
              "unique                                 26534           2           2   \n",
              "top     a401000a-ae79-4b40-8e0c-0001e2a750d1  Fully Paid  Short Term   \n",
              "freq                                       2       21599       20070   \n",
              "\n",
              "       Years in current job Home Ownership             Purpose  \n",
              "count                 26704          27878               27878  \n",
              "unique                   11              4                  16  \n",
              "top               10+ years  Home Mortgage  Debt Consolidation  \n",
              "freq                   8665          13558               22000  "
            ],
            "text/html": [
              "\n",
              "  <div id=\"df-bdcf945c-a9ad-4e47-93c4-371fab50bc53\">\n",
              "    <div class=\"colab-df-container\">\n",
              "      <div>\n",
              "<style scoped>\n",
              "    .dataframe tbody tr th:only-of-type {\n",
              "        vertical-align: middle;\n",
              "    }\n",
              "\n",
              "    .dataframe tbody tr th {\n",
              "        vertical-align: top;\n",
              "    }\n",
              "\n",
              "    .dataframe thead th {\n",
              "        text-align: right;\n",
              "    }\n",
              "</style>\n",
              "<table border=\"1\" class=\"dataframe\">\n",
              "  <thead>\n",
              "    <tr style=\"text-align: right;\">\n",
              "      <th></th>\n",
              "      <th>Loan ID</th>\n",
              "      <th>Customer ID</th>\n",
              "      <th>Loan Status</th>\n",
              "      <th>Term</th>\n",
              "      <th>Years in current job</th>\n",
              "      <th>Home Ownership</th>\n",
              "      <th>Purpose</th>\n",
              "    </tr>\n",
              "  </thead>\n",
              "  <tbody>\n",
              "    <tr>\n",
              "      <th>count</th>\n",
              "      <td>27878</td>\n",
              "      <td>27878</td>\n",
              "      <td>27878</td>\n",
              "      <td>27878</td>\n",
              "      <td>26704</td>\n",
              "      <td>27878</td>\n",
              "      <td>27878</td>\n",
              "    </tr>\n",
              "    <tr>\n",
              "      <th>unique</th>\n",
              "      <td>26534</td>\n",
              "      <td>26534</td>\n",
              "      <td>2</td>\n",
              "      <td>2</td>\n",
              "      <td>11</td>\n",
              "      <td>4</td>\n",
              "      <td>16</td>\n",
              "    </tr>\n",
              "    <tr>\n",
              "      <th>top</th>\n",
              "      <td>37232a46-cd32-44d1-8382-820133067e88</td>\n",
              "      <td>a401000a-ae79-4b40-8e0c-0001e2a750d1</td>\n",
              "      <td>Fully Paid</td>\n",
              "      <td>Short Term</td>\n",
              "      <td>10+ years</td>\n",
              "      <td>Home Mortgage</td>\n",
              "      <td>Debt Consolidation</td>\n",
              "    </tr>\n",
              "    <tr>\n",
              "      <th>freq</th>\n",
              "      <td>2</td>\n",
              "      <td>2</td>\n",
              "      <td>21599</td>\n",
              "      <td>20070</td>\n",
              "      <td>8665</td>\n",
              "      <td>13558</td>\n",
              "      <td>22000</td>\n",
              "    </tr>\n",
              "  </tbody>\n",
              "</table>\n",
              "</div>\n",
              "      <button class=\"colab-df-convert\" onclick=\"convertToInteractive('df-bdcf945c-a9ad-4e47-93c4-371fab50bc53')\"\n",
              "              title=\"Convert this dataframe to an interactive table.\"\n",
              "              style=\"display:none;\">\n",
              "        \n",
              "  <svg xmlns=\"http://www.w3.org/2000/svg\" height=\"24px\"viewBox=\"0 0 24 24\"\n",
              "       width=\"24px\">\n",
              "    <path d=\"M0 0h24v24H0V0z\" fill=\"none\"/>\n",
              "    <path d=\"M18.56 5.44l.94 2.06.94-2.06 2.06-.94-2.06-.94-.94-2.06-.94 2.06-2.06.94zm-11 1L8.5 8.5l.94-2.06 2.06-.94-2.06-.94L8.5 2.5l-.94 2.06-2.06.94zm10 10l.94 2.06.94-2.06 2.06-.94-2.06-.94-.94-2.06-.94 2.06-2.06.94z\"/><path d=\"M17.41 7.96l-1.37-1.37c-.4-.4-.92-.59-1.43-.59-.52 0-1.04.2-1.43.59L10.3 9.45l-7.72 7.72c-.78.78-.78 2.05 0 2.83L4 21.41c.39.39.9.59 1.41.59.51 0 1.02-.2 1.41-.59l7.78-7.78 2.81-2.81c.8-.78.8-2.07 0-2.86zM5.41 20L4 18.59l7.72-7.72 1.47 1.35L5.41 20z\"/>\n",
              "  </svg>\n",
              "      </button>\n",
              "      \n",
              "  <style>\n",
              "    .colab-df-container {\n",
              "      display:flex;\n",
              "      flex-wrap:wrap;\n",
              "      gap: 12px;\n",
              "    }\n",
              "\n",
              "    .colab-df-convert {\n",
              "      background-color: #E8F0FE;\n",
              "      border: none;\n",
              "      border-radius: 50%;\n",
              "      cursor: pointer;\n",
              "      display: none;\n",
              "      fill: #1967D2;\n",
              "      height: 32px;\n",
              "      padding: 0 0 0 0;\n",
              "      width: 32px;\n",
              "    }\n",
              "\n",
              "    .colab-df-convert:hover {\n",
              "      background-color: #E2EBFA;\n",
              "      box-shadow: 0px 1px 2px rgba(60, 64, 67, 0.3), 0px 1px 3px 1px rgba(60, 64, 67, 0.15);\n",
              "      fill: #174EA6;\n",
              "    }\n",
              "\n",
              "    [theme=dark] .colab-df-convert {\n",
              "      background-color: #3B4455;\n",
              "      fill: #D2E3FC;\n",
              "    }\n",
              "\n",
              "    [theme=dark] .colab-df-convert:hover {\n",
              "      background-color: #434B5C;\n",
              "      box-shadow: 0px 1px 3px 1px rgba(0, 0, 0, 0.15);\n",
              "      filter: drop-shadow(0px 1px 2px rgba(0, 0, 0, 0.3));\n",
              "      fill: #FFFFFF;\n",
              "    }\n",
              "  </style>\n",
              "\n",
              "      <script>\n",
              "        const buttonEl =\n",
              "          document.querySelector('#df-bdcf945c-a9ad-4e47-93c4-371fab50bc53 button.colab-df-convert');\n",
              "        buttonEl.style.display =\n",
              "          google.colab.kernel.accessAllowed ? 'block' : 'none';\n",
              "\n",
              "        async function convertToInteractive(key) {\n",
              "          const element = document.querySelector('#df-bdcf945c-a9ad-4e47-93c4-371fab50bc53');\n",
              "          const dataTable =\n",
              "            await google.colab.kernel.invokeFunction('convertToInteractive',\n",
              "                                                     [key], {});\n",
              "          if (!dataTable) return;\n",
              "\n",
              "          const docLinkHtml = 'Like what you see? Visit the ' +\n",
              "            '<a target=\"_blank\" href=https://colab.research.google.com/notebooks/data_table.ipynb>data table notebook</a>'\n",
              "            + ' to learn more about interactive tables.';\n",
              "          element.innerHTML = '';\n",
              "          dataTable['output_type'] = 'display_data';\n",
              "          await google.colab.output.renderOutput(dataTable, element);\n",
              "          const docLink = document.createElement('div');\n",
              "          docLink.innerHTML = docLinkHtml;\n",
              "          element.appendChild(docLink);\n",
              "        }\n",
              "      </script>\n",
              "    </div>\n",
              "  </div>\n",
              "  "
            ]
          },
          "metadata": {},
          "execution_count": 13
        }
      ]
    },
    {
      "cell_type": "code",
      "metadata": {
        "colab": {
          "base_uri": "https://localhost:8080/",
          "height": 174
        },
        "id": "ZEFjH5SNCTbd",
        "outputId": "ac5ab683-da5e-44d6-fbb6-826f37d744ca"
      },
      "source": [
        "test.describe(include='object')"
      ],
      "execution_count": 14,
      "outputs": [
        {
          "output_type": "execute_result",
          "data": {
            "text/plain": [
              "                                     Loan ID  \\\n",
              "count                                  10000   \n",
              "unique                                 10000   \n",
              "top     f738779f-c726-40dc-92cf-689d73af533d   \n",
              "freq                                       1   \n",
              "\n",
              "                                 Customer ID        Term Years in current job  \\\n",
              "count                                  10000       10000                 9573   \n",
              "unique                                 10000           2                   11   \n",
              "top     ded0b3c3-6bf4-4091-8726-47039f2c1b90  Short Term            10+ years   \n",
              "freq                                       1        7295                 3085   \n",
              "\n",
              "       Home Ownership             Purpose  \n",
              "count           10000               10000  \n",
              "unique              4                  16  \n",
              "top     Home Mortgage  Debt Consolidation  \n",
              "freq             4867                7878  "
            ],
            "text/html": [
              "\n",
              "  <div id=\"df-4bd72132-5717-4c93-bb0a-fefa8d75bd81\">\n",
              "    <div class=\"colab-df-container\">\n",
              "      <div>\n",
              "<style scoped>\n",
              "    .dataframe tbody tr th:only-of-type {\n",
              "        vertical-align: middle;\n",
              "    }\n",
              "\n",
              "    .dataframe tbody tr th {\n",
              "        vertical-align: top;\n",
              "    }\n",
              "\n",
              "    .dataframe thead th {\n",
              "        text-align: right;\n",
              "    }\n",
              "</style>\n",
              "<table border=\"1\" class=\"dataframe\">\n",
              "  <thead>\n",
              "    <tr style=\"text-align: right;\">\n",
              "      <th></th>\n",
              "      <th>Loan ID</th>\n",
              "      <th>Customer ID</th>\n",
              "      <th>Term</th>\n",
              "      <th>Years in current job</th>\n",
              "      <th>Home Ownership</th>\n",
              "      <th>Purpose</th>\n",
              "    </tr>\n",
              "  </thead>\n",
              "  <tbody>\n",
              "    <tr>\n",
              "      <th>count</th>\n",
              "      <td>10000</td>\n",
              "      <td>10000</td>\n",
              "      <td>10000</td>\n",
              "      <td>9573</td>\n",
              "      <td>10000</td>\n",
              "      <td>10000</td>\n",
              "    </tr>\n",
              "    <tr>\n",
              "      <th>unique</th>\n",
              "      <td>10000</td>\n",
              "      <td>10000</td>\n",
              "      <td>2</td>\n",
              "      <td>11</td>\n",
              "      <td>4</td>\n",
              "      <td>16</td>\n",
              "    </tr>\n",
              "    <tr>\n",
              "      <th>top</th>\n",
              "      <td>f738779f-c726-40dc-92cf-689d73af533d</td>\n",
              "      <td>ded0b3c3-6bf4-4091-8726-47039f2c1b90</td>\n",
              "      <td>Short Term</td>\n",
              "      <td>10+ years</td>\n",
              "      <td>Home Mortgage</td>\n",
              "      <td>Debt Consolidation</td>\n",
              "    </tr>\n",
              "    <tr>\n",
              "      <th>freq</th>\n",
              "      <td>1</td>\n",
              "      <td>1</td>\n",
              "      <td>7295</td>\n",
              "      <td>3085</td>\n",
              "      <td>4867</td>\n",
              "      <td>7878</td>\n",
              "    </tr>\n",
              "  </tbody>\n",
              "</table>\n",
              "</div>\n",
              "      <button class=\"colab-df-convert\" onclick=\"convertToInteractive('df-4bd72132-5717-4c93-bb0a-fefa8d75bd81')\"\n",
              "              title=\"Convert this dataframe to an interactive table.\"\n",
              "              style=\"display:none;\">\n",
              "        \n",
              "  <svg xmlns=\"http://www.w3.org/2000/svg\" height=\"24px\"viewBox=\"0 0 24 24\"\n",
              "       width=\"24px\">\n",
              "    <path d=\"M0 0h24v24H0V0z\" fill=\"none\"/>\n",
              "    <path d=\"M18.56 5.44l.94 2.06.94-2.06 2.06-.94-2.06-.94-.94-2.06-.94 2.06-2.06.94zm-11 1L8.5 8.5l.94-2.06 2.06-.94-2.06-.94L8.5 2.5l-.94 2.06-2.06.94zm10 10l.94 2.06.94-2.06 2.06-.94-2.06-.94-.94-2.06-.94 2.06-2.06.94z\"/><path d=\"M17.41 7.96l-1.37-1.37c-.4-.4-.92-.59-1.43-.59-.52 0-1.04.2-1.43.59L10.3 9.45l-7.72 7.72c-.78.78-.78 2.05 0 2.83L4 21.41c.39.39.9.59 1.41.59.51 0 1.02-.2 1.41-.59l7.78-7.78 2.81-2.81c.8-.78.8-2.07 0-2.86zM5.41 20L4 18.59l7.72-7.72 1.47 1.35L5.41 20z\"/>\n",
              "  </svg>\n",
              "      </button>\n",
              "      \n",
              "  <style>\n",
              "    .colab-df-container {\n",
              "      display:flex;\n",
              "      flex-wrap:wrap;\n",
              "      gap: 12px;\n",
              "    }\n",
              "\n",
              "    .colab-df-convert {\n",
              "      background-color: #E8F0FE;\n",
              "      border: none;\n",
              "      border-radius: 50%;\n",
              "      cursor: pointer;\n",
              "      display: none;\n",
              "      fill: #1967D2;\n",
              "      height: 32px;\n",
              "      padding: 0 0 0 0;\n",
              "      width: 32px;\n",
              "    }\n",
              "\n",
              "    .colab-df-convert:hover {\n",
              "      background-color: #E2EBFA;\n",
              "      box-shadow: 0px 1px 2px rgba(60, 64, 67, 0.3), 0px 1px 3px 1px rgba(60, 64, 67, 0.15);\n",
              "      fill: #174EA6;\n",
              "    }\n",
              "\n",
              "    [theme=dark] .colab-df-convert {\n",
              "      background-color: #3B4455;\n",
              "      fill: #D2E3FC;\n",
              "    }\n",
              "\n",
              "    [theme=dark] .colab-df-convert:hover {\n",
              "      background-color: #434B5C;\n",
              "      box-shadow: 0px 1px 3px 1px rgba(0, 0, 0, 0.15);\n",
              "      filter: drop-shadow(0px 1px 2px rgba(0, 0, 0, 0.3));\n",
              "      fill: #FFFFFF;\n",
              "    }\n",
              "  </style>\n",
              "\n",
              "      <script>\n",
              "        const buttonEl =\n",
              "          document.querySelector('#df-4bd72132-5717-4c93-bb0a-fefa8d75bd81 button.colab-df-convert');\n",
              "        buttonEl.style.display =\n",
              "          google.colab.kernel.accessAllowed ? 'block' : 'none';\n",
              "\n",
              "        async function convertToInteractive(key) {\n",
              "          const element = document.querySelector('#df-4bd72132-5717-4c93-bb0a-fefa8d75bd81');\n",
              "          const dataTable =\n",
              "            await google.colab.kernel.invokeFunction('convertToInteractive',\n",
              "                                                     [key], {});\n",
              "          if (!dataTable) return;\n",
              "\n",
              "          const docLinkHtml = 'Like what you see? Visit the ' +\n",
              "            '<a target=\"_blank\" href=https://colab.research.google.com/notebooks/data_table.ipynb>data table notebook</a>'\n",
              "            + ' to learn more about interactive tables.';\n",
              "          element.innerHTML = '';\n",
              "          dataTable['output_type'] = 'display_data';\n",
              "          await google.colab.output.renderOutput(dataTable, element);\n",
              "          const docLink = document.createElement('div');\n",
              "          docLink.innerHTML = docLinkHtml;\n",
              "          element.appendChild(docLink);\n",
              "        }\n",
              "      </script>\n",
              "    </div>\n",
              "  </div>\n",
              "  "
            ]
          },
          "metadata": {},
          "execution_count": 14
        }
      ]
    },
    {
      "cell_type": "markdown",
      "metadata": {
        "id": "Bes1GDBeEi7p"
      },
      "source": [
        "From the above descriptive statistical analysis we can observed the high occurance of values in various columns such as Loan Status, Term, Years in current job, Home Ownership and Purpose. This will be used in filling missing values for the respective columns."
      ]
    },
    {
      "cell_type": "markdown",
      "metadata": {
        "id": "uOpwv7iICTbe"
      },
      "source": [
        "#### Class Distribution\n",
        "* Let's now take a look at the number of instances (rows) that belong to each class. We can view\n",
        "this as an absolute count."
      ]
    },
    {
      "cell_type": "code",
      "metadata": {
        "colab": {
          "base_uri": "https://localhost:8080/"
        },
        "id": "EN2YefWHCTbf",
        "outputId": "b90ba4ea-79ff-4334-dd90-f8fe92bbf18a"
      },
      "source": [
        "#class distribution\n",
        "train.groupby('Loan Status').size()"
      ],
      "execution_count": 15,
      "outputs": [
        {
          "output_type": "execute_result",
          "data": {
            "text/plain": [
              "Loan Status\n",
              "Charged Off     6279\n",
              "Fully Paid     21599\n",
              "dtype: int64"
            ]
          },
          "metadata": {},
          "execution_count": 15
        }
      ]
    },
    {
      "cell_type": "markdown",
      "metadata": {
        "id": "nY7BOkOACTbh"
      },
      "source": [
        "### Data Visualization\n",
        "* Data Info\n",
        "* checking for missing values\n",
        "* Univariate analysis "
      ]
    },
    {
      "cell_type": "code",
      "metadata": {
        "colab": {
          "base_uri": "https://localhost:8080/"
        },
        "id": "MN5aXHlQCTbh",
        "outputId": "7f07463b-b0fa-4707-a728-b9ce71fd6a57"
      },
      "source": [
        "train.info()"
      ],
      "execution_count": 16,
      "outputs": [
        {
          "output_type": "stream",
          "name": "stdout",
          "text": [
            "<class 'pandas.core.frame.DataFrame'>\n",
            "RangeIndex: 27878 entries, 0 to 27877\n",
            "Data columns (total 19 columns):\n",
            " #   Column                        Non-Null Count  Dtype  \n",
            "---  ------                        --------------  -----  \n",
            " 0   Loan ID                       27878 non-null  object \n",
            " 1   Customer ID                   27878 non-null  object \n",
            " 2   Loan Status                   27878 non-null  object \n",
            " 3   Current Loan Amount           27878 non-null  int64  \n",
            " 4   Term                          27878 non-null  object \n",
            " 5   Credit Score                  22444 non-null  float64\n",
            " 6   Annual Income                 22444 non-null  float64\n",
            " 7   Years in current job          26704 non-null  object \n",
            " 8   Home Ownership                27878 non-null  object \n",
            " 9   Purpose                       27878 non-null  object \n",
            " 10  Monthly Debt                  27878 non-null  float64\n",
            " 11  Years of Credit History       27878 non-null  float64\n",
            " 12  Months since last delinquent  12907 non-null  float64\n",
            " 13  Number of Open Accounts       27878 non-null  int64  \n",
            " 14  Number of Credit Problems     27877 non-null  float64\n",
            " 15  Current Credit Balance        27877 non-null  float64\n",
            " 16  Maximum Open Credit           27877 non-null  float64\n",
            " 17  Bankruptcies                  27820 non-null  float64\n",
            " 18  Tax Liens                     27873 non-null  float64\n",
            "dtypes: float64(10), int64(2), object(7)\n",
            "memory usage: 4.0+ MB\n"
          ]
        }
      ]
    },
    {
      "cell_type": "code",
      "metadata": {
        "colab": {
          "base_uri": "https://localhost:8080/"
        },
        "id": "19kTQr2hCTbi",
        "outputId": "f7c8e539-e2cf-498c-fdb2-5679c714403a"
      },
      "source": [
        "test.info()"
      ],
      "execution_count": 17,
      "outputs": [
        {
          "output_type": "stream",
          "name": "stdout",
          "text": [
            "<class 'pandas.core.frame.DataFrame'>\n",
            "RangeIndex: 10353 entries, 0 to 10352\n",
            "Data columns (total 18 columns):\n",
            " #   Column                        Non-Null Count  Dtype  \n",
            "---  ------                        --------------  -----  \n",
            " 0   Loan ID                       10000 non-null  object \n",
            " 1   Customer ID                   10000 non-null  object \n",
            " 2   Current Loan Amount           10000 non-null  float64\n",
            " 3   Term                          10000 non-null  object \n",
            " 4   Credit Score                  8019 non-null   float64\n",
            " 5   Annual Income                 8019 non-null   float64\n",
            " 6   Years in current job          9573 non-null   object \n",
            " 7   Home Ownership                10000 non-null  object \n",
            " 8   Purpose                       10000 non-null  object \n",
            " 9   Monthly Debt                  10000 non-null  float64\n",
            " 10  Years of Credit History       10000 non-null  float64\n",
            " 11  Months since last delinquent  4694 non-null   float64\n",
            " 12  Number of Open Accounts       10000 non-null  float64\n",
            " 13  Number of Credit Problems     10000 non-null  float64\n",
            " 14  Current Credit Balance        10000 non-null  float64\n",
            " 15  Maximum Open Credit           10000 non-null  float64\n",
            " 16  Bankruptcies                  9978 non-null   float64\n",
            " 17  Tax Liens                     9999 non-null   float64\n",
            "dtypes: float64(12), object(6)\n",
            "memory usage: 1.4+ MB\n"
          ]
        }
      ]
    },
    {
      "cell_type": "code",
      "metadata": {
        "colab": {
          "base_uri": "https://localhost:8080/"
        },
        "id": "k0QjFqNaCTbj",
        "outputId": "fa22f19d-4013-4647-b0fc-f53d5c4a0b99"
      },
      "source": [
        "#checking for missing values\n",
        "train.isna().mean()*100"
      ],
      "execution_count": 18,
      "outputs": [
        {
          "output_type": "execute_result",
          "data": {
            "text/plain": [
              "Loan ID                          0.000000\n",
              "Customer ID                      0.000000\n",
              "Loan Status                      0.000000\n",
              "Current Loan Amount              0.000000\n",
              "Term                             0.000000\n",
              "Credit Score                    19.492073\n",
              "Annual Income                   19.492073\n",
              "Years in current job             4.211206\n",
              "Home Ownership                   0.000000\n",
              "Purpose                          0.000000\n",
              "Monthly Debt                     0.000000\n",
              "Years of Credit History          0.000000\n",
              "Months since last delinquent    53.701844\n",
              "Number of Open Accounts          0.000000\n",
              "Number of Credit Problems        0.003587\n",
              "Current Credit Balance           0.003587\n",
              "Maximum Open Credit              0.003587\n",
              "Bankruptcies                     0.208049\n",
              "Tax Liens                        0.017935\n",
              "dtype: float64"
            ]
          },
          "metadata": {},
          "execution_count": 18
        }
      ]
    },
    {
      "cell_type": "code",
      "metadata": {
        "colab": {
          "base_uri": "https://localhost:8080/"
        },
        "id": "_eOeF0erCTbj",
        "outputId": "d7fee3c8-eb97-435f-bdac-7db55b4161a8"
      },
      "source": [
        "train.isna().mean()*100"
      ],
      "execution_count": 19,
      "outputs": [
        {
          "output_type": "execute_result",
          "data": {
            "text/plain": [
              "Loan ID                          0.000000\n",
              "Customer ID                      0.000000\n",
              "Loan Status                      0.000000\n",
              "Current Loan Amount              0.000000\n",
              "Term                             0.000000\n",
              "Credit Score                    19.492073\n",
              "Annual Income                   19.492073\n",
              "Years in current job             4.211206\n",
              "Home Ownership                   0.000000\n",
              "Purpose                          0.000000\n",
              "Monthly Debt                     0.000000\n",
              "Years of Credit History          0.000000\n",
              "Months since last delinquent    53.701844\n",
              "Number of Open Accounts          0.000000\n",
              "Number of Credit Problems        0.003587\n",
              "Current Credit Balance           0.003587\n",
              "Maximum Open Credit              0.003587\n",
              "Bankruptcies                     0.208049\n",
              "Tax Liens                        0.017935\n",
              "dtype: float64"
            ]
          },
          "metadata": {},
          "execution_count": 19
        }
      ]
    },
    {
      "cell_type": "markdown",
      "metadata": {
        "id": "r5O-LZITCTbk"
      },
      "source": [
        "#### Univariate Analysis"
      ]
    },
    {
      "cell_type": "code",
      "metadata": {
        "id": "tr3aO12YCTbk"
      },
      "source": [
        "#function returns histogram, #box-plot, 5-point statistics\n",
        "def analyze_feature(df, feature, rotation=0):\n",
        "   \n",
        "    fig, ax = pyplot.subplots(figsize=(10,4), ncols=2, nrows=1)\n",
        "    sns.distplot(df[feature], kde=False, rug=True, ax=ax[0])\n",
        "    sns.boxplot(feature, orient='h', data=df, ax=ax[1])\n",
        "   \n",
        "    for ax in ax:\n",
        "        for tick in ax.get_xticklabels():\n",
        "            tick.set_rotation(rotation)\n",
        "            \n",
        "    return df[feature].describe().to_frame().T"
      ],
      "execution_count": 20,
      "outputs": []
    },
    {
      "cell_type": "markdown",
      "metadata": {
        "id": "tmgFQ3U2CTbl"
      },
      "source": [
        "#### Years of credit history"
      ]
    },
    {
      "cell_type": "code",
      "metadata": {
        "colab": {
          "base_uri": "https://localhost:8080/",
          "height": 473
        },
        "id": "T3_IbBGeCTbl",
        "outputId": "116184a2-73bc-4a92-9a91-51b19f0b3b4d"
      },
      "source": [
        "analyze_feature(train, 'Years of Credit History')"
      ],
      "execution_count": 21,
      "outputs": [
        {
          "output_type": "stream",
          "name": "stderr",
          "text": [
            "/usr/local/lib/python3.7/dist-packages/seaborn/distributions.py:2619: FutureWarning: `distplot` is a deprecated function and will be removed in a future version. Please adapt your code to use either `displot` (a figure-level function with similar flexibility) or `histplot` (an axes-level function for histograms).\n",
            "  warnings.warn(msg, FutureWarning)\n",
            "/usr/local/lib/python3.7/dist-packages/seaborn/distributions.py:2103: FutureWarning: The `axis` variable is no longer used and will be removed. Instead, assign variables directly to `x` or `y`.\n",
            "  warnings.warn(msg, FutureWarning)\n",
            "/usr/local/lib/python3.7/dist-packages/seaborn/_decorators.py:43: FutureWarning: Pass the following variable as a keyword arg: x. From version 0.12, the only valid positional argument will be `data`, and passing other arguments without an explicit keyword will result in an error or misinterpretation.\n",
            "  FutureWarning\n"
          ]
        },
        {
          "output_type": "execute_result",
          "data": {
            "text/plain": [
              "                           count       mean       std  min   25%   50%   75%  \\\n",
              "Years of Credit History  27878.0  18.156826  6.957043  3.6  13.5  16.9  21.6   \n",
              "\n",
              "                          max  \n",
              "Years of Credit History  65.0  "
            ],
            "text/html": [
              "\n",
              "  <div id=\"df-b9e78532-d1b6-4ba3-b382-acfb120617f1\">\n",
              "    <div class=\"colab-df-container\">\n",
              "      <div>\n",
              "<style scoped>\n",
              "    .dataframe tbody tr th:only-of-type {\n",
              "        vertical-align: middle;\n",
              "    }\n",
              "\n",
              "    .dataframe tbody tr th {\n",
              "        vertical-align: top;\n",
              "    }\n",
              "\n",
              "    .dataframe thead th {\n",
              "        text-align: right;\n",
              "    }\n",
              "</style>\n",
              "<table border=\"1\" class=\"dataframe\">\n",
              "  <thead>\n",
              "    <tr style=\"text-align: right;\">\n",
              "      <th></th>\n",
              "      <th>count</th>\n",
              "      <th>mean</th>\n",
              "      <th>std</th>\n",
              "      <th>min</th>\n",
              "      <th>25%</th>\n",
              "      <th>50%</th>\n",
              "      <th>75%</th>\n",
              "      <th>max</th>\n",
              "    </tr>\n",
              "  </thead>\n",
              "  <tbody>\n",
              "    <tr>\n",
              "      <th>Years of Credit History</th>\n",
              "      <td>27878.0</td>\n",
              "      <td>18.156826</td>\n",
              "      <td>6.957043</td>\n",
              "      <td>3.6</td>\n",
              "      <td>13.5</td>\n",
              "      <td>16.9</td>\n",
              "      <td>21.6</td>\n",
              "      <td>65.0</td>\n",
              "    </tr>\n",
              "  </tbody>\n",
              "</table>\n",
              "</div>\n",
              "      <button class=\"colab-df-convert\" onclick=\"convertToInteractive('df-b9e78532-d1b6-4ba3-b382-acfb120617f1')\"\n",
              "              title=\"Convert this dataframe to an interactive table.\"\n",
              "              style=\"display:none;\">\n",
              "        \n",
              "  <svg xmlns=\"http://www.w3.org/2000/svg\" height=\"24px\"viewBox=\"0 0 24 24\"\n",
              "       width=\"24px\">\n",
              "    <path d=\"M0 0h24v24H0V0z\" fill=\"none\"/>\n",
              "    <path d=\"M18.56 5.44l.94 2.06.94-2.06 2.06-.94-2.06-.94-.94-2.06-.94 2.06-2.06.94zm-11 1L8.5 8.5l.94-2.06 2.06-.94-2.06-.94L8.5 2.5l-.94 2.06-2.06.94zm10 10l.94 2.06.94-2.06 2.06-.94-2.06-.94-.94-2.06-.94 2.06-2.06.94z\"/><path d=\"M17.41 7.96l-1.37-1.37c-.4-.4-.92-.59-1.43-.59-.52 0-1.04.2-1.43.59L10.3 9.45l-7.72 7.72c-.78.78-.78 2.05 0 2.83L4 21.41c.39.39.9.59 1.41.59.51 0 1.02-.2 1.41-.59l7.78-7.78 2.81-2.81c.8-.78.8-2.07 0-2.86zM5.41 20L4 18.59l7.72-7.72 1.47 1.35L5.41 20z\"/>\n",
              "  </svg>\n",
              "      </button>\n",
              "      \n",
              "  <style>\n",
              "    .colab-df-container {\n",
              "      display:flex;\n",
              "      flex-wrap:wrap;\n",
              "      gap: 12px;\n",
              "    }\n",
              "\n",
              "    .colab-df-convert {\n",
              "      background-color: #E8F0FE;\n",
              "      border: none;\n",
              "      border-radius: 50%;\n",
              "      cursor: pointer;\n",
              "      display: none;\n",
              "      fill: #1967D2;\n",
              "      height: 32px;\n",
              "      padding: 0 0 0 0;\n",
              "      width: 32px;\n",
              "    }\n",
              "\n",
              "    .colab-df-convert:hover {\n",
              "      background-color: #E2EBFA;\n",
              "      box-shadow: 0px 1px 2px rgba(60, 64, 67, 0.3), 0px 1px 3px 1px rgba(60, 64, 67, 0.15);\n",
              "      fill: #174EA6;\n",
              "    }\n",
              "\n",
              "    [theme=dark] .colab-df-convert {\n",
              "      background-color: #3B4455;\n",
              "      fill: #D2E3FC;\n",
              "    }\n",
              "\n",
              "    [theme=dark] .colab-df-convert:hover {\n",
              "      background-color: #434B5C;\n",
              "      box-shadow: 0px 1px 3px 1px rgba(0, 0, 0, 0.15);\n",
              "      filter: drop-shadow(0px 1px 2px rgba(0, 0, 0, 0.3));\n",
              "      fill: #FFFFFF;\n",
              "    }\n",
              "  </style>\n",
              "\n",
              "      <script>\n",
              "        const buttonEl =\n",
              "          document.querySelector('#df-b9e78532-d1b6-4ba3-b382-acfb120617f1 button.colab-df-convert');\n",
              "        buttonEl.style.display =\n",
              "          google.colab.kernel.accessAllowed ? 'block' : 'none';\n",
              "\n",
              "        async function convertToInteractive(key) {\n",
              "          const element = document.querySelector('#df-b9e78532-d1b6-4ba3-b382-acfb120617f1');\n",
              "          const dataTable =\n",
              "            await google.colab.kernel.invokeFunction('convertToInteractive',\n",
              "                                                     [key], {});\n",
              "          if (!dataTable) return;\n",
              "\n",
              "          const docLinkHtml = 'Like what you see? Visit the ' +\n",
              "            '<a target=\"_blank\" href=https://colab.research.google.com/notebooks/data_table.ipynb>data table notebook</a>'\n",
              "            + ' to learn more about interactive tables.';\n",
              "          element.innerHTML = '';\n",
              "          dataTable['output_type'] = 'display_data';\n",
              "          await google.colab.output.renderOutput(dataTable, element);\n",
              "          const docLink = document.createElement('div');\n",
              "          docLink.innerHTML = docLinkHtml;\n",
              "          element.appendChild(docLink);\n",
              "        }\n",
              "      </script>\n",
              "    </div>\n",
              "  </div>\n",
              "  "
            ]
          },
          "metadata": {},
          "execution_count": 21
        },
        {
          "output_type": "display_data",
          "data": {
            "text/plain": [
              "<Figure size 720x288 with 2 Axes>"
            ],
            "image/png": "[encoded data removed]"
          },
          "metadata": {
            "needs_background": "light"
          }
        }
      ]
    },
    {
      "cell_type": "markdown",
      "metadata": {
        "id": "6ZAHrlotCTbm"
      },
      "source": [
        "#### Monthly Debt"
      ]
    },
    {
      "cell_type": "code",
      "metadata": {
        "colab": {
          "base_uri": "https://localhost:8080/",
          "height": 469
        },
        "id": "aV6tt3_mCTbm",
        "outputId": "3a5224e8-1e02-407d-85a0-64a85255c8aa"
      },
      "source": [
        "analyze_feature(train, 'Monthly Debt')"
      ],
      "execution_count": 22,
      "outputs": [
        {
          "output_type": "stream",
          "name": "stderr",
          "text": [
            "/usr/local/lib/python3.7/dist-packages/seaborn/distributions.py:2619: FutureWarning: `distplot` is a deprecated function and will be removed in a future version. Please adapt your code to use either `displot` (a figure-level function with similar flexibility) or `histplot` (an axes-level function for histograms).\n",
            "  warnings.warn(msg, FutureWarning)\n",
            "/usr/local/lib/python3.7/dist-packages/seaborn/distributions.py:2103: FutureWarning: The `axis` variable is no longer used and will be removed. Instead, assign variables directly to `x` or `y`.\n",
            "  warnings.warn(msg, FutureWarning)\n",
            "/usr/local/lib/python3.7/dist-packages/seaborn/_decorators.py:43: FutureWarning: Pass the following variable as a keyword arg: x. From version 0.12, the only valid positional argument will be `data`, and passing other arguments without an explicit keyword will result in an error or misinterpretation.\n",
            "  FutureWarning\n"
          ]
        },
        {
          "output_type": "execute_result",
          "data": {
            "text/plain": [
              "                count         mean           std  min        25%       50%  \\\n",
              "Monthly Debt  27878.0  18501.65793  12405.546897  0.0  10197.775  16279.39   \n",
              "\n",
              "                    75%        max  \n",
              "Monthly Debt  24000.895  435843.28  "
            ],
            "text/html": [
              "\n",
              "  <div id=\"df-f5c2b156-7ac6-4625-96d4-02be065a8f5e\">\n",
              "    <div class=\"colab-df-container\">\n",
              "      <div>\n",
              "<style scoped>\n",
              "    .dataframe tbody tr th:only-of-type {\n",
              "        vertical-align: middle;\n",
              "    }\n",
              "\n",
              "    .dataframe tbody tr th {\n",
              "        vertical-align: top;\n",
              "    }\n",
              "\n",
              "    .dataframe thead th {\n",
              "        text-align: right;\n",
              "    }\n",
              "</style>\n",
              "<table border=\"1\" class=\"dataframe\">\n",
              "  <thead>\n",
              "    <tr style=\"text-align: right;\">\n",
              "      <th></th>\n",
              "      <th>count</th>\n",
              "      <th>mean</th>\n",
              "      <th>std</th>\n",
              "      <th>min</th>\n",
              "      <th>25%</th>\n",
              "      <th>50%</th>\n",
              "      <th>75%</th>\n",
              "      <th>max</th>\n",
              "    </tr>\n",
              "  </thead>\n",
              "  <tbody>\n",
              "    <tr>\n",
              "      <th>Monthly Debt</th>\n",
              "      <td>27878.0</td>\n",
              "      <td>18501.65793</td>\n",
              "      <td>12405.546897</td>\n",
              "      <td>0.0</td>\n",
              "      <td>10197.775</td>\n",
              "      <td>16279.39</td>\n",
              "      <td>24000.895</td>\n",
              "      <td>435843.28</td>\n",
              "    </tr>\n",
              "  </tbody>\n",
              "</table>\n",
              "</div>\n",
              "      <button class=\"colab-df-convert\" onclick=\"convertToInteractive('df-f5c2b156-7ac6-4625-96d4-02be065a8f5e')\"\n",
              "              title=\"Convert this dataframe to an interactive table.\"\n",
              "              style=\"display:none;\">\n",
              "        \n",
              "  <svg xmlns=\"http://www.w3.org/2000/svg\" height=\"24px\"viewBox=\"0 0 24 24\"\n",
              "       width=\"24px\">\n",
              "    <path d=\"M0 0h24v24H0V0z\" fill=\"none\"/>\n",
              "    <path d=\"M18.56 5.44l.94 2.06.94-2.06 2.06-.94-2.06-.94-.94-2.06-.94 2.06-2.06.94zm-11 1L8.5 8.5l.94-2.06 2.06-.94-2.06-.94L8.5 2.5l-.94 2.06-2.06.94zm10 10l.94 2.06.94-2.06 2.06-.94-2.06-.94-.94-2.06-.94 2.06-2.06.94z\"/><path d=\"M17.41 7.96l-1.37-1.37c-.4-.4-.92-.59-1.43-.59-.52 0-1.04.2-1.43.59L10.3 9.45l-7.72 7.72c-.78.78-.78 2.05 0 2.83L4 21.41c.39.39.9.59 1.41.59.51 0 1.02-.2 1.41-.59l7.78-7.78 2.81-2.81c.8-.78.8-2.07 0-2.86zM5.41 20L4 18.59l7.72-7.72 1.47 1.35L5.41 20z\"/>\n",
              "  </svg>\n",
              "      </button>\n",
              "      \n",
              "  <style>\n",
              "    .colab-df-container {\n",
              "      display:flex;\n",
              "      flex-wrap:wrap;\n",
              "      gap: 12px;\n",
              "    }\n",
              "\n",
              "    .colab-df-convert {\n",
              "      background-color: #E8F0FE;\n",
              "      border: none;\n",
              "      border-radius: 50%;\n",
              "      cursor: pointer;\n",
              "      display: none;\n",
              "      fill: #1967D2;\n",
              "      height: 32px;\n",
              "      padding: 0 0 0 0;\n",
              "      width: 32px;\n",
              "    }\n",
              "\n",
              "    .colab-df-convert:hover {\n",
              "      background-color: #E2EBFA;\n",
              "      box-shadow: 0px 1px 2px rgba(60, 64, 67, 0.3), 0px 1px 3px 1px rgba(60, 64, 67, 0.15);\n",
              "      fill: #174EA6;\n",
              "    }\n",
              "\n",
              "    [theme=dark] .colab-df-convert {\n",
              "      background-color: #3B4455;\n",
              "      fill: #D2E3FC;\n",
              "    }\n",
              "\n",
              "    [theme=dark] .colab-df-convert:hover {\n",
              "      background-color: #434B5C;\n",
              "      box-shadow: 0px 1px 3px 1px rgba(0, 0, 0, 0.15);\n",
              "      filter: drop-shadow(0px 1px 2px rgba(0, 0, 0, 0.3));\n",
              "      fill: #FFFFFF;\n",
              "    }\n",
              "  </style>\n",
              "\n",
              "      <script>\n",
              "        const buttonEl =\n",
              "          document.querySelector('#df-f5c2b156-7ac6-4625-96d4-02be065a8f5e button.colab-df-convert');\n",
              "        buttonEl.style.display =\n",
              "          google.colab.kernel.accessAllowed ? 'block' : 'none';\n",
              "\n",
              "        async function convertToInteractive(key) {\n",
              "          const element = document.querySelector('#df-f5c2b156-7ac6-4625-96d4-02be065a8f5e');\n",
              "          const dataTable =\n",
              "            await google.colab.kernel.invokeFunction('convertToInteractive',\n",
              "                                                     [key], {});\n",
              "          if (!dataTable) return;\n",
              "\n",
              "          const docLinkHtml = 'Like what you see? Visit the ' +\n",
              "            '<a target=\"_blank\" href=https://colab.research.google.com/notebooks/data_table.ipynb>data table notebook</a>'\n",
              "            + ' to learn more about interactive tables.';\n",
              "          element.innerHTML = '';\n",
              "          dataTable['output_type'] = 'display_data';\n",
              "          await google.colab.output.renderOutput(dataTable, element);\n",
              "          const docLink = document.createElement('div');\n",
              "          docLink.innerHTML = docLinkHtml;\n",
              "          element.appendChild(docLink);\n",
              "        }\n",
              "      </script>\n",
              "    </div>\n",
              "  </div>\n",
              "  "
            ]
          },
          "metadata": {},
          "execution_count": 22
        },
        {
          "output_type": "display_data",
          "data": {
            "text/plain": [
              "<Figure size 720x288 with 2 Axes>"
            ],
            "image/png": "[encoded data removed]"
          },
          "metadata": {
            "needs_background": "light"
          }
        }
      ]
    },
    {
      "cell_type": "markdown",
      "metadata": {
        "id": "IHAzD_3xCTbn"
      },
      "source": [
        "#### Number of Credit Problems"
      ]
    },
    {
      "cell_type": "code",
      "metadata": {
        "colab": {
          "base_uri": "https://localhost:8080/",
          "height": 469
        },
        "id": "TNiI1Ti_CTbn",
        "outputId": "3732c436-3be5-42bb-ca01-ef96eb34fcb8"
      },
      "source": [
        "\n",
        "analyze_feature(train, 'Number of Credit Problems')"
      ],
      "execution_count": 23,
      "outputs": [
        {
          "output_type": "stream",
          "name": "stderr",
          "text": [
            "/usr/local/lib/python3.7/dist-packages/seaborn/distributions.py:2619: FutureWarning: `distplot` is a deprecated function and will be removed in a future version. Please adapt your code to use either `displot` (a figure-level function with similar flexibility) or `histplot` (an axes-level function for histograms).\n",
            "  warnings.warn(msg, FutureWarning)\n",
            "/usr/local/lib/python3.7/dist-packages/seaborn/distributions.py:2103: FutureWarning: The `axis` variable is no longer used and will be removed. Instead, assign variables directly to `x` or `y`.\n",
            "  warnings.warn(msg, FutureWarning)\n",
            "/usr/local/lib/python3.7/dist-packages/seaborn/_decorators.py:43: FutureWarning: Pass the following variable as a keyword arg: x. From version 0.12, the only valid positional argument will be `data`, and passing other arguments without an explicit keyword will result in an error or misinterpretation.\n",
            "  FutureWarning\n"
          ]
        },
        {
          "output_type": "execute_result",
          "data": {
            "text/plain": [
              "                             count      mean       std  min  25%  50%  75%  \\\n",
              "Number of Credit Problems  27877.0  0.167665  0.475106  0.0  0.0  0.0  0.0   \n",
              "\n",
              "                            max  \n",
              "Number of Credit Problems  11.0  "
            ],
            "text/html": [
              "\n",
              "  <div id=\"df-dbbaf6b0-4adf-4539-a437-4ad99503d138\">\n",
              "    <div class=\"colab-df-container\">\n",
              "      <div>\n",
              "<style scoped>\n",
              "    .dataframe tbody tr th:only-of-type {\n",
              "        vertical-align: middle;\n",
              "    }\n",
              "\n",
              "    .dataframe tbody tr th {\n",
              "        vertical-align: top;\n",
              "    }\n",
              "\n",
              "    .dataframe thead th {\n",
              "        text-align: right;\n",
              "    }\n",
              "</style>\n",
              "<table border=\"1\" class=\"dataframe\">\n",
              "  <thead>\n",
              "    <tr style=\"text-align: right;\">\n",
              "      <th></th>\n",
              "      <th>count</th>\n",
              "      <th>mean</th>\n",
              "      <th>std</th>\n",
              "      <th>min</th>\n",
              "      <th>25%</th>\n",
              "      <th>50%</th>\n",
              "      <th>75%</th>\n",
              "      <th>max</th>\n",
              "    </tr>\n",
              "  </thead>\n",
              "  <tbody>\n",
              "    <tr>\n",
              "      <th>Number of Credit Problems</th>\n",
              "      <td>27877.0</td>\n",
              "      <td>0.167665</td>\n",
              "      <td>0.475106</td>\n",
              "      <td>0.0</td>\n",
              "      <td>0.0</td>\n",
              "      <td>0.0</td>\n",
              "      <td>0.0</td>\n",
              "      <td>11.0</td>\n",
              "    </tr>\n",
              "  </tbody>\n",
              "</table>\n",
              "</div>\n",
              "      <button class=\"colab-df-convert\" onclick=\"convertToInteractive('df-dbbaf6b0-4adf-4539-a437-4ad99503d138')\"\n",
              "              title=\"Convert this dataframe to an interactive table.\"\n",
              "              style=\"display:none;\">\n",
              "        \n",
              "  <svg xmlns=\"http://www.w3.org/2000/svg\" height=\"24px\"viewBox=\"0 0 24 24\"\n",
              "       width=\"24px\">\n",
              "    <path d=\"M0 0h24v24H0V0z\" fill=\"none\"/>\n",
              "    <path d=\"M18.56 5.44l.94 2.06.94-2.06 2.06-.94-2.06-.94-.94-2.06-.94 2.06-2.06.94zm-11 1L8.5 8.5l.94-2.06 2.06-.94-2.06-.94L8.5 2.5l-.94 2.06-2.06.94zm10 10l.94 2.06.94-2.06 2.06-.94-2.06-.94-.94-2.06-.94 2.06-2.06.94z\"/><path d=\"M17.41 7.96l-1.37-1.37c-.4-.4-.92-.59-1.43-.59-.52 0-1.04.2-1.43.59L10.3 9.45l-7.72 7.72c-.78.78-.78 2.05 0 2.83L4 21.41c.39.39.9.59 1.41.59.51 0 1.02-.2 1.41-.59l7.78-7.78 2.81-2.81c.8-.78.8-2.07 0-2.86zM5.41 20L4 18.59l7.72-7.72 1.47 1.35L5.41 20z\"/>\n",
              "  </svg>\n",
              "      </button>\n",
              "      \n",
              "  <style>\n",
              "    .colab-df-container {\n",
              "      display:flex;\n",
              "      flex-wrap:wrap;\n",
              "      gap: 12px;\n",
              "    }\n",
              "\n",
              "    .colab-df-convert {\n",
              "      background-color: #E8F0FE;\n",
              "      border: none;\n",
              "      border-radius: 50%;\n",
              "      cursor: pointer;\n",
              "      display: none;\n",
              "      fill: #1967D2;\n",
              "      height: 32px;\n",
              "      padding: 0 0 0 0;\n",
              "      width: 32px;\n",
              "    }\n",
              "\n",
              "    .colab-df-convert:hover {\n",
              "      background-color: #E2EBFA;\n",
              "      box-shadow: 0px 1px 2px rgba(60, 64, 67, 0.3), 0px 1px 3px 1px rgba(60, 64, 67, 0.15);\n",
              "      fill: #174EA6;\n",
              "    }\n",
              "\n",
              "    [theme=dark] .colab-df-convert {\n",
              "      background-color: #3B4455;\n",
              "      fill: #D2E3FC;\n",
              "    }\n",
              "\n",
              "    [theme=dark] .colab-df-convert:hover {\n",
              "      background-color: #434B5C;\n",
              "      box-shadow: 0px 1px 3px 1px rgba(0, 0, 0, 0.15);\n",
              "      filter: drop-shadow(0px 1px 2px rgba(0, 0, 0, 0.3));\n",
              "      fill: #FFFFFF;\n",
              "    }\n",
              "  </style>\n",
              "\n",
              "      <script>\n",
              "        const buttonEl =\n",
              "          document.querySelector('#df-dbbaf6b0-4adf-4539-a437-4ad99503d138 button.colab-df-convert');\n",
              "        buttonEl.style.display =\n",
              "          google.colab.kernel.accessAllowed ? 'block' : 'none';\n",
              "\n",
              "        async function convertToInteractive(key) {\n",
              "          const element = document.querySelector('#df-dbbaf6b0-4adf-4539-a437-4ad99503d138');\n",
              "          const dataTable =\n",
              "            await google.colab.kernel.invokeFunction('convertToInteractive',\n",
              "                                                     [key], {});\n",
              "          if (!dataTable) return;\n",
              "\n",
              "          const docLinkHtml = 'Like what you see? Visit the ' +\n",
              "            '<a target=\"_blank\" href=https://colab.research.google.com/notebooks/data_table.ipynb>data table notebook</a>'\n",
              "            + ' to learn more about interactive tables.';\n",
              "          element.innerHTML = '';\n",
              "          dataTable['output_type'] = 'display_data';\n",
              "          await google.colab.output.renderOutput(dataTable, element);\n",
              "          const docLink = document.createElement('div');\n",
              "          docLink.innerHTML = docLinkHtml;\n",
              "          element.appendChild(docLink);\n",
              "        }\n",
              "      </script>\n",
              "    </div>\n",
              "  </div>\n",
              "  "
            ]
          },
          "metadata": {},
          "execution_count": 23
        },
        {
          "output_type": "display_data",
          "data": {
            "text/plain": [
              "<Figure size 720x288 with 2 Axes>"
            ],
            "image/png": "[encoded data removed]"
          },
          "metadata": {
            "needs_background": "light"
          }
        }
      ]
    },
    {
      "cell_type": "markdown",
      "metadata": {
        "id": "RGzgNtSNCTbo"
      },
      "source": [
        "#### Current Credit Balance"
      ]
    },
    {
      "cell_type": "code",
      "metadata": {
        "colab": {
          "base_uri": "https://localhost:8080/",
          "height": 478
        },
        "id": "UQbFaEKECTbp",
        "outputId": "a93e5354-2d67-4c79-ffd3-ada45d3dd9d2"
      },
      "source": [
        "analyze_feature(train, 'Current Credit Balance', 45)"
      ],
      "execution_count": 24,
      "outputs": [
        {
          "output_type": "stream",
          "name": "stderr",
          "text": [
            "/usr/local/lib/python3.7/dist-packages/seaborn/distributions.py:2619: FutureWarning: `distplot` is a deprecated function and will be removed in a future version. Please adapt your code to use either `displot` (a figure-level function with similar flexibility) or `histplot` (an axes-level function for histograms).\n",
            "  warnings.warn(msg, FutureWarning)\n",
            "/usr/local/lib/python3.7/dist-packages/seaborn/distributions.py:2103: FutureWarning: The `axis` variable is no longer used and will be removed. Instead, assign variables directly to `x` or `y`.\n",
            "  warnings.warn(msg, FutureWarning)\n",
            "/usr/local/lib/python3.7/dist-packages/seaborn/_decorators.py:43: FutureWarning: Pass the following variable as a keyword arg: x. From version 0.12, the only valid positional argument will be `data`, and passing other arguments without an explicit keyword will result in an error or misinterpretation.\n",
            "  FutureWarning\n"
          ]
        },
        {
          "output_type": "execute_result",
          "data": {
            "text/plain": [
              "                          count          mean            std  min       25%  \\\n",
              "Current Credit Balance  27877.0  297447.63425  409891.999664  0.0  112917.0   \n",
              "\n",
              "                             50%       75%         max  \n",
              "Current Credit Balance  210349.0  370443.0  32878968.0  "
            ],
            "text/html": [
              "\n",
              "  <div id=\"df-d46653bf-4034-4377-81c2-b41a69802f60\">\n",
              "    <div class=\"colab-df-container\">\n",
              "      <div>\n",
              "<style scoped>\n",
              "    .dataframe tbody tr th:only-of-type {\n",
              "        vertical-align: middle;\n",
              "    }\n",
              "\n",
              "    .dataframe tbody tr th {\n",
              "        vertical-align: top;\n",
              "    }\n",
              "\n",
              "    .dataframe thead th {\n",
              "        text-align: right;\n",
              "    }\n",
              "</style>\n",
              "<table border=\"1\" class=\"dataframe\">\n",
              "  <thead>\n",
              "    <tr style=\"text-align: right;\">\n",
              "      <th></th>\n",
              "      <th>count</th>\n",
              "      <th>mean</th>\n",
              "      <th>std</th>\n",
              "      <th>min</th>\n",
              "      <th>25%</th>\n",
              "      <th>50%</th>\n",
              "      <th>75%</th>\n",
              "      <th>max</th>\n",
              "    </tr>\n",
              "  </thead>\n",
              "  <tbody>\n",
              "    <tr>\n",
              "      <th>Current Credit Balance</th>\n",
              "      <td>27877.0</td>\n",
              "      <td>297447.63425</td>\n",
              "      <td>409891.999664</td>\n",
              "      <td>0.0</td>\n",
              "      <td>112917.0</td>\n",
              "      <td>210349.0</td>\n",
              "      <td>370443.0</td>\n",
              "      <td>32878968.0</td>\n",
              "    </tr>\n",
              "  </tbody>\n",
              "</table>\n",
              "</div>\n",
              "      <button class=\"colab-df-convert\" onclick=\"convertToInteractive('df-d46653bf-4034-4377-81c2-b41a69802f60')\"\n",
              "              title=\"Convert this dataframe to an interactive table.\"\n",
              "              style=\"display:none;\">\n",
              "        \n",
              "  <svg xmlns=\"http://www.w3.org/2000/svg\" height=\"24px\"viewBox=\"0 0 24 24\"\n",
              "       width=\"24px\">\n",
              "    <path d=\"M0 0h24v24H0V0z\" fill=\"none\"/>\n",
              "    <path d=\"M18.56 5.44l.94 2.06.94-2.06 2.06-.94-2.06-.94-.94-2.06-.94 2.06-2.06.94zm-11 1L8.5 8.5l.94-2.06 2.06-.94-2.06-.94L8.5 2.5l-.94 2.06-2.06.94zm10 10l.94 2.06.94-2.06 2.06-.94-2.06-.94-.94-2.06-.94 2.06-2.06.94z\"/><path d=\"M17.41 7.96l-1.37-1.37c-.4-.4-.92-.59-1.43-.59-.52 0-1.04.2-1.43.59L10.3 9.45l-7.72 7.72c-.78.78-.78 2.05 0 2.83L4 21.41c.39.39.9.59 1.41.59.51 0 1.02-.2 1.41-.59l7.78-7.78 2.81-2.81c.8-.78.8-2.07 0-2.86zM5.41 20L4 18.59l7.72-7.72 1.47 1.35L5.41 20z\"/>\n",
              "  </svg>\n",
              "      </button>\n",
              "      \n",
              "  <style>\n",
              "    .colab-df-container {\n",
              "      display:flex;\n",
              "      flex-wrap:wrap;\n",
              "      gap: 12px;\n",
              "    }\n",
              "\n",
              "    .colab-df-convert {\n",
              "      background-color: #E8F0FE;\n",
              "      border: none;\n",
              "      border-radius: 50%;\n",
              "      cursor: pointer;\n",
              "      display: none;\n",
              "      fill: #1967D2;\n",
              "      height: 32px;\n",
              "      padding: 0 0 0 0;\n",
              "      width: 32px;\n",
              "    }\n",
              "\n",
              "    .colab-df-convert:hover {\n",
              "      background-color: #E2EBFA;\n",
              "      box-shadow: 0px 1px 2px rgba(60, 64, 67, 0.3), 0px 1px 3px 1px rgba(60, 64, 67, 0.15);\n",
              "      fill: #174EA6;\n",
              "    }\n",
              "\n",
              "    [theme=dark] .colab-df-convert {\n",
              "      background-color: #3B4455;\n",
              "      fill: #D2E3FC;\n",
              "    }\n",
              "\n",
              "    [theme=dark] .colab-df-convert:hover {\n",
              "      background-color: #434B5C;\n",
              "      box-shadow: 0px 1px 3px 1px rgba(0, 0, 0, 0.15);\n",
              "      filter: drop-shadow(0px 1px 2px rgba(0, 0, 0, 0.3));\n",
              "      fill: #FFFFFF;\n",
              "    }\n",
              "  </style>\n",
              "\n",
              "      <script>\n",
              "        const buttonEl =\n",
              "          document.querySelector('#df-d46653bf-4034-4377-81c2-b41a69802f60 button.colab-df-convert');\n",
              "        buttonEl.style.display =\n",
              "          google.colab.kernel.accessAllowed ? 'block' : 'none';\n",
              "\n",
              "        async function convertToInteractive(key) {\n",
              "          const element = document.querySelector('#df-d46653bf-4034-4377-81c2-b41a69802f60');\n",
              "          const dataTable =\n",
              "            await google.colab.kernel.invokeFunction('convertToInteractive',\n",
              "                                                     [key], {});\n",
              "          if (!dataTable) return;\n",
              "\n",
              "          const docLinkHtml = 'Like what you see? Visit the ' +\n",
              "            '<a target=\"_blank\" href=https://colab.research.google.com/notebooks/data_table.ipynb>data table notebook</a>'\n",
              "            + ' to learn more about interactive tables.';\n",
              "          element.innerHTML = '';\n",
              "          dataTable['output_type'] = 'display_data';\n",
              "          await google.colab.output.renderOutput(dataTable, element);\n",
              "          const docLink = document.createElement('div');\n",
              "          docLink.innerHTML = docLinkHtml;\n",
              "          element.appendChild(docLink);\n",
              "        }\n",
              "      </script>\n",
              "    </div>\n",
              "  </div>\n",
              "  "
            ]
          },
          "metadata": {},
          "execution_count": 24
        },
        {
          "output_type": "display_data",
          "data": {
            "text/plain": [
              "<Figure size 720x288 with 2 Axes>"
            ],
            "image/png": "[encoded data removed]"
          },
          "metadata": {
            "needs_background": "light"
          }
        }
      ]
    },
    {
      "cell_type": "markdown",
      "metadata": {
        "id": "HQyApR15CTbp"
      },
      "source": [
        "#### Filling Missing Values"
      ]
    },
    {
      "cell_type": "code",
      "metadata": {
        "colab": {
          "base_uri": "https://localhost:8080/"
        },
        "id": "aIVBnlu3CTbq",
        "outputId": "3940adee-4f49-4edc-9ea4-5f064b4de657"
      },
      "source": [
        "#iterating the dataset looking for missing value\n",
        "for i in train.columns:\n",
        "    print (i + \": \"+str(sum(train[i].isnull()))+\" missing value\")"
      ],
      "execution_count": 25,
      "outputs": [
        {
          "output_type": "stream",
          "name": "stdout",
          "text": [
            "Loan ID: 0 missing value\n",
            "Customer ID: 0 missing value\n",
            "Loan Status: 0 missing value\n",
            "Current Loan Amount: 0 missing value\n",
            "Term: 0 missing value\n",
            "Credit Score: 5434 missing value\n",
            "Annual Income: 5434 missing value\n",
            "Years in current job: 1174 missing value\n",
            "Home Ownership: 0 missing value\n",
            "Purpose: 0 missing value\n",
            "Monthly Debt: 0 missing value\n",
            "Years of Credit History: 0 missing value\n",
            "Months since last delinquent: 14971 missing value\n",
            "Number of Open Accounts: 0 missing value\n",
            "Number of Credit Problems: 1 missing value\n",
            "Current Credit Balance: 1 missing value\n",
            "Maximum Open Credit: 1 missing value\n",
            "Bankruptcies: 58 missing value\n",
            "Tax Liens: 5 missing value\n"
          ]
        }
      ]
    },
    {
      "cell_type": "code",
      "metadata": {
        "colab": {
          "base_uri": "https://localhost:8080/"
        },
        "id": "h1W-Z-wOCTbq",
        "outputId": "c997b0ca-35ae-4cc2-a49d-46e2b6a93091"
      },
      "source": [
        "#iterating the dataset looking for missing value\n",
        "for i in test.columns:\n",
        "    print (i + \": \"+str(sum(test[i].isnull()))+\" missing value\")"
      ],
      "execution_count": 26,
      "outputs": [
        {
          "output_type": "stream",
          "name": "stdout",
          "text": [
            "Loan ID: 353 missing value\n",
            "Customer ID: 353 missing value\n",
            "Current Loan Amount: 353 missing value\n",
            "Term: 353 missing value\n",
            "Credit Score: 2334 missing value\n",
            "Annual Income: 2334 missing value\n",
            "Years in current job: 780 missing value\n",
            "Home Ownership: 353 missing value\n",
            "Purpose: 353 missing value\n",
            "Monthly Debt: 353 missing value\n",
            "Years of Credit History: 353 missing value\n",
            "Months since last delinquent: 5659 missing value\n",
            "Number of Open Accounts: 353 missing value\n",
            "Number of Credit Problems: 353 missing value\n",
            "Current Credit Balance: 353 missing value\n",
            "Maximum Open Credit: 353 missing value\n",
            "Bankruptcies: 375 missing value\n",
            "Tax Liens: 354 missing value\n"
          ]
        }
      ]
    },
    {
      "cell_type": "code",
      "metadata": {
        "id": "l-XbO547CTbr"
      },
      "source": [
        "#filling with mode\n",
        "def impute_mode(df, feature): \n",
        "  most_frequent_category=df[feature].mode()[0]\n",
        "  df[feature].fillna(most_frequent_category,inplace=True)"
      ],
      "execution_count": 27,
      "outputs": []
    },
    {
      "cell_type": "code",
      "metadata": {
        "id": "HOsikdE2CTbs"
      },
      "source": [
        "impute_mode(train, 'Term')\n",
        "impute_mode(train, 'Home Ownership')\n",
        "impute_mode(train, 'Purpose')\n",
        "impute_mode(train, 'Years in current job')\n",
        "impute_mode(train, 'Loan Status')"
      ],
      "execution_count": 28,
      "outputs": []
    },
    {
      "cell_type": "code",
      "metadata": {
        "id": "VZtouAeDG8Dc"
      },
      "source": [
        "impute_mode(test, 'Term')\n",
        "impute_mode(test, 'Home Ownership')\n",
        "impute_mode(test, 'Purpose')\n",
        "impute_mode(test, 'Years in current job')"
      ],
      "execution_count": 29,
      "outputs": []
    },
    {
      "cell_type": "code",
      "metadata": {
        "id": "xdjtxZfFCTbt"
      },
      "source": [
        "#filling with meadian\n",
        "def impute_median(df, feature): \n",
        "    df[feature].fillna(df[feature].median(),inplace=True)"
      ],
      "execution_count": 30,
      "outputs": []
    },
    {
      "cell_type": "code",
      "metadata": {
        "id": "93GGiM07CTbt"
      },
      "source": [
        "impute_median(train, 'Current Loan Amount')\n",
        "impute_median(train, 'Annual Income')\n",
        "impute_median(train, 'Monthly Debt')\n",
        "impute_median(train, 'Months since last delinquent')\n",
        "impute_median(train, 'Years of Credit History')\n",
        "impute_median(train, 'Tax Liens')\n",
        "impute_median(train, 'Number of Open Accounts')\n",
        "impute_median(train, 'Current Credit Balance')\n",
        "impute_median(train, 'Maximum Open Credit')\n",
        "impute_median(train, 'Bankruptcies')\n",
        "impute_median(train, 'Number of Credit Problems')"
      ],
      "execution_count": 31,
      "outputs": []
    },
    {
      "cell_type": "code",
      "metadata": {
        "id": "8WGmmCd7CTbu"
      },
      "source": [
        "impute_median(test, 'Current Loan Amount')\n",
        "impute_median(test, 'Annual Income')\n",
        "impute_median(test, 'Monthly Debt')\n",
        "impute_median(test, 'Months since last delinquent')\n",
        "impute_median(test, 'Years of Credit History')\n",
        "impute_median(test, 'Tax Liens')\n",
        "impute_median(test, 'Number of Open Accounts')\n",
        "impute_median(test, 'Current Credit Balance')\n",
        "impute_median(test, 'Maximum Open Credit')\n",
        "impute_median(test, 'Bankruptcies')\n",
        "impute_median(test, 'Number of Credit Problems')"
      ],
      "execution_count": 32,
      "outputs": []
    },
    {
      "cell_type": "code",
      "metadata": {
        "id": "2wAJEsJaCTbw"
      },
      "source": [
        "def impute_zero(df, feature):\n",
        "    df[feature].fillna(0, inplace=True) "
      ],
      "execution_count": 33,
      "outputs": []
    },
    {
      "cell_type": "code",
      "metadata": {
        "id": "ykraxH6QCTbw"
      },
      "source": [
        "impute_zero(train, 'Credit Score')\n",
        "impute_zero(test, 'Credit Score')"
      ],
      "execution_count": 34,
      "outputs": []
    },
    {
      "cell_type": "markdown",
      "metadata": {
        "id": "XndZshOjCTbg"
      },
      "source": [
        "It can be seen that around 2 type of loan status exist in this data set i.e. Defaulted and Not Defaulted. Hence, we will need to add a new variable which will be of binomial type (0s and 1s).\n",
        "\n",
        "* 0 means Not Defaulted\n",
        "* 1 means Defaulted\n",
        "All those loans, whose status is **Fully Paid** will be categorized as Not Defaulted and **Charged off** will be categorized as Defaulted. "
      ]
    },
    {
      "cell_type": "code",
      "metadata": {
        "colab": {
          "base_uri": "https://localhost:8080/"
        },
        "id": "7OeJCsYQEyyh",
        "outputId": "860df098-9fa5-4b4e-f56e-fb708722a538"
      },
      "source": [
        "train['Loan Status'].value_counts()/ len(train)*100"
      ],
      "execution_count": 35,
      "outputs": [
        {
          "output_type": "execute_result",
          "data": {
            "text/plain": [
              "Fully Paid     77.476863\n",
              "Charged Off    22.523137\n",
              "Name: Loan Status, dtype: float64"
            ]
          },
          "metadata": {},
          "execution_count": 35
        }
      ]
    },
    {
      "cell_type": "markdown",
      "metadata": {
        "id": "ypAf6ZrfCTbg"
      },
      "source": [
        "It can be seen from above table that only 22.5% of loans are defaulted. Hence, this is very imbalanced data set, which will require some tweaking in parameters during prediction modelling. This we will cover at the end of this entire analysis if need be"
      ]
    },
    {
      "cell_type": "code",
      "metadata": {
        "id": "Tnu38rKcNOYI"
      },
      "source": [
        "do ={'Fully Paid':0,'Charged Off':1}"
      ],
      "execution_count": 36,
      "outputs": []
    },
    {
      "cell_type": "code",
      "metadata": {
        "id": "GXFgL4-tNjwy"
      },
      "source": [
        "train['default_not'] = train['Loan Status'].map(do)"
      ],
      "execution_count": 37,
      "outputs": []
    },
    {
      "cell_type": "code",
      "metadata": {
        "colab": {
          "base_uri": "https://localhost:8080/",
          "height": 297
        },
        "id": "mQZoWZwzCTbw",
        "outputId": "56848c61-a060-4c7e-9dd3-137467fc4b3c"
      },
      "source": [
        "sns.countplot(data=train, x='Home Ownership')"
      ],
      "execution_count": 38,
      "outputs": [
        {
          "output_type": "execute_result",
          "data": {
            "text/plain": [
              "<matplotlib.axes._subplots.AxesSubplot at 0x7fb4b3d97490>"
            ]
          },
          "metadata": {},
          "execution_count": 38
        },
        {
          "output_type": "display_data",
          "data": {
            "text/plain": [
              "<Figure size 432x288 with 1 Axes>"
            ],
            "image/png": "[encoded data removed]"
          },
          "metadata": {
            "needs_background": "light"
          }
        }
      ]
    },
    {
      "cell_type": "code",
      "metadata": {
        "colab": {
          "base_uri": "https://localhost:8080/",
          "height": 297
        },
        "id": "6Y3lggNeCTbx",
        "outputId": "fad704d1-9540-4bdb-afa8-07439f0cf092"
      },
      "source": [
        "sns.countplot(data=train, x='Term')"
      ],
      "execution_count": 39,
      "outputs": [
        {
          "output_type": "execute_result",
          "data": {
            "text/plain": [
              "<matplotlib.axes._subplots.AxesSubplot at 0x7fb4b70d98d0>"
            ]
          },
          "metadata": {},
          "execution_count": 39
        },
        {
          "output_type": "display_data",
          "data": {
            "text/plain": [
              "<Figure size 432x288 with 1 Axes>"
            ],
            "image/png": "[encoded data removed]"
          },
          "metadata": {
            "needs_background": "light"
          }
        }
      ]
    },
    {
      "cell_type": "code",
      "metadata": {
        "colab": {
          "base_uri": "https://localhost:8080/",
          "height": 297
        },
        "id": "Pn3g5lE-CTby",
        "outputId": "7a994e00-da4b-46f9-8285-448cc58cdf95"
      },
      "source": [
        "sns.countplot(data=train, x='Loan Status')"
      ],
      "execution_count": 40,
      "outputs": [
        {
          "output_type": "execute_result",
          "data": {
            "text/plain": [
              "<matplotlib.axes._subplots.AxesSubplot at 0x7fb4b72bdcd0>"
            ]
          },
          "metadata": {},
          "execution_count": 40
        },
        {
          "output_type": "display_data",
          "data": {
            "text/plain": [
              "<Figure size 432x288 with 1 Axes>"
            ],
            "image/png": "[encoded data removed]"
          },
          "metadata": {
            "needs_background": "light"
          }
        }
      ]
    },
    {
      "cell_type": "code",
      "metadata": {
        "colab": {
          "base_uri": "https://localhost:8080/",
          "height": 321
        },
        "id": "xamldi_uCTb0",
        "outputId": "33a9b388-8f6f-476d-c8b6-6fab5472b86a"
      },
      "source": [
        "sns.countplot(data=train, x='Years in current job')\n",
        "pyplot.xticks(rotation=90)\n",
        "pyplot.show()"
      ],
      "execution_count": 41,
      "outputs": [
        {
          "output_type": "display_data",
          "data": {
            "text/plain": [
              "<Figure size 432x288 with 1 Axes>"
            ],
            "image/png": "[encoded data removed]"
          },
          "metadata": {
            "needs_background": "light"
          }
        }
      ]
    },
    {
      "cell_type": "code",
      "metadata": {
        "colab": {
          "base_uri": "https://localhost:8080/",
          "height": 379
        },
        "id": "NY-SP6_KCTb1",
        "outputId": "5f212800-a24a-45e4-b864-186045e031ef"
      },
      "source": [
        "sns.countplot(data=train, x='Purpose')\n",
        "pyplot.xticks(rotation=90)\n",
        "pyplot.show()"
      ],
      "execution_count": 42,
      "outputs": [
        {
          "output_type": "display_data",
          "data": {
            "text/plain": [
              "<Figure size 432x288 with 1 Axes>"
            ],
            "image/png": "[encoded data removed]"
          },
          "metadata": {
            "needs_background": "light"
          }
        }
      ]
    },
    {
      "cell_type": "markdown",
      "metadata": {
        "id": "CKmiNdj1CTb2"
      },
      "source": [
        "#### Droping of uninformative columns¶\n",
        "This is as a result of the Column that are irrelevant in model building"
      ]
    },
    {
      "cell_type": "code",
      "metadata": {
        "colab": {
          "base_uri": "https://localhost:8080/"
        },
        "id": "dOeeXJv4CTb2",
        "outputId": "325c9edd-a922-4649-8414-4e75cdf0faef"
      },
      "source": [
        "xyz = ['Loan ID', 'Customer ID']\n",
        "train.drop(xyz,axis=1,inplace=True)\n",
        "print(\"shape of data is: {}\".format(train.shape))"
      ],
      "execution_count": 43,
      "outputs": [
        {
          "output_type": "stream",
          "name": "stdout",
          "text": [
            "shape of data is: (27878, 18)\n"
          ]
        }
      ]
    },
    {
      "cell_type": "code",
      "metadata": {
        "colab": {
          "base_uri": "https://localhost:8080/"
        },
        "id": "d0AHbKoBCTb3",
        "outputId": "d32e2f74-92ff-4cbd-fcd6-78f34b67621f"
      },
      "source": [
        "test.drop(xyz,axis=1,inplace=True)\n",
        "print(\"shape of data is: {}\".format(train.shape))"
      ],
      "execution_count": 44,
      "outputs": [
        {
          "output_type": "stream",
          "name": "stdout",
          "text": [
            "shape of data is: (27878, 18)\n"
          ]
        }
      ]
    },
    {
      "cell_type": "code",
      "metadata": {
        "id": "_yEHU167eH5_"
      },
      "source": [
        ""
      ],
      "execution_count": 44,
      "outputs": []
    },
    {
      "cell_type": "code",
      "metadata": {
        "id": "rVwEhr0heIve"
      },
      "source": [
        "def outliers(df, feature):\n",
        "  IQR = df[feature].quantile(0.75) - df[feature].quantile(0.25)\n",
        "  Lower_fence = df[feature].quantile(0.25) - (IQR * 3)\n",
        "  Upper_fence = df[feature].quantile(0.75) + (IQR * 3)\n",
        "  \n",
        "  IQR2 = df[feature].quantile(0.75) - df[feature].quantile(0.25)\n",
        "\n",
        "  Lower_fence = df[feature].quantile(0.25) - (IQR * 1.5)\n",
        "  Upper_fence = df[feature].quantile(0.75) + (IQR * 1.5)\n",
        "  \n",
        "  df[feature] = np.where(df[feature]<Lower_fence, Lower_fence , df[feature] )"
      ],
      "execution_count": 45,
      "outputs": []
    },
    {
      "cell_type": "code",
      "metadata": {
        "id": "FhvX9CxheKpK"
      },
      "source": [
        "outliers(train, 'Current Loan Amount')\n",
        "outliers(train, 'Annual Income')\n",
        "outliers(train, 'Monthly Debt')\n",
        "outliers(train, 'Months since last delinquent')\n",
        "outliers(train, 'Years of Credit History')\n",
        "outliers(train, 'Tax Liens')\n",
        "outliers(train, 'Number of Open Accounts')\n",
        "outliers(train, 'Current Credit Balance')\n",
        "outliers(train, 'Maximum Open Credit')\n",
        "outliers(train, 'Bankruptcies')\n",
        "outliers(train, 'Number of Credit Problems')"
      ],
      "execution_count": 46,
      "outputs": []
    },
    {
      "cell_type": "code",
      "metadata": {
        "id": "rC5SztA7eogH"
      },
      "source": [
        "outliers(test, 'Current Loan Amount')\n",
        "outliers(test, 'Annual Income')\n",
        "outliers(test, 'Monthly Debt')\n",
        "outliers(test, 'Months since last delinquent')\n",
        "outliers(test, 'Years of Credit History')\n",
        "outliers(test, 'Tax Liens')\n",
        "outliers(test, 'Number of Open Accounts')\n",
        "outliers(test, 'Current Credit Balance')\n",
        "outliers(test, 'Maximum Open Credit')\n",
        "outliers(test, 'Bankruptcies')\n",
        "outliers(test, 'Number of Credit Problems')"
      ],
      "execution_count": 47,
      "outputs": []
    },
    {
      "cell_type": "markdown",
      "metadata": {
        "id": "GRtNFl67iZtf"
      },
      "source": [
        "Let us deal with the categorical values in the training and test dataset"
      ]
    },
    {
      "cell_type": "code",
      "metadata": {
        "id": "d_pLiIIaiY9Z"
      },
      "source": [
        "# creating instance of labelencoder\n",
        "labelencoder = LabelEncoder()\n",
        "# Assigning numerical values and storing in another column\n",
        "train['Term'] = labelencoder.fit_transform(train['Term'])\n",
        "test['Term'] = labelencoder.fit_transform(test['Term'])"
      ],
      "execution_count": 48,
      "outputs": []
    },
    {
      "cell_type": "code",
      "metadata": {
        "id": "5CHnE1nBiqsH"
      },
      "source": [
        "cat  = ['Home Ownership', 'Purpose']\n",
        "# creating instance of one-hot-encoder\n",
        "enc = OneHotEncoder(handle_unknown='ignore')\n",
        "\n",
        "# create dummy columns and drop the first dummy column\n",
        "df_dropped = pd.get_dummies(train[cat], prefix='cat', drop_first=True)\n",
        "df_droppedtest = pd.get_dummies(test[cat], prefix='cat', drop_first=True)\n",
        "\n",
        "# change the data type to float\n",
        "#df_dropped = df_dropped.astype('float')\n"
      ],
      "execution_count": 49,
      "outputs": []
    },
    {
      "cell_type": "code",
      "metadata": {
        "id": "5wOKK3Wll-YZ"
      },
      "source": [
        "# merge with main df bridge_df on key values\n",
        "train = train.join(df_dropped)\n",
        "test = test.join(df_droppedtest)"
      ],
      "execution_count": 50,
      "outputs": []
    },
    {
      "cell_type": "code",
      "metadata": {
        "id": "9EdMVVt2mrQs"
      },
      "source": [
        "train.drop(cat, axis=1, inplace=True)\n",
        "test.drop(cat, axis=1, inplace=True)"
      ],
      "execution_count": 51,
      "outputs": []
    },
    {
      "cell_type": "code",
      "metadata": {
        "colab": {
          "base_uri": "https://localhost:8080/"
        },
        "id": "CmWvq4yNbUHM",
        "outputId": "9d945a20-310b-4931-e89d-5af6b3e5c5ee"
      },
      "source": [
        "train['Years in current job'].value_counts()"
      ],
      "execution_count": 52,
      "outputs": [
        {
          "output_type": "execute_result",
          "data": {
            "text/plain": [
              "10+ years    9839\n",
              "2 years      2513\n",
              "< 1 year     2306\n",
              "3 years      2212\n",
              "5 years      1938\n",
              "1 year       1797\n",
              "4 years      1739\n",
              "6 years      1623\n",
              "7 years      1553\n",
              "8 years      1249\n",
              "9 years      1109\n",
              "Name: Years in current job, dtype: int64"
            ]
          },
          "metadata": {},
          "execution_count": 52
        }
      ]
    },
    {
      "cell_type": "code",
      "metadata": {
        "id": "TrcosFVRb61x"
      },
      "source": [
        "train['Years in current job'].replace({'< 1 year': '0'}, inplace=True)\n",
        "train['Years in current job'].replace({'1 year': '1'}, inplace=True)\n",
        "train['Years in current job'].replace({'2 years': '2'}, inplace=True)\n",
        "train['Years in current job'].replace({'3 years': '3'}, inplace=True)\n",
        "train['Years in current job'].replace({'4 years': '4'}, inplace=True)\n",
        "train['Years in current job'].replace({'5 years': '5'}, inplace=True)\n",
        "train['Years in current job'].replace({'6 years': '6'}, inplace=True)\n",
        "train['Years in current job'].replace({'7 years': '7'}, inplace=True)\n",
        "train['Years in current job'].replace({'8 years': '8'}, inplace=True)\n",
        "train['Years in current job'].replace({'9 years': '9'}, inplace=True)\n",
        "train['Years in current job'].replace({'10+ years': '10'}, inplace=True)"
      ],
      "execution_count": 53,
      "outputs": []
    },
    {
      "cell_type": "code",
      "metadata": {
        "id": "fb-Zd6cTe3HQ"
      },
      "source": [
        "test['Years in current job'].replace({'< 1 year': '0'}, inplace=True)\n",
        "test['Years in current job'].replace({'1 year': '1'}, inplace=True)\n",
        "test['Years in current job'].replace({'2 years': '2'}, inplace=True)\n",
        "test['Years in current job'].replace({'3 years': '3'}, inplace=True)\n",
        "test['Years in current job'].replace({'4 years': '4'}, inplace=True)\n",
        "test['Years in current job'].replace({'5 years': '5'}, inplace=True)\n",
        "test['Years in current job'].replace({'6 years': '6'}, inplace=True)\n",
        "test['Years in current job'].replace({'7 years': '7'}, inplace=True)\n",
        "test['Years in current job'].replace({'8 years': '8'}, inplace=True)\n",
        "test['Years in current job'].replace({'9 years': '9'}, inplace=True)\n",
        "test['Years in current job'].replace({'10+ years': '20'}, inplace=True)"
      ],
      "execution_count": 54,
      "outputs": []
    },
    {
      "cell_type": "code",
      "metadata": {
        "id": "sZiny9uJh8Ld"
      },
      "source": [
        ""
      ],
      "execution_count": 54,
      "outputs": []
    },
    {
      "cell_type": "markdown",
      "metadata": {
        "id": "J6QoMBktCTb4"
      },
      "source": [
        "## Data Preprocessing & Feature Engineering"
      ]
    },
    {
      "cell_type": "markdown",
      "metadata": {
        "id": "9BLSXQVjCTb4"
      },
      "source": [
        "#### Steps\n",
        "\n",
        "1.   Fine classing\n",
        "2.   Coarse classing using weight of evidence\n",
        "\n",
        "Note: For Weight of Evidence calculations, Target value **1 is referred to the Good** class while Target value **0 is reffered to the Bad class**. However, in the real context of the business problem it is vice versa. \n"
      ]
    },
    {
      "cell_type": "code",
      "metadata": {
        "id": "A__WkA-iUneT"
      },
      "source": [
        "#merge train and test together\n"
      ],
      "execution_count": 55,
      "outputs": []
    },
    {
      "cell_type": "code",
      "metadata": {
        "id": "-HSBLMRvCTb5"
      },
      "source": [
        "def woe_continuous(df, variable, target_variable, discrete=False):\n",
        "    \"\"\"\n",
        "    params:\n",
        "    df: A dataframe containing both discrete variables and continuous variables.\n",
        "    variable: Variable to get WoE as a string, ie. 'employment'.\n",
        "    target_variable: Discrete dependent variable split from main dataset. \n",
        "    discrete: A switch for turning on and off the variable type.\n",
        "    \n",
        "    return:\n",
        "    data: A dataframe with WoE and IV (Information Value) calculated.\n",
        "    \n",
        "    Example:\n",
        "    woe_IV = woe_discrete(df=dataframe, variable='discrete_variable_name_in_dataframe', \n",
        "    target_variable=dependent_variable_array_or_dataframe)\n",
        "    \"\"\"\n",
        "    data = pd.concat([df[variable], target_variable], axis=1)\n",
        "    data = pd.concat([data.groupby(data.columns.values[0], as_index=False)[data.columns.values[1]].count(),\n",
        "                      data.groupby(data.columns.values[0], as_index=False)[data.columns.values[1]].mean()], axis=1)\n",
        "    data = data.iloc[:,[0,1,3]]\n",
        "    data.columns = [data.columns.values[0], 'n_obs', 'prop_good']\n",
        "    data['prop_n_obs'] = data['n_obs'] / data['n_obs'].sum()\n",
        "    data['n_good'] = data['prop_good'] * data['n_obs']\n",
        "    data['n_bad'] = (1-data['prop_good']) * data['n_obs']\n",
        "    data['prop_n_good'] = data['n_good'] / data['n_good'].sum()\n",
        "    data['prop_n_bad'] = data['n_bad'] / data['n_bad'].sum()\n",
        "    data['WoE'] = np.log(data['prop_n_good'] / data['prop_n_bad'])\n",
        "    if discrete:\n",
        "        data = data.sort_values(['WoE'])\n",
        "        data = data.reset_index(drop=True)\n",
        "    data['diff_prop_good'] = data['prop_good'].diff().abs()\n",
        "    data['diff_WoE'] = data['WoE'].diff().abs()\n",
        "    data['IV'] = (data['prop_n_good'] - data['prop_n_bad']) * data['WoE']\n",
        "    data['IV'] = data['IV'].sum()\n",
        "    return data "
      ],
      "execution_count": 56,
      "outputs": []
    },
    {
      "cell_type": "code",
      "metadata": {
        "id": "GBD7R2PJCTb5"
      },
      "source": [
        "# Function to create plots based on WoE. What we want to plot is the feature name on the x-axis and the WoE on the y-axis\n",
        "def plot_WoE(WoE_df, rotation=0):\n",
        "    \"\"\"\n",
        "    params:\n",
        "    Woe_df: A dataframe with Weight of Evidence calculated.\n",
        "    rotation: A rotation of the x_label axis to show plots cleanly. Default is horizontal = 0.\n",
        "    \n",
        "    return: Plot sheet wide weight of evidence\n",
        "    \"\"\"\n",
        "    x_axis = np.array(WoE_df.iloc[:,0].apply(str)) #make sure that the values in the category are strings. We use array because\n",
        "    # matplotlib doesnt work too well without data in array form.\n",
        "    y_axis = WoE_df['WoE']\n",
        "    plt.figure(figsize=(18, 6))\n",
        "    plt.plot(x_axis, y_axis, marker='o', linestyle='--', color='k')\n",
        "    plt.xlabel(WoE_df.columns[0])\n",
        "    plt.ylabel('Weight of Evidence')\n",
        "    plt.title(str('Weight of Evidence by ' + WoE_df.columns[0]))\n",
        "    plt.xticks(rotation=rotation)"
      ],
      "execution_count": 57,
      "outputs": []
    },
    {
      "cell_type": "code",
      "metadata": {
        "colab": {
          "base_uri": "https://localhost:8080/"
        },
        "id": "PWOZjXb3CTb7",
        "outputId": "4a658235-64b9-4416-b706-84cb88cda4c4"
      },
      "source": [
        "train.columns"
      ],
      "execution_count": 58,
      "outputs": [
        {
          "output_type": "execute_result",
          "data": {
            "text/plain": [
              "Index(['Loan Status', 'Current Loan Amount', 'Term', 'Credit Score',\n",
              "       'Annual Income', 'Years in current job', 'Monthly Debt',\n",
              "       'Years of Credit History', 'Months since last delinquent',\n",
              "       'Number of Open Accounts', 'Number of Credit Problems',\n",
              "       'Current Credit Balance', 'Maximum Open Credit', 'Bankruptcies',\n",
              "       'Tax Liens', 'default_not', 'cat_Home Mortgage', 'cat_Own Home',\n",
              "       'cat_Rent', 'cat_Buy House', 'cat_Buy a Car', 'cat_Debt Consolidation',\n",
              "       'cat_Educational Expenses', 'cat_Home Improvements',\n",
              "       'cat_Medical Bills', 'cat_Other', 'cat_Take a Trip',\n",
              "       'cat_major_purchase', 'cat_moving', 'cat_other', 'cat_renewable_energy',\n",
              "       'cat_small_business', 'cat_vacation', 'cat_wedding'],\n",
              "      dtype='object')"
            ]
          },
          "metadata": {},
          "execution_count": 58
        }
      ]
    },
    {
      "cell_type": "markdown",
      "metadata": {
        "id": "yKIvGuoRCTb7"
      },
      "source": [
        "#### Annual Income"
      ]
    },
    {
      "cell_type": "code",
      "metadata": {
        "colab": {
          "base_uri": "https://localhost:8080/",
          "height": 296
        },
        "id": "ohcs3ackCTb8",
        "outputId": "5a799919-1948-4530-9636-fc6a84495c03"
      },
      "source": [
        "train['Annual Income'].hist()"
      ],
      "execution_count": 59,
      "outputs": [
        {
          "output_type": "execute_result",
          "data": {
            "text/plain": [
              "<matplotlib.axes._subplots.AxesSubplot at 0x7fb4b71b95d0>"
            ]
          },
          "metadata": {},
          "execution_count": 59
        },
        {
          "output_type": "display_data",
          "data": {
            "text/plain": [
              "<Figure size 432x288 with 1 Axes>"
            ],
            "image/png": "[encoded data removed]"
          },
          "metadata": {
            "needs_background": "light"
          }
        }
      ]
    },
    {
      "cell_type": "code",
      "metadata": {
        "colab": {
          "base_uri": "https://localhost:8080/"
        },
        "id": "Cqnod6-KCTb9",
        "outputId": "baeb5fa5-c635-4571-ecf9-8f796103b0f7"
      },
      "source": [
        "train['Annual Income'].describe()"
      ],
      "execution_count": 60,
      "outputs": [
        {
          "output_type": "execute_result",
          "data": {
            "text/plain": [
              "count    2.787800e+04\n",
              "mean     1.339425e+06\n",
              "std      8.445256e+05\n",
              "min      9.703300e+04\n",
              "25%      9.329190e+05\n",
              "50%      1.170752e+06\n",
              "75%      1.509569e+06\n",
              "max      3.083900e+07\n",
              "Name: Annual Income, dtype: float64"
            ]
          },
          "metadata": {},
          "execution_count": 60
        }
      ]
    },
    {
      "cell_type": "code",
      "metadata": {
        "colab": {
          "base_uri": "https://localhost:8080/"
        },
        "id": "teoE0awAJMlI",
        "outputId": "22d1a125-c082-44d6-93f3-75f5b4da450f"
      },
      "source": [
        "pd.qcut(train['Annual Income'], q=8).value_counts().sort_values(axis=0, ascending=True)"
      ],
      "execution_count": 61,
      "outputs": [
        {
          "output_type": "execute_result",
          "data": {
            "text/plain": [
              "(1170751.5, 1233387.375]     768\n",
              "(932919.0, 1135418.625]     3484\n",
              "(1509569.0, 1944911.25]     3484\n",
              "(97032.999, 726039.875]     3485\n",
              "(726039.875, 932919.0]      3485\n",
              "(1233387.375, 1509569.0]    3485\n",
              "(1944911.25, 30838995.0]    3485\n",
              "(1135418.625, 1170751.5]    6202\n",
              "Name: Annual Income, dtype: int64"
            ]
          },
          "metadata": {},
          "execution_count": 61
        }
      ]
    },
    {
      "cell_type": "code",
      "metadata": {
        "id": "eAk070NACTb9"
      },
      "source": [
        "bins = pd.IntervalIndex.from_tuples([(76626.999, 723242.125), (723242.125, 932425.0),\n",
        "                                    (932425.0, 1136867.375), (1136867.375, 1174162.0), (1174162.0, 1232910.0), (1232910.0, 1509968.0), (1509968.0, 1951292.875),\n",
        "                                (1951292.875, 165557393.0)])"
      ],
      "execution_count": 62,
      "outputs": []
    },
    {
      "cell_type": "code",
      "metadata": {
        "id": "ec3FfvnACTb-"
      },
      "source": [
        "train['AnnualIncome_factor'] = pd.cut(train['Annual Income'], bins=bins, precision=0, right=True)"
      ],
      "execution_count": 63,
      "outputs": []
    },
    {
      "cell_type": "code",
      "metadata": {
        "colab": {
          "base_uri": "https://localhost:8080/"
        },
        "id": "yQuHDNAHCTb-",
        "outputId": "ae9dbaea-1bba-4b66-9ead-b1244edceaeb"
      },
      "source": [
        "train['AnnualIncome_factor'].value_counts()"
      ],
      "execution_count": 64,
      "outputs": [
        {
          "output_type": "execute_result",
          "data": {
            "text/plain": [
              "(1136867.375, 1174162.0]      6199\n",
              "(932425.0, 1136867.375]       3528\n",
              "(1509968.0, 1951292.875]      3510\n",
              "(723242.125, 932425.0]        3508\n",
              "(1232910.0, 1509968.0]        3500\n",
              "(1951292.875, 165557393.0]    3452\n",
              "(76626.999, 723242.125]       3450\n",
              "(1174162.0, 1232910.0]         731\n",
              "Name: AnnualIncome_factor, dtype: int64"
            ]
          },
          "metadata": {},
          "execution_count": 64
        }
      ]
    },
    {
      "cell_type": "code",
      "metadata": {
        "colab": {
          "base_uri": "https://localhost:8080/",
          "height": 291
        },
        "id": "geueL2pKCTb_",
        "outputId": "e2445443-20b1-4c19-ceee-c32cdf4bc25e"
      },
      "source": [
        "train.groupby('AnnualIncome_factor').mean().head(3)"
      ],
      "execution_count": 65,
      "outputs": [
        {
          "output_type": "execute_result",
          "data": {
            "text/plain": [
              "                         Current Loan Amount      Term  Credit Score  \\\n",
              "AnnualIncome_factor                                                    \n",
              "(76626.999, 723242.125]         1.350599e+07  0.879420   1177.206957   \n",
              "(723242.125, 932425.0]          1.335086e+07  0.744584   1126.716933   \n",
              "(932425.0, 1136867.375]         1.475589e+07  0.693878   1139.947846   \n",
              "\n",
              "                         Annual Income  Monthly Debt  Years of Credit History  \\\n",
              "AnnualIncome_factor                                                             \n",
              "(76626.999, 723242.125]   5.631613e+05   8807.673154                15.679188   \n",
              "(723242.125, 932425.0]    8.264912e+05  12764.432409                16.778421   \n",
              "(932425.0, 1136867.375]   1.028836e+06  15738.952395                17.529620   \n",
              "\n",
              "                         Months since last delinquent  \\\n",
              "AnnualIncome_factor                                     \n",
              "(76626.999, 723242.125]                     36.844638   \n",
              "(723242.125, 932425.0]                      36.807583   \n",
              "(932425.0, 1136867.375]                     37.353175   \n",
              "\n",
              "                         Number of Open Accounts  Number of Credit Problems  \\\n",
              "AnnualIncome_factor                                                           \n",
              "(76626.999, 723242.125]                 9.106667                   0.177391   \n",
              "(723242.125, 932425.0]                 10.286488                   0.202965   \n",
              "(932425.0, 1136867.375]                10.968537                   0.186224   \n",
              "\n",
              "                         Current Credit Balance  Maximum Open Credit  \\\n",
              "AnnualIncome_factor                                                    \n",
              "(76626.999, 723242.125]           149048.027826        359259.579130   \n",
              "(723242.125, 932425.0]            196949.228335        458487.557013   \n",
              "(932425.0, 1136867.375]           238264.114512        566895.102041   \n",
              "\n",
              "                         Bankruptcies  Tax Liens  default_not  \\\n",
              "AnnualIncome_factor                                             \n",
              "(76626.999, 723242.125]      0.131884   0.019710     0.268116   \n",
              "(723242.125, 932425.0]       0.147092   0.028221     0.237742   \n",
              "(932425.0, 1136867.375]      0.141723   0.020975     0.231009   \n",
              "\n",
              "                         cat_Home Mortgage  cat_Own Home  cat_Rent  \\\n",
              "AnnualIncome_factor                                                  \n",
              "(76626.999, 723242.125]           0.225217      0.142319  0.630435   \n",
              "(723242.125, 932425.0]            0.377423      0.098632  0.521380   \n",
              "(932425.0, 1136867.375]           0.458617      0.090420  0.448413   \n",
              "\n",
              "                         cat_Buy House  cat_Buy a Car  cat_Debt Consolidation  \\\n",
              "AnnualIncome_factor                                                             \n",
              "(76626.999, 723242.125]       0.007246       0.018841                0.755652   \n",
              "(723242.125, 932425.0]        0.004846       0.018529                0.793330   \n",
              "(932425.0, 1136867.375]       0.006236       0.013889                0.812642   \n",
              "\n",
              "                         cat_Educational Expenses  cat_Home Improvements  \\\n",
              "AnnualIncome_factor                                                        \n",
              "(76626.999, 723242.125]                  0.003768               0.034783   \n",
              "(723242.125, 932425.0]                   0.001425               0.043615   \n",
              "(932425.0, 1136867.375]                  0.000567               0.052721   \n",
              "\n",
              "                         cat_Medical Bills  cat_Other  cat_Take a Trip  \\\n",
              "AnnualIncome_factor                                                      \n",
              "(76626.999, 723242.125]           0.009855   0.044638         0.009855   \n",
              "(723242.125, 932425.0]            0.011117   0.034778         0.009407   \n",
              "(932425.0, 1136867.375]           0.008503   0.025794         0.004819   \n",
              "\n",
              "                         cat_major_purchase  cat_moving  cat_other  \\\n",
              "AnnualIncome_factor                                                  \n",
              "(76626.999, 723242.125]            0.006667    0.002029   0.085507   \n",
              "(723242.125, 932425.0]             0.003136    0.002281   0.061859   \n",
              "(932425.0, 1136867.375]            0.002834    0.001134   0.055839   \n",
              "\n",
              "                         cat_renewable_energy  cat_small_business  \\\n",
              "AnnualIncome_factor                                                 \n",
              "(76626.999, 723242.125]               0.00029            0.001739   \n",
              "(723242.125, 932425.0]                0.00000            0.002851   \n",
              "(932425.0, 1136867.375]               0.00000            0.002551   \n",
              "\n",
              "                         cat_vacation  cat_wedding  \n",
              "AnnualIncome_factor                                 \n",
              "(76626.999, 723242.125]      0.002029     0.000870  \n",
              "(723242.125, 932425.0]       0.001425     0.000000  \n",
              "(932425.0, 1136867.375]      0.000567     0.000567  "
            ],
            "text/html": [
              "\n",
              "  <div id=\"df-7d8326b5-d5de-40ba-9ba5-9e2b3cf7040d\">\n",
              "    <div class=\"colab-df-container\">\n",
              "      <div>\n",
              "<style scoped>\n",
              "    .dataframe tbody tr th:only-of-type {\n",
              "        vertical-align: middle;\n",
              "    }\n",
              "\n",
              "    .dataframe tbody tr th {\n",
              "        vertical-align: top;\n",
              "    }\n",
              "\n",
              "    .dataframe thead th {\n",
              "        text-align: right;\n",
              "    }\n",
              "</style>\n",
              "<table border=\"1\" class=\"dataframe\">\n",
              "  <thead>\n",
              "    <tr style=\"text-align: right;\">\n",
              "      <th></th>\n",
              "      <th>Current Loan Amount</th>\n",
              "      <th>Term</th>\n",
              "      <th>Credit Score</th>\n",
              "      <th>Annual Income</th>\n",
              "      <th>Monthly Debt</th>\n",
              "      <th>Years of Credit History</th>\n",
              "      <th>Months since last delinquent</th>\n",
              "      <th>Number of Open Accounts</th>\n",
              "      <th>Number of Credit Problems</th>\n",
              "      <th>Current Credit Balance</th>\n",
              "      <th>Maximum Open Credit</th>\n",
              "      <th>Bankruptcies</th>\n",
              "      <th>Tax Liens</th>\n",
              "      <th>default_not</th>\n",
              "      <th>cat_Home Mortgage</th>\n",
              "      <th>cat_Own Home</th>\n",
              "      <th>cat_Rent</th>\n",
              "      <th>cat_Buy House</th>\n",
              "      <th>cat_Buy a Car</th>\n",
              "      <th>cat_Debt Consolidation</th>\n",
              "      <th>cat_Educational Expenses</th>\n",
              "      <th>cat_Home Improvements</th>\n",
              "      <th>cat_Medical Bills</th>\n",
              "      <th>cat_Other</th>\n",
              "      <th>cat_Take a Trip</th>\n",
              "      <th>cat_major_purchase</th>\n",
              "      <th>cat_moving</th>\n",
              "      <th>cat_other</th>\n",
              "      <th>cat_renewable_energy</th>\n",
              "      <th>cat_small_business</th>\n",
              "      <th>cat_vacation</th>\n",
              "      <th>cat_wedding</th>\n",
              "    </tr>\n",
              "    <tr>\n",
              "      <th>AnnualIncome_factor</th>\n",
              "      <th></th>\n",
              "      <th></th>\n",
              "      <th></th>\n",
              "      <th></th>\n",
              "      <th></th>\n",
              "      <th></th>\n",
              "      <th></th>\n",
              "      <th></th>\n",
              "      <th></th>\n",
              "      <th></th>\n",
              "      <th></th>\n",
              "      <th></th>\n",
              "      <th></th>\n",
              "      <th></th>\n",
              "      <th></th>\n",
              "      <th></th>\n",
              "      <th></th>\n",
              "      <th></th>\n",
              "      <th></th>\n",
              "      <th></th>\n",
              "      <th></th>\n",
              "      <th></th>\n",
              "      <th></th>\n",
              "      <th></th>\n",
              "      <th></th>\n",
              "      <th></th>\n",
              "      <th></th>\n",
              "      <th></th>\n",
              "      <th></th>\n",
              "      <th></th>\n",
              "      <th></th>\n",
              "      <th></th>\n",
              "    </tr>\n",
              "  </thead>\n",
              "  <tbody>\n",
              "    <tr>\n",
              "      <th>(76626.999, 723242.125]</th>\n",
              "      <td>1.350599e+07</td>\n",
              "      <td>0.879420</td>\n",
              "      <td>1177.206957</td>\n",
              "      <td>5.631613e+05</td>\n",
              "      <td>8807.673154</td>\n",
              "      <td>15.679188</td>\n",
              "      <td>36.844638</td>\n",
              "      <td>9.106667</td>\n",
              "      <td>0.177391</td>\n",
              "      <td>149048.027826</td>\n",
              "      <td>359259.579130</td>\n",
              "      <td>0.131884</td>\n",
              "      <td>0.019710</td>\n",
              "      <td>0.268116</td>\n",
              "      <td>0.225217</td>\n",
              "      <td>0.142319</td>\n",
              "      <td>0.630435</td>\n",
              "      <td>0.007246</td>\n",
              "      <td>0.018841</td>\n",
              "      <td>0.755652</td>\n",
              "      <td>0.003768</td>\n",
              "      <td>0.034783</td>\n",
              "      <td>0.009855</td>\n",
              "      <td>0.044638</td>\n",
              "      <td>0.009855</td>\n",
              "      <td>0.006667</td>\n",
              "      <td>0.002029</td>\n",
              "      <td>0.085507</td>\n",
              "      <td>0.00029</td>\n",
              "      <td>0.001739</td>\n",
              "      <td>0.002029</td>\n",
              "      <td>0.000870</td>\n",
              "    </tr>\n",
              "    <tr>\n",
              "      <th>(723242.125, 932425.0]</th>\n",
              "      <td>1.335086e+07</td>\n",
              "      <td>0.744584</td>\n",
              "      <td>1126.716933</td>\n",
              "      <td>8.264912e+05</td>\n",
              "      <td>12764.432409</td>\n",
              "      <td>16.778421</td>\n",
              "      <td>36.807583</td>\n",
              "      <td>10.286488</td>\n",
              "      <td>0.202965</td>\n",
              "      <td>196949.228335</td>\n",
              "      <td>458487.557013</td>\n",
              "      <td>0.147092</td>\n",
              "      <td>0.028221</td>\n",
              "      <td>0.237742</td>\n",
              "      <td>0.377423</td>\n",
              "      <td>0.098632</td>\n",
              "      <td>0.521380</td>\n",
              "      <td>0.004846</td>\n",
              "      <td>0.018529</td>\n",
              "      <td>0.793330</td>\n",
              "      <td>0.001425</td>\n",
              "      <td>0.043615</td>\n",
              "      <td>0.011117</td>\n",
              "      <td>0.034778</td>\n",
              "      <td>0.009407</td>\n",
              "      <td>0.003136</td>\n",
              "      <td>0.002281</td>\n",
              "      <td>0.061859</td>\n",
              "      <td>0.00000</td>\n",
              "      <td>0.002851</td>\n",
              "      <td>0.001425</td>\n",
              "      <td>0.000000</td>\n",
              "    </tr>\n",
              "    <tr>\n",
              "      <th>(932425.0, 1136867.375]</th>\n",
              "      <td>1.475589e+07</td>\n",
              "      <td>0.693878</td>\n",
              "      <td>1139.947846</td>\n",
              "      <td>1.028836e+06</td>\n",
              "      <td>15738.952395</td>\n",
              "      <td>17.529620</td>\n",
              "      <td>37.353175</td>\n",
              "      <td>10.968537</td>\n",
              "      <td>0.186224</td>\n",
              "      <td>238264.114512</td>\n",
              "      <td>566895.102041</td>\n",
              "      <td>0.141723</td>\n",
              "      <td>0.020975</td>\n",
              "      <td>0.231009</td>\n",
              "      <td>0.458617</td>\n",
              "      <td>0.090420</td>\n",
              "      <td>0.448413</td>\n",
              "      <td>0.006236</td>\n",
              "      <td>0.013889</td>\n",
              "      <td>0.812642</td>\n",
              "      <td>0.000567</td>\n",
              "      <td>0.052721</td>\n",
              "      <td>0.008503</td>\n",
              "      <td>0.025794</td>\n",
              "      <td>0.004819</td>\n",
              "      <td>0.002834</td>\n",
              "      <td>0.001134</td>\n",
              "      <td>0.055839</td>\n",
              "      <td>0.00000</td>\n",
              "      <td>0.002551</td>\n",
              "      <td>0.000567</td>\n",
              "      <td>0.000567</td>\n",
              "    </tr>\n",
              "  </tbody>\n",
              "</table>\n",
              "</div>\n",
              "      <button class=\"colab-df-convert\" onclick=\"convertToInteractive('df-7d8326b5-d5de-40ba-9ba5-9e2b3cf7040d')\"\n",
              "              title=\"Convert this dataframe to an interactive table.\"\n",
              "              style=\"display:none;\">\n",
              "        \n",
              "  <svg xmlns=\"http://www.w3.org/2000/svg\" height=\"24px\"viewBox=\"0 0 24 24\"\n",
              "       width=\"24px\">\n",
              "    <path d=\"M0 0h24v24H0V0z\" fill=\"none\"/>\n",
              "    <path d=\"M18.56 5.44l.94 2.06.94-2.06 2.06-.94-2.06-.94-.94-2.06-.94 2.06-2.06.94zm-11 1L8.5 8.5l.94-2.06 2.06-.94-2.06-.94L8.5 2.5l-.94 2.06-2.06.94zm10 10l.94 2.06.94-2.06 2.06-.94-2.06-.94-.94-2.06-.94 2.06-2.06.94z\"/><path d=\"M17.41 7.96l-1.37-1.37c-.4-.4-.92-.59-1.43-.59-.52 0-1.04.2-1.43.59L10.3 9.45l-7.72 7.72c-.78.78-.78 2.05 0 2.83L4 21.41c.39.39.9.59 1.41.59.51 0 1.02-.2 1.41-.59l7.78-7.78 2.81-2.81c.8-.78.8-2.07 0-2.86zM5.41 20L4 18.59l7.72-7.72 1.47 1.35L5.41 20z\"/>\n",
              "  </svg>\n",
              "      </button>\n",
              "      \n",
              "  <style>\n",
              "    .colab-df-container {\n",
              "      display:flex;\n",
              "      flex-wrap:wrap;\n",
              "      gap: 12px;\n",
              "    }\n",
              "\n",
              "    .colab-df-convert {\n",
              "      background-color: #E8F0FE;\n",
              "      border: none;\n",
              "      border-radius: 50%;\n",
              "      cursor: pointer;\n",
              "      display: none;\n",
              "      fill: #1967D2;\n",
              "      height: 32px;\n",
              "      padding: 0 0 0 0;\n",
              "      width: 32px;\n",
              "    }\n",
              "\n",
              "    .colab-df-convert:hover {\n",
              "      background-color: #E2EBFA;\n",
              "      box-shadow: 0px 1px 2px rgba(60, 64, 67, 0.3), 0px 1px 3px 1px rgba(60, 64, 67, 0.15);\n",
              "      fill: #174EA6;\n",
              "    }\n",
              "\n",
              "    [theme=dark] .colab-df-convert {\n",
              "      background-color: #3B4455;\n",
              "      fill: #D2E3FC;\n",
              "    }\n",
              "\n",
              "    [theme=dark] .colab-df-convert:hover {\n",
              "      background-color: #434B5C;\n",
              "      box-shadow: 0px 1px 3px 1px rgba(0, 0, 0, 0.15);\n",
              "      filter: drop-shadow(0px 1px 2px rgba(0, 0, 0, 0.3));\n",
              "      fill: #FFFFFF;\n",
              "    }\n",
              "  </style>\n",
              "\n",
              "      <script>\n",
              "        const buttonEl =\n",
              "          document.querySelector('#df-7d8326b5-d5de-40ba-9ba5-9e2b3cf7040d button.colab-df-convert');\n",
              "        buttonEl.style.display =\n",
              "          google.colab.kernel.accessAllowed ? 'block' : 'none';\n",
              "\n",
              "        async function convertToInteractive(key) {\n",
              "          const element = document.querySelector('#df-7d8326b5-d5de-40ba-9ba5-9e2b3cf7040d');\n",
              "          const dataTable =\n",
              "            await google.colab.kernel.invokeFunction('convertToInteractive',\n",
              "                                                     [key], {});\n",
              "          if (!dataTable) return;\n",
              "\n",
              "          const docLinkHtml = 'Like what you see? Visit the ' +\n",
              "            '<a target=\"_blank\" href=https://colab.research.google.com/notebooks/data_table.ipynb>data table notebook</a>'\n",
              "            + ' to learn more about interactive tables.';\n",
              "          element.innerHTML = '';\n",
              "          dataTable['output_type'] = 'display_data';\n",
              "          await google.colab.output.renderOutput(dataTable, element);\n",
              "          const docLink = document.createElement('div');\n",
              "          docLink.innerHTML = docLinkHtml;\n",
              "          element.appendChild(docLink);\n",
              "        }\n",
              "      </script>\n",
              "    </div>\n",
              "  </div>\n",
              "  "
            ]
          },
          "metadata": {},
          "execution_count": 65
        }
      ]
    },
    {
      "cell_type": "code",
      "metadata": {
        "id": "7zCgDxvHCTb_"
      },
      "source": [
        "df_temp = woe_continuous(train, 'AnnualIncome_factor', train['Credit Score'])"
      ],
      "execution_count": 66,
      "outputs": []
    },
    {
      "cell_type": "code",
      "metadata": {
        "colab": {
          "base_uri": "https://localhost:8080/",
          "height": 361
        },
        "id": "AoT3ISVyCTcA",
        "outputId": "8ca0977b-8d46-469d-83da-f1c596976e34"
      },
      "source": [
        "df_temp"
      ],
      "execution_count": 67,
      "outputs": [
        {
          "output_type": "execute_result",
          "data": {
            "text/plain": [
              "          AnnualIncome_factor  n_obs    prop_good  prop_n_obs     n_good  \\\n",
              "0     (76626.999, 723242.125]   3450  1177.206957    0.123753  4061364.0   \n",
              "1      (723242.125, 932425.0]   3508  1126.716933    0.125834  3952523.0   \n",
              "2     (932425.0, 1136867.375]   3528  1139.947846    0.126551  4021736.0   \n",
              "3    (1136867.375, 1174162.0]   6199   132.635586    0.222362   822208.0   \n",
              "4      (1174162.0, 1232910.0]    731  1065.127223    0.026221   778608.0   \n",
              "5      (1232910.0, 1509968.0]   3500  1041.369429    0.125547  3644793.0   \n",
              "6    (1509968.0, 1951292.875]   3510  1042.474644    0.125906  3659086.0   \n",
              "7  (1951292.875, 165557393.0]   3452   974.960603    0.123825  3365564.0   \n",
              "\n",
              "       n_bad  prop_n_good  prop_n_bad       WoE  diff_prop_good  diff_WoE  \\\n",
              "0 -4057914.0     0.167094    0.167144 -0.000298             NaN       NaN   \n",
              "1 -3949015.0     0.162616    0.162658 -0.000260       50.490024  0.000038   \n",
              "2 -4018208.0     0.165463    0.165508 -0.000270       13.230913  0.000010   \n",
              "3  -816009.0     0.033828    0.033611  0.006420     1007.312259  0.006690   \n",
              "4  -777877.0     0.032034    0.032040 -0.000208      932.491637  0.006629   \n",
              "5 -3641293.0     0.149955    0.149983 -0.000187       23.757794  0.000021   \n",
              "6 -3655576.0     0.150543    0.150572 -0.000188        1.105215  0.000001   \n",
              "7 -3362112.0     0.138467    0.138484 -0.000121       67.514041  0.000066   \n",
              "\n",
              "         IV  \n",
              "0  0.000001  \n",
              "1  0.000001  \n",
              "2  0.000001  \n",
              "3  0.000001  \n",
              "4  0.000001  \n",
              "5  0.000001  \n",
              "6  0.000001  \n",
              "7  0.000001  "
            ],
            "text/html": [
              "\n",
              "  <div id=\"df-cd4ad6b1-f0f0-4a55-93ea-da855746ecc3\">\n",
              "    <div class=\"colab-df-container\">\n",
              "      <div>\n",
              "<style scoped>\n",
              "    .dataframe tbody tr th:only-of-type {\n",
              "        vertical-align: middle;\n",
              "    }\n",
              "\n",
              "    .dataframe tbody tr th {\n",
              "        vertical-align: top;\n",
              "    }\n",
              "\n",
              "    .dataframe thead th {\n",
              "        text-align: right;\n",
              "    }\n",
              "</style>\n",
              "<table border=\"1\" class=\"dataframe\">\n",
              "  <thead>\n",
              "    <tr style=\"text-align: right;\">\n",
              "      <th></th>\n",
              "      <th>AnnualIncome_factor</th>\n",
              "      <th>n_obs</th>\n",
              "      <th>prop_good</th>\n",
              "      <th>prop_n_obs</th>\n",
              "      <th>n_good</th>\n",
              "      <th>n_bad</th>\n",
              "      <th>prop_n_good</th>\n",
              "      <th>prop_n_bad</th>\n",
              "      <th>WoE</th>\n",
              "      <th>diff_prop_good</th>\n",
              "      <th>diff_WoE</th>\n",
              "      <th>IV</th>\n",
              "    </tr>\n",
              "  </thead>\n",
              "  <tbody>\n",
              "    <tr>\n",
              "      <th>0</th>\n",
              "      <td>(76626.999, 723242.125]</td>\n",
              "      <td>3450</td>\n",
              "      <td>1177.206957</td>\n",
              "      <td>0.123753</td>\n",
              "      <td>4061364.0</td>\n",
              "      <td>-4057914.0</td>\n",
              "      <td>0.167094</td>\n",
              "      <td>0.167144</td>\n",
              "      <td>-0.000298</td>\n",
              "      <td>NaN</td>\n",
              "      <td>NaN</td>\n",
              "      <td>0.000001</td>\n",
              "    </tr>\n",
              "    <tr>\n",
              "      <th>1</th>\n",
              "      <td>(723242.125, 932425.0]</td>\n",
              "      <td>3508</td>\n",
              "      <td>1126.716933</td>\n",
              "      <td>0.125834</td>\n",
              "      <td>3952523.0</td>\n",
              "      <td>-3949015.0</td>\n",
              "      <td>0.162616</td>\n",
              "      <td>0.162658</td>\n",
              "      <td>-0.000260</td>\n",
              "      <td>50.490024</td>\n",
              "      <td>0.000038</td>\n",
              "      <td>0.000001</td>\n",
              "    </tr>\n",
              "    <tr>\n",
              "      <th>2</th>\n",
              "      <td>(932425.0, 1136867.375]</td>\n",
              "      <td>3528</td>\n",
              "      <td>1139.947846</td>\n",
              "      <td>0.126551</td>\n",
              "      <td>4021736.0</td>\n",
              "      <td>-4018208.0</td>\n",
              "      <td>0.165463</td>\n",
              "      <td>0.165508</td>\n",
              "      <td>-0.000270</td>\n",
              "      <td>13.230913</td>\n",
              "      <td>0.000010</td>\n",
              "      <td>0.000001</td>\n",
              "    </tr>\n",
              "    <tr>\n",
              "      <th>3</th>\n",
              "      <td>(1136867.375, 1174162.0]</td>\n",
              "      <td>6199</td>\n",
              "      <td>132.635586</td>\n",
              "      <td>0.222362</td>\n",
              "      <td>822208.0</td>\n",
              "      <td>-816009.0</td>\n",
              "      <td>0.033828</td>\n",
              "      <td>0.033611</td>\n",
              "      <td>0.006420</td>\n",
              "      <td>1007.312259</td>\n",
              "      <td>0.006690</td>\n",
              "      <td>0.000001</td>\n",
              "    </tr>\n",
              "    <tr>\n",
              "      <th>4</th>\n",
              "      <td>(1174162.0, 1232910.0]</td>\n",
              "      <td>731</td>\n",
              "      <td>1065.127223</td>\n",
              "      <td>0.026221</td>\n",
              "      <td>778608.0</td>\n",
              "      <td>-777877.0</td>\n",
              "      <td>0.032034</td>\n",
              "      <td>0.032040</td>\n",
              "      <td>-0.000208</td>\n",
              "      <td>932.491637</td>\n",
              "      <td>0.006629</td>\n",
              "      <td>0.000001</td>\n",
              "    </tr>\n",
              "    <tr>\n",
              "      <th>5</th>\n",
              "      <td>(1232910.0, 1509968.0]</td>\n",
              "      <td>3500</td>\n",
              "      <td>1041.369429</td>\n",
              "      <td>0.125547</td>\n",
              "      <td>3644793.0</td>\n",
              "      <td>-3641293.0</td>\n",
              "      <td>0.149955</td>\n",
              "      <td>0.149983</td>\n",
              "      <td>-0.000187</td>\n",
              "      <td>23.757794</td>\n",
              "      <td>0.000021</td>\n",
              "      <td>0.000001</td>\n",
              "    </tr>\n",
              "    <tr>\n",
              "      <th>6</th>\n",
              "      <td>(1509968.0, 1951292.875]</td>\n",
              "      <td>3510</td>\n",
              "      <td>1042.474644</td>\n",
              "      <td>0.125906</td>\n",
              "      <td>3659086.0</td>\n",
              "      <td>-3655576.0</td>\n",
              "      <td>0.150543</td>\n",
              "      <td>0.150572</td>\n",
              "      <td>-0.000188</td>\n",
              "      <td>1.105215</td>\n",
              "      <td>0.000001</td>\n",
              "      <td>0.000001</td>\n",
              "    </tr>\n",
              "    <tr>\n",
              "      <th>7</th>\n",
              "      <td>(1951292.875, 165557393.0]</td>\n",
              "      <td>3452</td>\n",
              "      <td>974.960603</td>\n",
              "      <td>0.123825</td>\n",
              "      <td>3365564.0</td>\n",
              "      <td>-3362112.0</td>\n",
              "      <td>0.138467</td>\n",
              "      <td>0.138484</td>\n",
              "      <td>-0.000121</td>\n",
              "      <td>67.514041</td>\n",
              "      <td>0.000066</td>\n",
              "      <td>0.000001</td>\n",
              "    </tr>\n",
              "  </tbody>\n",
              "</table>\n",
              "</div>\n",
              "      <button class=\"colab-df-convert\" onclick=\"convertToInteractive('df-cd4ad6b1-f0f0-4a55-93ea-da855746ecc3')\"\n",
              "              title=\"Convert this dataframe to an interactive table.\"\n",
              "              style=\"display:none;\">\n",
              "        \n",
              "  <svg xmlns=\"http://www.w3.org/2000/svg\" height=\"24px\"viewBox=\"0 0 24 24\"\n",
              "       width=\"24px\">\n",
              "    <path d=\"M0 0h24v24H0V0z\" fill=\"none\"/>\n",
              "    <path d=\"M18.56 5.44l.94 2.06.94-2.06 2.06-.94-2.06-.94-.94-2.06-.94 2.06-2.06.94zm-11 1L8.5 8.5l.94-2.06 2.06-.94-2.06-.94L8.5 2.5l-.94 2.06-2.06.94zm10 10l.94 2.06.94-2.06 2.06-.94-2.06-.94-.94-2.06-.94 2.06-2.06.94z\"/><path d=\"M17.41 7.96l-1.37-1.37c-.4-.4-.92-.59-1.43-.59-.52 0-1.04.2-1.43.59L10.3 9.45l-7.72 7.72c-.78.78-.78 2.05 0 2.83L4 21.41c.39.39.9.59 1.41.59.51 0 1.02-.2 1.41-.59l7.78-7.78 2.81-2.81c.8-.78.8-2.07 0-2.86zM5.41 20L4 18.59l7.72-7.72 1.47 1.35L5.41 20z\"/>\n",
              "  </svg>\n",
              "      </button>\n",
              "      \n",
              "  <style>\n",
              "    .colab-df-container {\n",
              "      display:flex;\n",
              "      flex-wrap:wrap;\n",
              "      gap: 12px;\n",
              "    }\n",
              "\n",
              "    .colab-df-convert {\n",
              "      background-color: #E8F0FE;\n",
              "      border: none;\n",
              "      border-radius: 50%;\n",
              "      cursor: pointer;\n",
              "      display: none;\n",
              "      fill: #1967D2;\n",
              "      height: 32px;\n",
              "      padding: 0 0 0 0;\n",
              "      width: 32px;\n",
              "    }\n",
              "\n",
              "    .colab-df-convert:hover {\n",
              "      background-color: #E2EBFA;\n",
              "      box-shadow: 0px 1px 2px rgba(60, 64, 67, 0.3), 0px 1px 3px 1px rgba(60, 64, 67, 0.15);\n",
              "      fill: #174EA6;\n",
              "    }\n",
              "\n",
              "    [theme=dark] .colab-df-convert {\n",
              "      background-color: #3B4455;\n",
              "      fill: #D2E3FC;\n",
              "    }\n",
              "\n",
              "    [theme=dark] .colab-df-convert:hover {\n",
              "      background-color: #434B5C;\n",
              "      box-shadow: 0px 1px 3px 1px rgba(0, 0, 0, 0.15);\n",
              "      filter: drop-shadow(0px 1px 2px rgba(0, 0, 0, 0.3));\n",
              "      fill: #FFFFFF;\n",
              "    }\n",
              "  </style>\n",
              "\n",
              "      <script>\n",
              "        const buttonEl =\n",
              "          document.querySelector('#df-cd4ad6b1-f0f0-4a55-93ea-da855746ecc3 button.colab-df-convert');\n",
              "        buttonEl.style.display =\n",
              "          google.colab.kernel.accessAllowed ? 'block' : 'none';\n",
              "\n",
              "        async function convertToInteractive(key) {\n",
              "          const element = document.querySelector('#df-cd4ad6b1-f0f0-4a55-93ea-da855746ecc3');\n",
              "          const dataTable =\n",
              "            await google.colab.kernel.invokeFunction('convertToInteractive',\n",
              "                                                     [key], {});\n",
              "          if (!dataTable) return;\n",
              "\n",
              "          const docLinkHtml = 'Like what you see? Visit the ' +\n",
              "            '<a target=\"_blank\" href=https://colab.research.google.com/notebooks/data_table.ipynb>data table notebook</a>'\n",
              "            + ' to learn more about interactive tables.';\n",
              "          element.innerHTML = '';\n",
              "          dataTable['output_type'] = 'display_data';\n",
              "          await google.colab.output.renderOutput(dataTable, element);\n",
              "          const docLink = document.createElement('div');\n",
              "          docLink.innerHTML = docLinkHtml;\n",
              "          element.appendChild(docLink);\n",
              "        }\n",
              "      </script>\n",
              "    </div>\n",
              "  </div>\n",
              "  "
            ]
          },
          "metadata": {},
          "execution_count": 67
        }
      ]
    },
    {
      "cell_type": "code",
      "metadata": {
        "colab": {
          "base_uri": "https://localhost:8080/",
          "height": 542
        },
        "id": "Any3fzzTCTcA",
        "outputId": "6d7aa21c-ceac-40bb-c9dc-5d6aab21af4c"
      },
      "source": [
        "plot_WoE(df_temp , 90)"
      ],
      "execution_count": 68,
      "outputs": [
        {
          "output_type": "display_data",
          "data": {
            "text/plain": [
              "<Figure size 1296x432 with 1 Axes>"
            ],
            "image/png": "[encoded data removed]"
          },
          "metadata": {
            "needs_background": "light"
          }
        }
      ]
    },
    {
      "cell_type": "code",
      "metadata": {
        "id": "ZqxmPtdpCTcB"
      },
      "source": [
        "# coarse classing:np.where((df_inputs_prepr['int_rate'] <= 9.548)\n",
        "# 0 - 1000, 1000-5000, 5000-7000, 7000-10000, 10000-20000, 20000-40000, >=40000\n",
        "\n",
        "train['AnnualIncome:76626.999, 723242.125'] = np.where((train['Annual Income'] <= 723242.125), 1, 0)\n",
        "train['AnnualIncome:723242.125, 932425.0'] = np.where((train['Annual Income'] > 723242.125) & (train['Annual Income'] <= 932425.0), 1, 0)\n",
        "train['AnnualIncome:932425.0, 1136867.375'] = np.where((train['Annual Income']> 932425.0) & (train['Annual Income'] <= 1136867.375), 1, 0)\n",
        "train['AnnualIncome:1136867.375, 1174162.0'] = np.where((train['Annual Income'] > 1136867.375) & (train['Annual Income'] <= 1174162.0), 1, 0)\n",
        "train['AnnualIncome:1174162.0, 1232910.0'] = np.where((train['Annual Income'] > 1174162.0) & (train['Annual Income'] <= 1232910.0), 1, 0)\n",
        "train['AnnualIncome:1232910.0, 1509968.0'] = np.where((train['Annual Income'] > 1232910.0) & (train['Annual Income'] <= 1509968.0), 1, 0)\n",
        "train['AnnualIncome:1509968.0, 1951292.875'] = np.where((train['Annual Income'] > 1509968.0) & (train['Annual Income'] <= 1951292.875), 1, 0)\n",
        "train['AnnualIncome:1951292.875, 165557393.0'] = np.where((train['Annual Income'] > 1951292.875) & (train['Annual Income'] <= 165557393.0), 1, 0)"
      ],
      "execution_count": 69,
      "outputs": []
    },
    {
      "cell_type": "code",
      "metadata": {
        "id": "F7lLcQi0OmNj"
      },
      "source": [
        "test['AnnualIncome:76626.999, 723242.125'] = np.where((test['Annual Income'] <= 723242.125), 1, 0)\n",
        "test['AnnualIncome:723242.125, 932425.0'] = np.where((test['Annual Income'] > 723242.125) & (test['Annual Income'] <= 932425.0), 1, 0)\n",
        "test['AnnualIncome:932425.0, 1136867.375'] = np.where((test['Annual Income']> 932425.0) & (test['Annual Income'] <= 1136867.375), 1, 0)\n",
        "test['AnnualIncome:1136867.375, 1174162.0'] = np.where((test['Annual Income'] > 1136867.375) & (test['Annual Income'] <= 1174162.0), 1, 0)\n",
        "test['AnnualIncome:1174162.0, 1232910.0'] = np.where((test['Annual Income'] > 1174162.0) & (test['Annual Income'] <= 1232910.0), 1, 0)\n",
        "test['AnnualIncome:1232910.0, 1509968.0'] = np.where((test['Annual Income'] > 1232910.0) & (test['Annual Income'] <= 1509968.0), 1, 0)\n",
        "test['AnnualIncome:1509968.0, 1951292.875'] = np.where((test['Annual Income'] > 1509968.0) & (test['Annual Income'] <= 1951292.875), 1, 0)\n",
        "test['AnnualIncome:1951292.875, 165557393.0'] = np.where((test['Annual Income'] > 1951292.875) & (test['Annual Income'] <= 165557393.0), 1, 0)"
      ],
      "execution_count": 70,
      "outputs": []
    },
    {
      "cell_type": "markdown",
      "metadata": {
        "id": "UGrnxMQxTLuv"
      },
      "source": [
        "**Maximum Open Credit**"
      ]
    },
    {
      "cell_type": "code",
      "metadata": {
        "colab": {
          "base_uri": "https://localhost:8080/",
          "height": 296
        },
        "id": "137yMaKibFeS",
        "outputId": "c957f218-750b-4e9b-b207-e62fbefb838a"
      },
      "source": [
        "train['Maximum Open Credit'].hist()"
      ],
      "execution_count": 71,
      "outputs": [
        {
          "output_type": "execute_result",
          "data": {
            "text/plain": [
              "<matplotlib.axes._subplots.AxesSubplot at 0x7fb4b702e610>"
            ]
          },
          "metadata": {},
          "execution_count": 71
        },
        {
          "output_type": "display_data",
          "data": {
            "text/plain": [
              "<Figure size 432x288 with 1 Axes>"
            ],
            "image/png": "[encoded data removed]"
          },
          "metadata": {
            "needs_background": "light"
          }
        }
      ]
    },
    {
      "cell_type": "code",
      "metadata": {
        "colab": {
          "base_uri": "https://localhost:8080/"
        },
        "id": "1IWVi_mQbU50",
        "outputId": "0c0de515-a2cc-4785-9fa5-a6128bf8592a"
      },
      "source": [
        "train['Maximum Open Credit'].describe()"
      ],
      "execution_count": 72,
      "outputs": [
        {
          "output_type": "execute_result",
          "data": {
            "text/plain": [
              "count    2.787800e+04\n",
              "mean     7.564081e+05\n",
              "std      5.718385e+06\n",
              "min      0.000000e+00\n",
              "25%      2.754015e+05\n",
              "50%      4.689740e+05\n",
              "75%      7.892005e+05\n",
              "max      6.324777e+08\n",
              "Name: Maximum Open Credit, dtype: float64"
            ]
          },
          "metadata": {},
          "execution_count": 72
        }
      ]
    },
    {
      "cell_type": "code",
      "metadata": {
        "id": "y0doyw5oT7Mq"
      },
      "source": [
        "train['Maximum_open_credit_factor'] = pd.qcut(train['Maximum Open Credit'], q=8)"
      ],
      "execution_count": 73,
      "outputs": []
    },
    {
      "cell_type": "code",
      "metadata": {
        "colab": {
          "base_uri": "https://localhost:8080/"
        },
        "id": "90uUvenYULo3",
        "outputId": "16006137-91e0-45bd-8f07-e14bde7a33f0"
      },
      "source": [
        "train['Maximum_open_credit_factor'].value_counts().sort_values(axis=0, ascending=True)"
      ],
      "execution_count": 74,
      "outputs": [
        {
          "output_type": "execute_result",
          "data": {
            "text/plain": [
              "(185240.0, 275401.5]        3484\n",
              "(275401.5, 365439.25]       3484\n",
              "(468974.0, 602538.75]       3484\n",
              "(602538.75, 789200.5]       3484\n",
              "(789200.5, 1116940.0]       3485\n",
              "(1116940.0, 632477736.0]    3485\n",
              "(-0.001, 185240.0]          3486\n",
              "(365439.25, 468974.0]       3486\n",
              "Name: Maximum_open_credit_factor, dtype: int64"
            ]
          },
          "metadata": {},
          "execution_count": 74
        }
      ]
    },
    {
      "cell_type": "code",
      "metadata": {
        "id": "673LiJg0btr0"
      },
      "source": [
        "df_temp = woe_continuous(train, 'Maximum_open_credit_factor', train['Credit Score'])"
      ],
      "execution_count": 75,
      "outputs": []
    },
    {
      "cell_type": "code",
      "metadata": {
        "colab": {
          "base_uri": "https://localhost:8080/",
          "height": 503
        },
        "id": "bgnFcbS9bt3y",
        "outputId": "27c24599-4ade-40be-ecbe-9ecbd5cb6be1"
      },
      "source": [
        "df_temp"
      ],
      "execution_count": 76,
      "outputs": [
        {
          "output_type": "execute_result",
          "data": {
            "text/plain": [
              "  Maximum_open_credit_factor  n_obs   prop_good  prop_n_obs     n_good  \\\n",
              "0         (-0.001, 185240.0]   3486  900.073723    0.125045  3137657.0   \n",
              "1       (185240.0, 275401.5]   3484  886.996843    0.124973  3090297.0   \n",
              "2      (275401.5, 365439.25]   3484  893.114811    0.124973  3111612.0   \n",
              "3      (365439.25, 468974.0]   3486  894.108434    0.125045  3116862.0   \n",
              "4      (468974.0, 602538.75]   3484  868.913318    0.124973  3027294.0   \n",
              "5      (602538.75, 789200.5]   3484  891.222158    0.124973  3105018.0   \n",
              "6      (789200.5, 1116940.0]   3485  840.808608    0.125009  2930218.0   \n",
              "7   (1116940.0, 632477736.0]   3485  799.691248    0.125009  2786924.0   \n",
              "\n",
              "       n_bad  prop_n_good  prop_n_bad       WoE  diff_prop_good  diff_WoE  \\\n",
              "0 -3134171.0     0.129090    0.129095 -0.000036             NaN       NaN   \n",
              "1 -3086813.0     0.127142    0.127144 -0.000020       13.076881  0.000016   \n",
              "2 -3108128.0     0.128019    0.128022 -0.000027        6.117968  0.000008   \n",
              "3 -3113376.0     0.128235    0.128239 -0.000029        0.993623  0.000001   \n",
              "4 -3023810.0     0.124550    0.124549  0.000004       25.195116  0.000032   \n",
              "5 -3101534.0     0.127748    0.127751 -0.000025       22.308840  0.000029   \n",
              "6 -2926733.0     0.120556    0.120551  0.000042       50.413550  0.000067   \n",
              "7 -2783439.0     0.114660    0.114649  0.000104       41.117360  0.000061   \n",
              "\n",
              "             IV  \n",
              "0  1.945944e-09  \n",
              "1  1.945944e-09  \n",
              "2  1.945944e-09  \n",
              "3  1.945944e-09  \n",
              "4  1.945944e-09  \n",
              "5  1.945944e-09  \n",
              "6  1.945944e-09  \n",
              "7  1.945944e-09  "
            ],
            "text/html": [
              "\n",
              "  <div id=\"df-0c346e4f-82b3-4aac-a444-292f843b58d4\">\n",
              "    <div class=\"colab-df-container\">\n",
              "      <div>\n",
              "<style scoped>\n",
              "    .dataframe tbody tr th:only-of-type {\n",
              "        vertical-align: middle;\n",
              "    }\n",
              "\n",
              "    .dataframe tbody tr th {\n",
              "        vertical-align: top;\n",
              "    }\n",
              "\n",
              "    .dataframe thead th {\n",
              "        text-align: right;\n",
              "    }\n",
              "</style>\n",
              "<table border=\"1\" class=\"dataframe\">\n",
              "  <thead>\n",
              "    <tr style=\"text-align: right;\">\n",
              "      <th></th>\n",
              "      <th>Maximum_open_credit_factor</th>\n",
              "      <th>n_obs</th>\n",
              "      <th>prop_good</th>\n",
              "      <th>prop_n_obs</th>\n",
              "      <th>n_good</th>\n",
              "      <th>n_bad</th>\n",
              "      <th>prop_n_good</th>\n",
              "      <th>prop_n_bad</th>\n",
              "      <th>WoE</th>\n",
              "      <th>diff_prop_good</th>\n",
              "      <th>diff_WoE</th>\n",
              "      <th>IV</th>\n",
              "    </tr>\n",
              "  </thead>\n",
              "  <tbody>\n",
              "    <tr>\n",
              "      <th>0</th>\n",
              "      <td>(-0.001, 185240.0]</td>\n",
              "      <td>3486</td>\n",
              "      <td>900.073723</td>\n",
              "      <td>0.125045</td>\n",
              "      <td>3137657.0</td>\n",
              "      <td>-3134171.0</td>\n",
              "      <td>0.129090</td>\n",
              "      <td>0.129095</td>\n",
              "      <td>-0.000036</td>\n",
              "      <td>NaN</td>\n",
              "      <td>NaN</td>\n",
              "      <td>1.945944e-09</td>\n",
              "    </tr>\n",
              "    <tr>\n",
              "      <th>1</th>\n",
              "      <td>(185240.0, 275401.5]</td>\n",
              "      <td>3484</td>\n",
              "      <td>886.996843</td>\n",
              "      <td>0.124973</td>\n",
              "      <td>3090297.0</td>\n",
              "      <td>-3086813.0</td>\n",
              "      <td>0.127142</td>\n",
              "      <td>0.127144</td>\n",
              "      <td>-0.000020</td>\n",
              "      <td>13.076881</td>\n",
              "      <td>0.000016</td>\n",
              "      <td>1.945944e-09</td>\n",
              "    </tr>\n",
              "    <tr>\n",
              "      <th>2</th>\n",
              "      <td>(275401.5, 365439.25]</td>\n",
              "      <td>3484</td>\n",
              "      <td>893.114811</td>\n",
              "      <td>0.124973</td>\n",
              "      <td>3111612.0</td>\n",
              "      <td>-3108128.0</td>\n",
              "      <td>0.128019</td>\n",
              "      <td>0.128022</td>\n",
              "      <td>-0.000027</td>\n",
              "      <td>6.117968</td>\n",
              "      <td>0.000008</td>\n",
              "      <td>1.945944e-09</td>\n",
              "    </tr>\n",
              "    <tr>\n",
              "      <th>3</th>\n",
              "      <td>(365439.25, 468974.0]</td>\n",
              "      <td>3486</td>\n",
              "      <td>894.108434</td>\n",
              "      <td>0.125045</td>\n",
              "      <td>3116862.0</td>\n",
              "      <td>-3113376.0</td>\n",
              "      <td>0.128235</td>\n",
              "      <td>0.128239</td>\n",
              "      <td>-0.000029</td>\n",
              "      <td>0.993623</td>\n",
              "      <td>0.000001</td>\n",
              "      <td>1.945944e-09</td>\n",
              "    </tr>\n",
              "    <tr>\n",
              "      <th>4</th>\n",
              "      <td>(468974.0, 602538.75]</td>\n",
              "      <td>3484</td>\n",
              "      <td>868.913318</td>\n",
              "      <td>0.124973</td>\n",
              "      <td>3027294.0</td>\n",
              "      <td>-3023810.0</td>\n",
              "      <td>0.124550</td>\n",
              "      <td>0.124549</td>\n",
              "      <td>0.000004</td>\n",
              "      <td>25.195116</td>\n",
              "      <td>0.000032</td>\n",
              "      <td>1.945944e-09</td>\n",
              "    </tr>\n",
              "    <tr>\n",
              "      <th>5</th>\n",
              "      <td>(602538.75, 789200.5]</td>\n",
              "      <td>3484</td>\n",
              "      <td>891.222158</td>\n",
              "      <td>0.124973</td>\n",
              "      <td>3105018.0</td>\n",
              "      <td>-3101534.0</td>\n",
              "      <td>0.127748</td>\n",
              "      <td>0.127751</td>\n",
              "      <td>-0.000025</td>\n",
              "      <td>22.308840</td>\n",
              "      <td>0.000029</td>\n",
              "      <td>1.945944e-09</td>\n",
              "    </tr>\n",
              "    <tr>\n",
              "      <th>6</th>\n",
              "      <td>(789200.5, 1116940.0]</td>\n",
              "      <td>3485</td>\n",
              "      <td>840.808608</td>\n",
              "      <td>0.125009</td>\n",
              "      <td>2930218.0</td>\n",
              "      <td>-2926733.0</td>\n",
              "      <td>0.120556</td>\n",
              "      <td>0.120551</td>\n",
              "      <td>0.000042</td>\n",
              "      <td>50.413550</td>\n",
              "      <td>0.000067</td>\n",
              "      <td>1.945944e-09</td>\n",
              "    </tr>\n",
              "    <tr>\n",
              "      <th>7</th>\n",
              "      <td>(1116940.0, 632477736.0]</td>\n",
              "      <td>3485</td>\n",
              "      <td>799.691248</td>\n",
              "      <td>0.125009</td>\n",
              "      <td>2786924.0</td>\n",
              "      <td>-2783439.0</td>\n",
              "      <td>0.114660</td>\n",
              "      <td>0.114649</td>\n",
              "      <td>0.000104</td>\n",
              "      <td>41.117360</td>\n",
              "      <td>0.000061</td>\n",
              "      <td>1.945944e-09</td>\n",
              "    </tr>\n",
              "  </tbody>\n",
              "</table>\n",
              "</div>\n",
              "      <button class=\"colab-df-convert\" onclick=\"convertToInteractive('df-0c346e4f-82b3-4aac-a444-292f843b58d4')\"\n",
              "              title=\"Convert this dataframe to an interactive table.\"\n",
              "              style=\"display:none;\">\n",
              "        \n",
              "  <svg xmlns=\"http://www.w3.org/2000/svg\" height=\"24px\"viewBox=\"0 0 24 24\"\n",
              "       width=\"24px\">\n",
              "    <path d=\"M0 0h24v24H0V0z\" fill=\"none\"/>\n",
              "    <path d=\"M18.56 5.44l.94 2.06.94-2.06 2.06-.94-2.06-.94-.94-2.06-.94 2.06-2.06.94zm-11 1L8.5 8.5l.94-2.06 2.06-.94-2.06-.94L8.5 2.5l-.94 2.06-2.06.94zm10 10l.94 2.06.94-2.06 2.06-.94-2.06-.94-.94-2.06-.94 2.06-2.06.94z\"/><path d=\"M17.41 7.96l-1.37-1.37c-.4-.4-.92-.59-1.43-.59-.52 0-1.04.2-1.43.59L10.3 9.45l-7.72 7.72c-.78.78-.78 2.05 0 2.83L4 21.41c.39.39.9.59 1.41.59.51 0 1.02-.2 1.41-.59l7.78-7.78 2.81-2.81c.8-.78.8-2.07 0-2.86zM5.41 20L4 18.59l7.72-7.72 1.47 1.35L5.41 20z\"/>\n",
              "  </svg>\n",
              "      </button>\n",
              "      \n",
              "  <style>\n",
              "    .colab-df-container {\n",
              "      display:flex;\n",
              "      flex-wrap:wrap;\n",
              "      gap: 12px;\n",
              "    }\n",
              "\n",
              "    .colab-df-convert {\n",
              "      background-color: #E8F0FE;\n",
              "      border: none;\n",
              "      border-radius: 50%;\n",
              "      cursor: pointer;\n",
              "      display: none;\n",
              "      fill: #1967D2;\n",
              "      height: 32px;\n",
              "      padding: 0 0 0 0;\n",
              "      width: 32px;\n",
              "    }\n",
              "\n",
              "    .colab-df-convert:hover {\n",
              "      background-color: #E2EBFA;\n",
              "      box-shadow: 0px 1px 2px rgba(60, 64, 67, 0.3), 0px 1px 3px 1px rgba(60, 64, 67, 0.15);\n",
              "      fill: #174EA6;\n",
              "    }\n",
              "\n",
              "    [theme=dark] .colab-df-convert {\n",
              "      background-color: #3B4455;\n",
              "      fill: #D2E3FC;\n",
              "    }\n",
              "\n",
              "    [theme=dark] .colab-df-convert:hover {\n",
              "      background-color: #434B5C;\n",
              "      box-shadow: 0px 1px 3px 1px rgba(0, 0, 0, 0.15);\n",
              "      filter: drop-shadow(0px 1px 2px rgba(0, 0, 0, 0.3));\n",
              "      fill: #FFFFFF;\n",
              "    }\n",
              "  </style>\n",
              "\n",
              "      <script>\n",
              "        const buttonEl =\n",
              "          document.querySelector('#df-0c346e4f-82b3-4aac-a444-292f843b58d4 button.colab-df-convert');\n",
              "        buttonEl.style.display =\n",
              "          google.colab.kernel.accessAllowed ? 'block' : 'none';\n",
              "\n",
              "        async function convertToInteractive(key) {\n",
              "          const element = document.querySelector('#df-0c346e4f-82b3-4aac-a444-292f843b58d4');\n",
              "          const dataTable =\n",
              "            await google.colab.kernel.invokeFunction('convertToInteractive',\n",
              "                                                     [key], {});\n",
              "          if (!dataTable) return;\n",
              "\n",
              "          const docLinkHtml = 'Like what you see? Visit the ' +\n",
              "            '<a target=\"_blank\" href=https://colab.research.google.com/notebooks/data_table.ipynb>data table notebook</a>'\n",
              "            + ' to learn more about interactive tables.';\n",
              "          element.innerHTML = '';\n",
              "          dataTable['output_type'] = 'display_data';\n",
              "          await google.colab.output.renderOutput(dataTable, element);\n",
              "          const docLink = document.createElement('div');\n",
              "          docLink.innerHTML = docLinkHtml;\n",
              "          element.appendChild(docLink);\n",
              "        }\n",
              "      </script>\n",
              "    </div>\n",
              "  </div>\n",
              "  "
            ]
          },
          "metadata": {},
          "execution_count": 76
        }
      ]
    },
    {
      "cell_type": "code",
      "metadata": {
        "colab": {
          "base_uri": "https://localhost:8080/",
          "height": 529
        },
        "id": "7EdNedItbt_n",
        "outputId": "e8c4214c-922e-4de0-fe9f-ca84d7369d8f"
      },
      "source": [
        "plot_WoE(df_temp , 90)"
      ],
      "execution_count": 77,
      "outputs": [
        {
          "output_type": "display_data",
          "data": {
            "text/plain": [
              "<Figure size 1296x432 with 1 Axes>"
            ],
            "image/png": "[encoded data removed]"
          },
          "metadata": {
            "needs_background": "light"
          }
        }
      ]
    },
    {
      "cell_type": "code",
      "metadata": {
        "id": "C2K0O7FWU698"
      },
      "source": [
        "train['Maximum_open_credit_factor:76626.999, 723242.125'] = np.where((train['Maximum Open Credit'] <= 182165.5), 1, 0)\n",
        "train['Maximum_open_credit_factor, >182165.5 <= 274516.0'] = np.where((train['Maximum Open Credit'] > 182165.5) & (train['Maximum Open Credit'] <= 274516.0), 1, 0)\n",
        "train['Maximum_open_credit_factor, >274516.0 <= 274516.0'] = np.where((train['Maximum Open Credit'] > 274516.0) & (train['Maximum Open Credit'] <= 365472.25), 1, 0)\n",
        "train['Maximum_open_credit_factor, >365472.25 <= 365472.25'] = np.where((train['Maximum Open Credit'] > 365472.25) & (train['Maximum Open Credit'] <= 467874.0), 1, 0)\n",
        "train['Maximum_open_credit_factor, >467874.0 <= 467874.0'] = np.where((train['Maximum Open Credit'] > 467874.0) & (train['Maximum Open Credit'] <= 597635.5), 1, 0)\n",
        "train['Maximum_open_credit_factor, >597635.5 <= 780428.0'] = np.where((train['Maximum Open Credit'] > 597635.5) & (train['Maximum Open Credit'] <= 780428.0), 1, 0)\n",
        "train['Maximum_open_credit_factor, >780428.0 <= 1107108.75'] = np.where((train['Maximum Open Credit'] > 780428.0) & (train['Maximum Open Credit'] <= 1107108.75), 1, 0)\n",
        "train['Maximum_open_credit_factor, >1107108.75 <= 1539737892.0'] = np.where((train['Maximum Open Credit'] > 1107108.75) & (train['Maximum Open Credit'] <= 1539737892.0), 1, 0)"
      ],
      "execution_count": 78,
      "outputs": []
    },
    {
      "cell_type": "code",
      "metadata": {
        "id": "_OzDgNIZSOrn"
      },
      "source": [
        "test['Maximum_open_credit_factor:76626.999, 723242.125'] = np.where((test['Maximum Open Credit'] <= 182165.5), 1, 0)\n",
        "test['Maximum_open_credit_factor, >182165.5 <= 274516.0'] = np.where((test['Maximum Open Credit'] > 182165.5) & (test['Maximum Open Credit'] <= 274516.0), 1, 0)\n",
        "test['Maximum_open_credit_factor, >274516.0 <= 274516.0'] = np.where((test['Maximum Open Credit'] > 274516.0) & (test['Maximum Open Credit'] <= 365472.25), 1, 0)\n",
        "test['Maximum_open_credit_factor, >365472.25 <= 365472.25'] = np.where((test['Maximum Open Credit'] > 365472.25) & (test['Maximum Open Credit'] <= 467874.0), 1, 0)\n",
        "test['Maximum_open_credit_factor, >467874.0 <= 467874.0'] = np.where((test['Maximum Open Credit'] > 467874.0) & (test['Maximum Open Credit'] <= 597635.5), 1, 0)\n",
        "test['Maximum_open_credit_factor, >597635.5 <= 780428.0'] = np.where((test['Maximum Open Credit'] > 597635.5) & (test['Maximum Open Credit'] <= 780428.0), 1, 0)\n",
        "test['Maximum_open_credit_factor, >780428.0 <= 1107108.75'] = np.where((test['Maximum Open Credit'] > 780428.0) & (test['Maximum Open Credit'] <= 1107108.75), 1, 0)\n",
        "test['Maximum_open_credit_factor, >1107108.75 <= 1539737892.0'] = np.where((test['Maximum Open Credit'] > 1107108.75) & (test['Maximum Open Credit'] <= 1539737892.0), 1, 0)"
      ],
      "execution_count": 79,
      "outputs": []
    },
    {
      "cell_type": "markdown",
      "metadata": {
        "id": "FceMxJM5YOi8"
      },
      "source": [
        "# ***Data Splitting***"
      ]
    },
    {
      "cell_type": "code",
      "metadata": {
        "colab": {
          "base_uri": "https://localhost:8080/"
        },
        "id": "AyhldQbgTTwG",
        "outputId": "360094c1-c83b-434a-c2c9-93e40bdd5473"
      },
      "source": [
        "#fine class generated columns\n",
        "factors_columns = train.filter(regex='factor').columns\n",
        "factors_columns"
      ],
      "execution_count": 80,
      "outputs": [
        {
          "output_type": "execute_result",
          "data": {
            "text/plain": [
              "Index(['AnnualIncome_factor', 'Maximum_open_credit_factor',\n",
              "       'Maximum_open_credit_factor:76626.999, 723242.125',\n",
              "       'Maximum_open_credit_factor, >182165.5 <= 274516.0',\n",
              "       'Maximum_open_credit_factor, >274516.0 <= 274516.0',\n",
              "       'Maximum_open_credit_factor, >365472.25 <= 365472.25',\n",
              "       'Maximum_open_credit_factor, >467874.0 <= 467874.0',\n",
              "       'Maximum_open_credit_factor, >597635.5 <= 780428.0',\n",
              "       'Maximum_open_credit_factor, >780428.0 <= 1107108.75',\n",
              "       'Maximum_open_credit_factor, >1107108.75 <= 1539737892.0'],\n",
              "      dtype='object')"
            ]
          },
          "metadata": {},
          "execution_count": 80
        }
      ]
    },
    {
      "cell_type": "code",
      "metadata": {
        "id": "e4C0pUYlogTR"
      },
      "source": [
        "to_drop = ['Loan Status','AnnualIncome_factor','Maximum_open_credit_factor' ]"
      ],
      "execution_count": 81,
      "outputs": []
    },
    {
      "cell_type": "code",
      "metadata": {
        "id": "MQVHHQ8yY1RL",
        "colab": {
          "base_uri": "https://localhost:8080/"
        },
        "outputId": "07b59906-ebaf-4b71-bcb5-b614c36201c7"
      },
      "source": [
        "#data assignment\n",
        "X = train.drop(to_drop, 1, inplace=True)\n",
        "X = train.drop(['default_not'], axis=1)\n",
        "y = train['default_not']"
      ],
      "execution_count": 82,
      "outputs": [
        {
          "output_type": "stream",
          "name": "stderr",
          "text": [
            "/usr/local/lib/python3.7/dist-packages/ipykernel_launcher.py:2: FutureWarning: In a future version of pandas all arguments of DataFrame.drop except for the argument 'labels' will be keyword-only\n",
            "  \n"
          ]
        }
      ]
    },
    {
      "cell_type": "code",
      "metadata": {
        "id": "X-MpKzhVZci0"
      },
      "source": [
        "#stratified split\n",
        "X_train, X_valid, y_train, y_valid = train_test_split(X, y, test_size = 0.2, random_state = 42, stratify = y)"
      ],
      "execution_count": 83,
      "outputs": []
    },
    {
      "cell_type": "code",
      "metadata": {
        "colab": {
          "base_uri": "https://localhost:8080/"
        },
        "id": "y3ci8mSrZf6a",
        "outputId": "767279d5-299f-4246-ea79-7b296b5fd0fb"
      },
      "source": [
        "#shape\n",
        "print(X_train.shape)\n",
        "print(y_train.shape)\n",
        "print(X_valid.shape)\n",
        "print(y_valid.shape)"
      ],
      "execution_count": 84,
      "outputs": [
        {
          "output_type": "stream",
          "name": "stdout",
          "text": [
            "(22302, 48)\n",
            "(22302,)\n",
            "(5576, 48)\n",
            "(5576,)\n"
          ]
        }
      ]
    },
    {
      "cell_type": "markdown",
      "metadata": {
        "id": "QuM78ooigX6p"
      },
      "source": [
        "#### Multivariate Analysis"
      ]
    },
    {
      "cell_type": "code",
      "metadata": {
        "id": "PFOGHMZQZmka"
      },
      "source": [
        "def heatmap(data,figsize=(8,8), annot=False):\n",
        "    #plot heatmap to find multicollinearity\n",
        "    plt.figure(figsize=figsize)\n",
        "    cmap = sns.diverging_palette(220, 20, sep=20, as_cmap=True)\n",
        "    sns.heatmap(data.corr(),vmin=-0.75,vmax=0.75,center=0, cmap=cmap,annot=annot);"
      ],
      "execution_count": 85,
      "outputs": []
    },
    {
      "cell_type": "code",
      "metadata": {
        "colab": {
          "base_uri": "https://localhost:8080/",
          "height": 1000
        },
        "id": "drHWndu8gS2m",
        "outputId": "79d1e038-21bd-4d7d-eb3f-d3940bf39b1d"
      },
      "source": [
        "heatmap(X,figsize=(14,14))"
      ],
      "execution_count": 86,
      "outputs": [
        {
          "output_type": "display_data",
          "data": {
            "text/plain": [
              "<Figure size 1008x1008 with 2 Axes>"
            ],
            "image/png": "[encoded data removed]"
          },
          "metadata": {
            "needs_background": "light"
          }
        }
      ]
    },
    {
      "cell_type": "markdown",
      "metadata": {
        "id": "37fOImf8ghH6"
      },
      "source": [
        "# ***Modeling***"
      ]
    },
    {
      "cell_type": "code",
      "metadata": {
        "id": "Fcxkj-0BgVKr"
      },
      "source": [
        "# We plot the false positive rate along the x-axis and the true positive rate along the y-axis,\n",
        "def plot_roc(y_valid, y_pred_proba):\n",
        "  fpr, tpr, thresholds = roc_curve(y_valid, y_pred_proba)\n",
        "  plt.plot(fpr, tpr)\n",
        "  plt.plot(fpr, fpr, linestyle = '--', color = 'k')\n",
        "  plt.xlabel('False positive rate')\n",
        "  plt.ylabel('True positive rate')\n",
        "  plt.title('ROC curve')"
      ],
      "execution_count": 87,
      "outputs": []
    },
    {
      "cell_type": "markdown",
      "metadata": {
        "id": "Fjd3JYHEgm2s"
      },
      "source": [
        "## Logistic Regression"
      ]
    },
    {
      "cell_type": "code",
      "metadata": {
        "id": "CZDtv-lDgjyW"
      },
      "source": [
        "lr = LogisticRegression(max_iter=300)"
      ],
      "execution_count": 88,
      "outputs": []
    },
    {
      "cell_type": "code",
      "metadata": {
        "colab": {
          "base_uri": "https://localhost:8080/"
        },
        "id": "0W3fkxW8grZN",
        "outputId": "3de2a7d4-3886-4751-deae-e7e1f1f79300"
      },
      "source": [
        "lr.fit(X_train, y_train)"
      ],
      "execution_count": 89,
      "outputs": [
        {
          "output_type": "execute_result",
          "data": {
            "text/plain": [
              "LogisticRegression(max_iter=300)"
            ]
          },
          "metadata": {},
          "execution_count": 89
        }
      ]
    },
    {
      "cell_type": "code",
      "metadata": {
        "id": "g98UujwNgslH"
      },
      "source": [
        "y_pred = lr.predict(X_valid)"
      ],
      "execution_count": 90,
      "outputs": []
    },
    {
      "cell_type": "code",
      "metadata": {
        "id": "bf9rUwOhqVGN"
      },
      "source": [
        "y_pred_proba = lr.predict_proba(X_valid)\n",
        "y_pred_proba = y_pred_proba[: ][: , 1]"
      ],
      "execution_count": 91,
      "outputs": []
    },
    {
      "cell_type": "code",
      "metadata": {
        "colab": {
          "base_uri": "https://localhost:8080/"
        },
        "id": "JVP_yvdYqXFA",
        "outputId": "c84f28f5-bb85-427a-8e1c-141e2324060a"
      },
      "source": [
        "print(classification_report(y_valid, y_pred))"
      ],
      "execution_count": 92,
      "outputs": [
        {
          "output_type": "stream",
          "name": "stdout",
          "text": [
            "              precision    recall  f1-score   support\n",
            "\n",
            "           0       0.81      0.99      0.89      4320\n",
            "           1       0.90      0.21      0.34      1256\n",
            "\n",
            "    accuracy                           0.82      5576\n",
            "   macro avg       0.86      0.60      0.62      5576\n",
            "weighted avg       0.83      0.82      0.77      5576\n",
            "\n"
          ]
        }
      ]
    },
    {
      "cell_type": "code",
      "metadata": {
        "id": "yNkHR9IfqtOE"
      },
      "source": [
        "from sklearn import metrics\n",
        "from sklearn.metrics import roc_curve, roc_auc_score"
      ],
      "execution_count": 93,
      "outputs": []
    },
    {
      "cell_type": "code",
      "metadata": {
        "colab": {
          "base_uri": "https://localhost:8080/",
          "height": 406
        },
        "id": "x7j4BfDSqZNh",
        "outputId": "f4d65f85-2608-4d58-b995-a0da085c8f69"
      },
      "source": [
        "cm = metrics.confusion_matrix(y_valid, y_pred)\n",
        "plt.figure(figsize=(8,6))\n",
        "sns.heatmap(cm, annot=True, fmt=\".2f\", linewidths=.5, square =True, cmap = 'Blues_r');\n",
        "plt.ylabel('Actual label')\n",
        "plt.xlabel('Predicted label')\n",
        "all_sample_title = 'Confusion Matrix'\n",
        "plt.title(all_sample_title, size = 15)\n",
        "plt.show()"
      ],
      "execution_count": 94,
      "outputs": [
        {
          "output_type": "display_data",
          "data": {
            "text/plain": [
              "<Figure size 576x432 with 2 Axes>"
            ],
            "image/png": "[encoded data removed]"
          },
          "metadata": {
            "needs_background": "light"
          }
        }
      ]
    },
    {
      "cell_type": "code",
      "metadata": {
        "colab": {
          "base_uri": "https://localhost:8080/",
          "height": 295
        },
        "id": "QmhQDvcHqdwV",
        "outputId": "43050525-2da1-4def-dbc4-9b865ecd4c28"
      },
      "source": [
        "plot_roc(y_valid, y_pred_proba)"
      ],
      "execution_count": 95,
      "outputs": [
        {
          "output_type": "display_data",
          "data": {
            "text/plain": [
              "<Figure size 432x288 with 1 Axes>"
            ],
            "image/png": "[encoded data removed]"
          },
          "metadata": {
            "needs_background": "light"
          }
        }
      ]
    },
    {
      "cell_type": "code",
      "metadata": {
        "colab": {
          "base_uri": "https://localhost:8080/"
        },
        "id": "_3Rp42Gaqxb-",
        "outputId": "adb3b9bd-6bd5-4155-bbb9-96c3e5ba23c7"
      },
      "source": [
        "roc_auc_score(y_valid, y_pred_proba)"
      ],
      "execution_count": 96,
      "outputs": [
        {
          "output_type": "execute_result",
          "data": {
            "text/plain": [
              "0.6881522396201933"
            ]
          },
          "metadata": {},
          "execution_count": 96
        }
      ]
    },
    {
      "cell_type": "markdown",
      "metadata": {
        "id": "H7R1z_wf5SAS"
      },
      "source": [
        ""
      ]
    },
    {
      "cell_type": "code",
      "metadata": {
        "id": "ixcZvko7q76o"
      },
      "source": [
        "rf = RandomForestClassifier(n_estimators=500)"
      ],
      "execution_count": 97,
      "outputs": []
    },
    {
      "cell_type": "code",
      "metadata": {
        "colab": {
          "base_uri": "https://localhost:8080/"
        },
        "id": "1PfMnMuhrDwT",
        "outputId": "124453de-a031-4d57-eca0-d40a971151fd"
      },
      "source": [
        "rf.fit(X_train, y_train)"
      ],
      "execution_count": 98,
      "outputs": [
        {
          "output_type": "execute_result",
          "data": {
            "text/plain": [
              "RandomForestClassifier(n_estimators=500)"
            ]
          },
          "metadata": {},
          "execution_count": 98
        }
      ]
    },
    {
      "cell_type": "code",
      "metadata": {
        "id": "sX6hRoUerHQ7"
      },
      "source": [
        "rf_pred_proba = rf.predict_proba(X_valid)"
      ],
      "execution_count": 99,
      "outputs": []
    },
    {
      "cell_type": "code",
      "metadata": {
        "id": "XPDd7XR9rJqh"
      },
      "source": [
        "rf_pred = rf.predict(X_valid)"
      ],
      "execution_count": 100,
      "outputs": []
    },
    {
      "cell_type": "code",
      "metadata": {
        "id": "ROPlQMFgrcx8"
      },
      "source": [
        "rf_pred_proba = rf_pred_proba[: ][: , 1]\n"
      ],
      "execution_count": 101,
      "outputs": []
    },
    {
      "cell_type": "code",
      "metadata": {
        "colab": {
          "base_uri": "https://localhost:8080/"
        },
        "id": "mv1w7ZwYrjao",
        "outputId": "78ad8956-5ca4-4d87-b8db-84655b4e63c8"
      },
      "source": [
        "print(classification_report(y_valid, rf_pred))"
      ],
      "execution_count": 102,
      "outputs": [
        {
          "output_type": "stream",
          "name": "stdout",
          "text": [
            "              precision    recall  f1-score   support\n",
            "\n",
            "           0       0.81      0.99      0.90      4320\n",
            "           1       0.92      0.22      0.36      1256\n",
            "\n",
            "    accuracy                           0.82      5576\n",
            "   macro avg       0.87      0.61      0.63      5576\n",
            "weighted avg       0.84      0.82      0.77      5576\n",
            "\n"
          ]
        }
      ]
    },
    {
      "cell_type": "code",
      "metadata": {
        "colab": {
          "base_uri": "https://localhost:8080/",
          "height": 406
        },
        "id": "PLqabdaGrzoz",
        "outputId": "35ee9e8c-fb23-429b-a130-769dfc75950c"
      },
      "source": [
        "cm = metrics.confusion_matrix(y_valid, rf_pred)\n",
        "plt.figure(figsize=(8,6))\n",
        "sns.heatmap(cm, annot=True, fmt=\".2f\", linewidths=.5, square =True, cmap = 'Blues_r');\n",
        "plt.ylabel('Actual label')\n",
        "plt.xlabel('Predicted label')\n",
        "all_sample_title = 'Confusion Matrix'\n",
        "plt.title(all_sample_title, size = 15)\n",
        "plt.show()"
      ],
      "execution_count": 103,
      "outputs": [
        {
          "output_type": "display_data",
          "data": {
            "text/plain": [
              "<Figure size 576x432 with 2 Axes>"
            ],
            "image/png": "[encoded data removed]"
          },
          "metadata": {
            "needs_background": "light"
          }
        }
      ]
    },
    {
      "cell_type": "code",
      "metadata": {
        "colab": {
          "base_uri": "https://localhost:8080/",
          "height": 295
        },
        "id": "kTaWR3jcr2-j",
        "outputId": "46106802-3e2e-4e78-d43c-81c80563a648"
      },
      "source": [
        "plot_roc(y_valid, rf_pred_proba)"
      ],
      "execution_count": 104,
      "outputs": [
        {
          "output_type": "display_data",
          "data": {
            "text/plain": [
              "<Figure size 432x288 with 1 Axes>"
            ],
            "image/png": "[encoded data removed]"
          },
          "metadata": {
            "needs_background": "light"
          }
        }
      ]
    },
    {
      "cell_type": "code",
      "metadata": {
        "colab": {
          "base_uri": "https://localhost:8080/"
        },
        "id": "hFciVg7Fr5iC",
        "outputId": "46582455-f0bc-47d7-f362-3a4f3c5aa52f"
      },
      "source": [
        "roc_auc_score(y_valid, rf_pred_proba)"
      ],
      "execution_count": 105,
      "outputs": [
        {
          "output_type": "execute_result",
          "data": {
            "text/plain": [
              "0.7632641100495401"
            ]
          },
          "metadata": {},
          "execution_count": 105
        }
      ]
    },
    {
      "cell_type": "markdown",
      "metadata": {
        "id": "PRmBCZKYsFNX"
      },
      "source": [
        "## Cross Validation and Algorithm Comparison"
      ]
    },
    {
      "cell_type": "code",
      "metadata": {
        "id": "mjLFRxkqr71e"
      },
      "source": [
        ""
      ],
      "execution_count": 105,
      "outputs": []
    },
    {
      "cell_type": "code",
      "metadata": {
        "id": "8yHMnhTMsKV2"
      },
      "source": [
        "lr = LogisticRegression(C=0.2, max_iter=300, solver='liblinear', penalty='l1')\n",
        "rf = RandomForestClassifier(n_estimators=500, random_state=10 , min_samples_leaf=2, max_depth=10, min_samples_split=3)"
      ],
      "execution_count": 106,
      "outputs": []
    },
    {
      "cell_type": "code",
      "metadata": {
        "colab": {
          "base_uri": "https://localhost:8080/"
        },
        "id": "xAdtxJ9CsSf1",
        "outputId": "28cd5ccf-63f4-45d2-b062-9e49a3541b36"
      },
      "source": [
        "scoring = 'roc_auc'\n",
        "models = []\n",
        "models.append(('LR', lr))\n",
        "models.append(('RFG', rf))\n",
        "names = []\n",
        "results = []\n",
        "for name, model in models:\n",
        "    kfold = StratifiedKFold(n_splits=3, shuffle=True , random_state = 47)\n",
        "    cv_results = cross_val_score(model, X, y, cv=kfold, scoring=scoring)\n",
        "    results.append(cv_results)\n",
        "    names.append(name)\n",
        "    msg = \"%s: %f (%f)\" % (name, cv_results.mean(), cv_results.std())\n",
        "    print(msg)"
      ],
      "execution_count": 107,
      "outputs": [
        {
          "output_type": "stream",
          "name": "stdout",
          "text": [
            "LR: 0.738847 (0.002541)\n",
            "RFG: 0.752095 (0.002305)\n"
          ]
        }
      ]
    },
    {
      "cell_type": "code",
      "metadata": {
        "colab": {
          "base_uri": "https://localhost:8080/",
          "height": 540
        },
        "id": "4NQmU8CLsWnb",
        "outputId": "8c64d5d0-89e9-4d5e-a805-abf3ae8ced26"
      },
      "source": [
        "# Compare Algorithms\n",
        "fig = plt.figure(figsize=(10,8))\n",
        "fig.suptitle('Algorithm Comparison')\n",
        "ax = fig.add_subplot(111)\n",
        "plt.boxplot(results)\n",
        "ax.set_xticklabels(names)\n",
        "plt.show()"
      ],
      "execution_count": 108,
      "outputs": [
        {
          "output_type": "display_data",
          "data": {
            "text/plain": [
              "<Figure size 720x576 with 1 Axes>"
            ],
            "image/png": "[encoded data removed]"
          },
          "metadata": {
            "needs_background": "light"
          }
        }
      ]
    },
    {
      "cell_type": "markdown",
      "metadata": {
        "id": "-RGUtPLnseTc"
      },
      "source": [
        "Best Perfromance on Single Split"
      ]
    },
    {
      "cell_type": "code",
      "metadata": {
        "colab": {
          "base_uri": "https://localhost:8080/"
        },
        "id": "wFNEs5ZVse0N",
        "outputId": "f526d75f-e88a-49bd-acdf-6d8f20a7d753"
      },
      "source": [
        "rf.fit(X_train, y_train)"
      ],
      "execution_count": 109,
      "outputs": [
        {
          "output_type": "execute_result",
          "data": {
            "text/plain": [
              "RandomForestClassifier(max_depth=10, min_samples_leaf=2, min_samples_split=3,\n",
              "                       n_estimators=500, random_state=10)"
            ]
          },
          "metadata": {},
          "execution_count": 109
        }
      ]
    },
    {
      "cell_type": "code",
      "metadata": {
        "id": "nqTn2y3fsqT8"
      },
      "source": [
        "y_pred = rf.predict(X_valid)"
      ],
      "execution_count": 110,
      "outputs": []
    },
    {
      "cell_type": "code",
      "metadata": {
        "id": "idyED4dOss6B"
      },
      "source": [
        "y_pred_proba = rf.predict_proba(X_valid)\n",
        "y_pred_proba = y_pred_proba[: ][: , 1]"
      ],
      "execution_count": 111,
      "outputs": []
    },
    {
      "cell_type": "code",
      "metadata": {
        "colab": {
          "base_uri": "https://localhost:8080/"
        },
        "id": "Drwn11qPsv8N",
        "outputId": "ff103ba5-602f-4ec5-cc4f-6fb10591e5cd"
      },
      "source": [
        "roc_auc_score(y_valid, y_pred_proba)"
      ],
      "execution_count": 112,
      "outputs": [
        {
          "output_type": "execute_result",
          "data": {
            "text/plain": [
              "0.7603514242745931"
            ]
          },
          "metadata": {},
          "execution_count": 112
        }
      ]
    },
    {
      "cell_type": "markdown",
      "metadata": {
        "id": "bnjRbuiHtg5l"
      },
      "source": [
        "## Imbalanced Classification Problem"
      ]
    },
    {
      "cell_type": "code",
      "metadata": {
        "id": "XDG96nT5tFru"
      },
      "source": [
        ""
      ],
      "execution_count": 112,
      "outputs": []
    },
    {
      "cell_type": "code",
      "metadata": {
        "id": "HzW2Afmttwv8"
      },
      "source": [
        "samp = RandomOverSampler()"
      ],
      "execution_count": 113,
      "outputs": []
    },
    {
      "cell_type": "code",
      "metadata": {
        "colab": {
          "base_uri": "https://localhost:8080/"
        },
        "id": "7-eJkP0GtysV",
        "outputId": "61839dad-e82b-4cb0-a7d8-413116d8a403"
      },
      "source": [
        "y_train.value_counts()"
      ],
      "execution_count": 114,
      "outputs": [
        {
          "output_type": "execute_result",
          "data": {
            "text/plain": [
              "0    17279\n",
              "1     5023\n",
              "Name: default_not, dtype: int64"
            ]
          },
          "metadata": {},
          "execution_count": 114
        }
      ]
    },
    {
      "cell_type": "code",
      "metadata": {
        "id": "79OYwJv3t80n"
      },
      "source": [
        "X_train_resampled, y_train_resampled = samp.fit_resample(X_train, y_train)"
      ],
      "execution_count": 115,
      "outputs": []
    },
    {
      "cell_type": "code",
      "metadata": {
        "colab": {
          "base_uri": "https://localhost:8080/"
        },
        "id": "xwh8qqG3uAlW",
        "outputId": "2d19d71c-5c37-4651-d00b-62a36d9fb0f8"
      },
      "source": [
        "print(sorted(Counter(y_train_resampled).items()))"
      ],
      "execution_count": 116,
      "outputs": [
        {
          "output_type": "stream",
          "name": "stdout",
          "text": [
            "[(0, 17279), (1, 17279)]\n"
          ]
        }
      ]
    },
    {
      "cell_type": "code",
      "metadata": {
        "colab": {
          "base_uri": "https://localhost:8080/"
        },
        "id": "7DlX1Me3uCv8",
        "outputId": "4c80d13a-0185-4875-abc6-92be91b152ca"
      },
      "source": [
        "rf.fit(X_train_resampled, y_train_resampled)"
      ],
      "execution_count": 117,
      "outputs": [
        {
          "output_type": "execute_result",
          "data": {
            "text/plain": [
              "RandomForestClassifier(max_depth=10, min_samples_leaf=2, min_samples_split=3,\n",
              "                       n_estimators=500, random_state=10)"
            ]
          },
          "metadata": {},
          "execution_count": 117
        }
      ]
    },
    {
      "cell_type": "code",
      "metadata": {
        "id": "HlfIZjmPuVLo"
      },
      "source": [
        "y_pred_proba = rf.predict_proba(X_valid)\n",
        "y_pred_proba = y_pred_proba[: ][: , 1]"
      ],
      "execution_count": 118,
      "outputs": []
    },
    {
      "cell_type": "code",
      "metadata": {
        "id": "AZLYbQdOua2f"
      },
      "source": [
        "y_pred = rf.predict(X_valid)"
      ],
      "execution_count": 119,
      "outputs": []
    },
    {
      "cell_type": "code",
      "metadata": {
        "colab": {
          "base_uri": "https://localhost:8080/"
        },
        "id": "S4ylB48JukT8",
        "outputId": "3e63cc88-7189-4dd8-963a-8b25da89c833"
      },
      "source": [
        "roc_auc_score(y_valid, y_pred_proba)"
      ],
      "execution_count": 120,
      "outputs": [
        {
          "output_type": "execute_result",
          "data": {
            "text/plain": [
              "0.7563810376857749"
            ]
          },
          "metadata": {},
          "execution_count": 120
        }
      ]
    },
    {
      "cell_type": "markdown",
      "metadata": {
        "id": "SZ57ds65urQv"
      },
      "source": [
        "Its obvious Oversampling didn't help out score to improve"
      ]
    },
    {
      "cell_type": "markdown",
      "metadata": {
        "id": "FLVNrHRWu2BK"
      },
      "source": [
        "# ***Model Selection and Evaluation***"
      ]
    },
    {
      "cell_type": "code",
      "metadata": {
        "colab": {
          "base_uri": "https://localhost:8080/"
        },
        "id": "Lugvw7DWuo5L",
        "outputId": "2c96f3ea-3869-41b4-a673-887c4d2650f3"
      },
      "source": [
        "rf.fit(X_train, y_train)"
      ],
      "execution_count": 121,
      "outputs": [
        {
          "output_type": "execute_result",
          "data": {
            "text/plain": [
              "RandomForestClassifier(max_depth=10, min_samples_leaf=2, min_samples_split=3,\n",
              "                       n_estimators=500, random_state=10)"
            ]
          },
          "metadata": {},
          "execution_count": 121
        }
      ]
    },
    {
      "cell_type": "code",
      "metadata": {
        "id": "NCaBB9v8u-on"
      },
      "source": [
        "y_pred = rf.predict(X_valid) \n",
        "y_pred_proba = rf.predict_proba(X_valid)\n",
        "y_pred_proba = y_pred_proba[: ][: , 1]"
      ],
      "execution_count": 122,
      "outputs": []
    },
    {
      "cell_type": "markdown",
      "metadata": {
        "id": "12ejL2ztvIDv"
      },
      "source": [
        "#### Decision Boundary and Confusion Matrix"
      ]
    },
    {
      "cell_type": "code",
      "metadata": {
        "colab": {
          "base_uri": "https://localhost:8080/",
          "height": 406
        },
        "id": "VgTX8zf6vHSv",
        "outputId": "bc513149-faa5-4c5b-ecc3-c9a0011e2a90"
      },
      "source": [
        "cm = metrics.confusion_matrix(y_valid, y_pred)\n",
        "plt.figure(figsize=(8,6))\n",
        "sns.heatmap(cm, annot=True, fmt=\".2f\", linewidths=.5, square =True, cmap = 'Blues_r');\n",
        "plt.ylabel('Actual label')\n",
        "plt.xlabel('Predicted label')\n",
        "all_sample_title = 'Confusion Matrix'\n",
        "plt.title(all_sample_title, size = 15)\n",
        "plt.show()"
      ],
      "execution_count": 123,
      "outputs": [
        {
          "output_type": "display_data",
          "data": {
            "text/plain": [
              "<Figure size 576x432 with 2 Axes>"
            ],
            "image/png": "[encoded data removed]"
          },
          "metadata": {
            "needs_background": "light"
          }
        }
      ]
    },
    {
      "cell_type": "code",
      "metadata": {
        "colab": {
          "base_uri": "https://localhost:8080/"
        },
        "id": "GUs7e4ruvPBw",
        "outputId": "d7f4bc88-215d-40b3-bbeb-ad9e74f1c216"
      },
      "source": [
        "print(classification_report(y_valid, y_pred))"
      ],
      "execution_count": 124,
      "outputs": [
        {
          "output_type": "stream",
          "name": "stdout",
          "text": [
            "              precision    recall  f1-score   support\n",
            "\n",
            "           0       0.81      1.00      0.90      4320\n",
            "           1       1.00      0.21      0.35      1256\n",
            "\n",
            "    accuracy                           0.82      5576\n",
            "   macro avg       0.91      0.60      0.62      5576\n",
            "weighted avg       0.86      0.82      0.77      5576\n",
            "\n"
          ]
        }
      ]
    },
    {
      "cell_type": "code",
      "metadata": {
        "colab": {
          "base_uri": "https://localhost:8080/",
          "height": 406
        },
        "id": "oRwchOtWvSlt",
        "outputId": "1b6b85aa-b5e7-48e3-b817-ee373bbbbd6b"
      },
      "source": [
        "predictions = pd.concat([pd.DataFrame(y_pred), pd.DataFrame(y_pred_proba)], axis = 1)\n",
        "predictions.columns = ['y_pred', 'y_pred_proba']\n",
        "\n",
        "tr = 0.4\n",
        "# a new column with an indicator,\n",
        "# where every observation that has predicted probability greater than the threshold has a value of 1,\n",
        "# and every observation that has predicted probability lower than the threshold has a value of 0.\n",
        "predictions['y_pred'] = np.where(predictions['y_pred_proba'] > tr, 1, 0)\n",
        "\n",
        "cm = metrics.confusion_matrix(y_valid, predictions['y_pred'])\n",
        "plt.figure(figsize=(8,6))\n",
        "sns.heatmap(cm, annot=True, fmt=\".2f\", linewidths=.5, square =True, cmap = 'Blues_r');\n",
        "plt.ylabel('Actual label')\n",
        "plt.xlabel('Predicted label')\n",
        "all_sample_title = 'Confusion Matrix'\n",
        "plt.title(all_sample_title, size = 15)\n",
        "plt.show()"
      ],
      "execution_count": 125,
      "outputs": [
        {
          "output_type": "display_data",
          "data": {
            "text/plain": [
              "<Figure size 576x432 with 2 Axes>"
            ],
            "image/png": "[encoded data removed]"
          },
          "metadata": {
            "needs_background": "light"
          }
        }
      ]
    },
    {
      "cell_type": "code",
      "metadata": {
        "colab": {
          "base_uri": "https://localhost:8080/"
        },
        "id": "dIjhgV_Oveql",
        "outputId": "347c58c3-e15b-4579-a33a-ae285548e1a8"
      },
      "source": [
        "print(classification_report(y_valid, predictions['y_pred']))"
      ],
      "execution_count": 126,
      "outputs": [
        {
          "output_type": "stream",
          "name": "stdout",
          "text": [
            "              precision    recall  f1-score   support\n",
            "\n",
            "           0       0.81      1.00      0.90      4320\n",
            "           1       0.98      0.21      0.35      1256\n",
            "\n",
            "    accuracy                           0.82      5576\n",
            "   macro avg       0.90      0.61      0.62      5576\n",
            "weighted avg       0.85      0.82      0.77      5576\n",
            "\n"
          ]
        }
      ]
    },
    {
      "cell_type": "markdown",
      "metadata": {
        "id": "bG5x9kOavnXc"
      },
      "source": [
        "#### ROC Curve"
      ]
    },
    {
      "cell_type": "code",
      "metadata": {
        "colab": {
          "base_uri": "https://localhost:8080/",
          "height": 295
        },
        "id": "fCHWd3C4vin0",
        "outputId": "1beafbbc-2114-4902-9c05-3007895f0b55"
      },
      "source": [
        "plot_roc(y_valid, y_pred_proba)"
      ],
      "execution_count": 127,
      "outputs": [
        {
          "output_type": "display_data",
          "data": {
            "text/plain": [
              "<Figure size 432x288 with 1 Axes>"
            ],
            "image/png": "[encoded data removed]"
          },
          "metadata": {
            "needs_background": "light"
          }
        }
      ]
    },
    {
      "cell_type": "markdown",
      "metadata": {
        "id": "d9Jav4nLvs5h"
      },
      "source": [
        "#### AUC score and Gini "
      ]
    },
    {
      "cell_type": "code",
      "metadata": {
        "colab": {
          "base_uri": "https://localhost:8080/"
        },
        "id": "UcEmQvMpvptD",
        "outputId": "24762dfc-3377-4bcd-84db-454c83cb4633"
      },
      "source": [
        "AUC_score = roc_auc_score(y_valid, y_pred_proba)\n",
        "print(\"AUC Score: \", AUC_score)"
      ],
      "execution_count": 128,
      "outputs": [
        {
          "output_type": "stream",
          "name": "stdout",
          "text": [
            "AUC Score:  0.7603514242745931\n"
          ]
        }
      ]
    },
    {
      "cell_type": "code",
      "metadata": {
        "colab": {
          "base_uri": "https://localhost:8080/"
        },
        "id": "JLcziKAHvvhd",
        "outputId": "31f70759-7862-4d40-e97b-75e9b79d3a63"
      },
      "source": [
        "Gini = AUC_score * 2 - 1\n",
        "# Here we calculate Gini from AUROC.\n",
        "print(\"Gini Coefficient: \", Gini)"
      ],
      "execution_count": 129,
      "outputs": [
        {
          "output_type": "stream",
          "name": "stdout",
          "text": [
            "Gini Coefficient:  0.5207028485491862\n"
          ]
        }
      ]
    },
    {
      "cell_type": "markdown",
      "metadata": {
        "id": "uYkwfj8RwLtF"
      },
      "source": [
        "# **Predictions**"
      ]
    },
    {
      "cell_type": "code",
      "metadata": {
        "id": "7kKdZv1yz78f"
      },
      "source": [
        "testsub = 'credit_test.csv'\n",
        "testsub = pd.read_csv(testsub,  sep=',', low_memory=False)"
      ],
      "execution_count": 130,
      "outputs": []
    },
    {
      "cell_type": "code",
      "metadata": {
        "id": "DOirT5dfwLBd"
      },
      "source": [
        "y_pred = rf.predict(test) \n",
        "y_pred_proba = rf.predict_proba(test)\n",
        "y_pred_proba = y_pred_proba[: ][: , 1]"
      ],
      "execution_count": 131,
      "outputs": []
    },
    {
      "cell_type": "code",
      "metadata": {
        "id": "YZsOYtvjv5jj"
      },
      "source": [
        "y_pred_proba/=10"
      ],
      "execution_count": 132,
      "outputs": []
    },
    {
      "cell_type": "code",
      "metadata": {
        "colab": {
          "base_uri": "https://localhost:8080/"
        },
        "id": "EZoZ8cK5xO3x",
        "outputId": "eb9c470f-5005-4239-db81-5e1c90b6c7c3"
      },
      "source": [
        "y_pred_proba.shape"
      ],
      "execution_count": 133,
      "outputs": [
        {
          "output_type": "execute_result",
          "data": {
            "text/plain": [
              "(10353,)"
            ]
          },
          "metadata": {},
          "execution_count": 133
        }
      ]
    },
    {
      "cell_type": "code",
      "metadata": {
        "id": "4ymB2VrByNw2"
      },
      "source": [
        "testsub['Probability_of_default'] = y_pred_proba"
      ],
      "execution_count": 134,
      "outputs": []
    },
    {
      "cell_type": "code",
      "metadata": {
        "colab": {
          "base_uri": "https://localhost:8080/",
          "height": 206
        },
        "id": "p_JhSSW50NEt",
        "outputId": "bcaa5d11-3fd1-4bd7-b559-da4d46804c94"
      },
      "source": [
        "testsubi = testsub[['Customer ID', 'Probability_of_default']]\n",
        "testsubi.head()"
      ],
      "execution_count": 135,
      "outputs": [
        {
          "output_type": "execute_result",
          "data": {
            "text/plain": [
              "                            Customer ID  Probability_of_default\n",
              "0  ded0b3c3-6bf4-4091-8726-47039f2c1b90                0.013619\n",
              "1  1630e6e3-34e3-461a-8fda-09297d3140c8                0.016436\n",
              "2  2c60938b-ad2b-4702-804d-eeca43949c52                0.020033\n",
              "3  12116614-2f3c-4d16-ad34-d92883718806                0.022551\n",
              "4  39888105-fd5f-4023-860a-30a3e6f5ccb7                0.015330"
            ],
            "text/html": [
              "\n",
              "  <div id=\"df-5fd3973a-76c0-4d29-9f7a-463e6539abd4\">\n",
              "    <div class=\"colab-df-container\">\n",
              "      <div>\n",
              "<style scoped>\n",
              "    .dataframe tbody tr th:only-of-type {\n",
              "        vertical-align: middle;\n",
              "    }\n",
              "\n",
              "    .dataframe tbody tr th {\n",
              "        vertical-align: top;\n",
              "    }\n",
              "\n",
              "    .dataframe thead th {\n",
              "        text-align: right;\n",
              "    }\n",
              "</style>\n",
              "<table border=\"1\" class=\"dataframe\">\n",
              "  <thead>\n",
              "    <tr style=\"text-align: right;\">\n",
              "      <th></th>\n",
              "      <th>Customer ID</th>\n",
              "      <th>Probability_of_default</th>\n",
              "    </tr>\n",
              "  </thead>\n",
              "  <tbody>\n",
              "    <tr>\n",
              "      <th>0</th>\n",
              "      <td>ded0b3c3-6bf4-4091-8726-47039f2c1b90</td>\n",
              "      <td>0.013619</td>\n",
              "    </tr>\n",
              "    <tr>\n",
              "      <th>1</th>\n",
              "      <td>1630e6e3-34e3-461a-8fda-09297d3140c8</td>\n",
              "      <td>0.016436</td>\n",
              "    </tr>\n",
              "    <tr>\n",
              "      <th>2</th>\n",
              "      <td>2c60938b-ad2b-4702-804d-eeca43949c52</td>\n",
              "      <td>0.020033</td>\n",
              "    </tr>\n",
              "    <tr>\n",
              "      <th>3</th>\n",
              "      <td>12116614-2f3c-4d16-ad34-d92883718806</td>\n",
              "      <td>0.022551</td>\n",
              "    </tr>\n",
              "    <tr>\n",
              "      <th>4</th>\n",
              "      <td>39888105-fd5f-4023-860a-30a3e6f5ccb7</td>\n",
              "      <td>0.015330</td>\n",
              "    </tr>\n",
              "  </tbody>\n",
              "</table>\n",
              "</div>\n",
              "      <button class=\"colab-df-convert\" onclick=\"convertToInteractive('df-5fd3973a-76c0-4d29-9f7a-463e6539abd4')\"\n",
              "              title=\"Convert this dataframe to an interactive table.\"\n",
              "              style=\"display:none;\">\n",
              "        \n",
              "  <svg xmlns=\"http://www.w3.org/2000/svg\" height=\"24px\"viewBox=\"0 0 24 24\"\n",
              "       width=\"24px\">\n",
              "    <path d=\"M0 0h24v24H0V0z\" fill=\"none\"/>\n",
              "    <path d=\"M18.56 5.44l.94 2.06.94-2.06 2.06-.94-2.06-.94-.94-2.06-.94 2.06-2.06.94zm-11 1L8.5 8.5l.94-2.06 2.06-.94-2.06-.94L8.5 2.5l-.94 2.06-2.06.94zm10 10l.94 2.06.94-2.06 2.06-.94-2.06-.94-.94-2.06-.94 2.06-2.06.94z\"/><path d=\"M17.41 7.96l-1.37-1.37c-.4-.4-.92-.59-1.43-.59-.52 0-1.04.2-1.43.59L10.3 9.45l-7.72 7.72c-.78.78-.78 2.05 0 2.83L4 21.41c.39.39.9.59 1.41.59.51 0 1.02-.2 1.41-.59l7.78-7.78 2.81-2.81c.8-.78.8-2.07 0-2.86zM5.41 20L4 18.59l7.72-7.72 1.47 1.35L5.41 20z\"/>\n",
              "  </svg>\n",
              "      </button>\n",
              "      \n",
              "  <style>\n",
              "    .colab-df-container {\n",
              "      display:flex;\n",
              "      flex-wrap:wrap;\n",
              "      gap: 12px;\n",
              "    }\n",
              "\n",
              "    .colab-df-convert {\n",
              "      background-color: #E8F0FE;\n",
              "      border: none;\n",
              "      border-radius: 50%;\n",
              "      cursor: pointer;\n",
              "      display: none;\n",
              "      fill: #1967D2;\n",
              "      height: 32px;\n",
              "      padding: 0 0 0 0;\n",
              "      width: 32px;\n",
              "    }\n",
              "\n",
              "    .colab-df-convert:hover {\n",
              "      background-color: #E2EBFA;\n",
              "      box-shadow: 0px 1px 2px rgba(60, 64, 67, 0.3), 0px 1px 3px 1px rgba(60, 64, 67, 0.15);\n",
              "      fill: #174EA6;\n",
              "    }\n",
              "\n",
              "    [theme=dark] .colab-df-convert {\n",
              "      background-color: #3B4455;\n",
              "      fill: #D2E3FC;\n",
              "    }\n",
              "\n",
              "    [theme=dark] .colab-df-convert:hover {\n",
              "      background-color: #434B5C;\n",
              "      box-shadow: 0px 1px 3px 1px rgba(0, 0, 0, 0.15);\n",
              "      filter: drop-shadow(0px 1px 2px rgba(0, 0, 0, 0.3));\n",
              "      fill: #FFFFFF;\n",
              "    }\n",
              "  </style>\n",
              "\n",
              "      <script>\n",
              "        const buttonEl =\n",
              "          document.querySelector('#df-5fd3973a-76c0-4d29-9f7a-463e6539abd4 button.colab-df-convert');\n",
              "        buttonEl.style.display =\n",
              "          google.colab.kernel.accessAllowed ? 'block' : 'none';\n",
              "\n",
              "        async function convertToInteractive(key) {\n",
              "          const element = document.querySelector('#df-5fd3973a-76c0-4d29-9f7a-463e6539abd4');\n",
              "          const dataTable =\n",
              "            await google.colab.kernel.invokeFunction('convertToInteractive',\n",
              "                                                     [key], {});\n",
              "          if (!dataTable) return;\n",
              "\n",
              "          const docLinkHtml = 'Like what you see? Visit the ' +\n",
              "            '<a target=\"_blank\" href=https://colab.research.google.com/notebooks/data_table.ipynb>data table notebook</a>'\n",
              "            + ' to learn more about interactive tables.';\n",
              "          element.innerHTML = '';\n",
              "          dataTable['output_type'] = 'display_data';\n",
              "          await google.colab.output.renderOutput(dataTable, element);\n",
              "          const docLink = document.createElement('div');\n",
              "          docLink.innerHTML = docLinkHtml;\n",
              "          element.appendChild(docLink);\n",
              "        }\n",
              "      </script>\n",
              "    </div>\n",
              "  </div>\n",
              "  "
            ]
          },
          "metadata": {},
          "execution_count": 135
        }
      ]
    },
    {
      "cell_type": "markdown",
      "metadata": {
        "id": "Pkjs4zyQ_n6L"
      },
      "source": [
        "## **5. Evaluation of result**"
      ]
    },
    {
      "cell_type": "markdown",
      "metadata": {
        "id": "Hn6kls6C0eKp"
      },
      "source": [
        "From the above, we were able to solve an important Business problem in regards to Loan issuance for financial institution to customer. The model has a probability score given to each customer that range from 0.002 to 0.08. The lower the score the higher the risk for that customer. This score range helps checkmate if a given customer is liable to default if given loan.\n",
        "However, there are few things to take into consideration:\n",
        "1. There is still avenue to improve model performance such as conducting another Feature engineering and the above method didn't have a strong use for the model\n",
        "\n",
        "2. Missing value as we understand that all columns has missing values. Most importantly, credit score column has a distinct missing value which affect the rest of the data as well. This should be avoided as it is an important feature and filling it brings bias to our model which leads to error in predicting possible customer that will default. This is as a result of Missing not at random. Other columns such as current loan amount, annual income, Months since last delinquent and Bankruptcies among others also had missing values with will practically make our model predict wrongly.\n",
        "\n",
        "3. The imbalance nature of the dataset in regard to **default_not** column is high and this is another major reason why the model is performing badly in recall for default class. A more better approch could be to use statistical method to resample the data to help solve Imbalance case. Also, we could try Undersampling to see if this could work,.\n",
        "\n",
        "3. we could also do hyperparameter on the selected algorithm and create a robust pipeline to enable model work freely in production environment but due to time it is best to maintain this method."
      ]
    },
    {
      "cell_type": "markdown",
      "metadata": {
        "id": "eID3PGTY6Jd4"
      },
      "source": [
        ""
      ]
    },
    {
      "cell_type": "code",
      "metadata": {
        "id": "aE9kdEWy0ZRS"
      },
      "source": [
        ""
      ],
      "execution_count": 135,
      "outputs": []
    }
  ]
}